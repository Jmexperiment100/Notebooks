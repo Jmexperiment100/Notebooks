{
  "nbformat": 4,
  "nbformat_minor": 0,
  "metadata": {
    "colab": {
      "name": "Email-clasificador-tf2-v0",
      "provenance": [],
      "collapsed_sections": [],
      "toc_visible": true
    },
    "kernelspec": {
      "name": "python3",
      "display_name": "Python 3"
    }
  },
  "cells": [
    {
      "cell_type": "code",
      "metadata": {
        "id": "ezZlXlIzlxF-",
        "colab_type": "code",
        "outputId": "9aff5a56-18c1-4f8e-c9b0-5c561e657474",
        "colab": {
          "base_uri": "https://localhost:8080/",
          "height": 51
        }
      },
      "source": [
        "%tensorflow_version 2.x\n",
        "import tensorflow as tf\n",
        "import pandas as pd\n",
        "from numpy import dtype\n",
        "!pip install pymysql\n",
        "import sqlalchemy as db\n",
        "import tarfile\n",
        "import yaml\n",
        "import tensorflow_datasets as tfds\n",
        "import keras\n",
        "from keras.layers import Input, Dense, concatenate\n",
        "from keras.models import Model\n",
        "import numpy as np"
      ],
      "execution_count": 0,
      "outputs": [
        {
          "output_type": "stream",
          "text": [
            "Requirement already satisfied: pymysql in /usr/local/lib/python3.6/dist-packages (0.9.3)\n"
          ],
          "name": "stdout"
        },
        {
          "output_type": "stream",
          "text": [
            "Using TensorFlow backend.\n"
          ],
          "name": "stderr"
        }
      ]
    },
    {
      "cell_type": "code",
      "metadata": {
        "id": "mt99fBs9mHaB",
        "colab_type": "code",
        "colab": {}
      },
      "source": [
        "type_mappings = {dtype('int64'): 'numerical', dtype('float64'): 'numerical', dtype('object'): 'string', dtype('bool'): 'binary'}"
      ],
      "execution_count": 0,
      "outputs": []
    },
    {
      "cell_type": "code",
      "metadata": {
        "id": "KXlfBJjVmPng",
        "colab_type": "code",
        "outputId": "7e72df35-19f7-4ee6-f1a6-f8f14c60e516",
        "colab": {
          "base_uri": "https://localhost:8080/",
          "height": 204
        }
      },
      "source": [
        "url = 'mysql+pymysql://dataset:Aquinoentras22@@51.15.95.84/socialhuman'  #or get from a kafka topic....\n",
        "table = 'emails'  #this could be a view to pick up rolling 6 months of data to support re-training\n",
        "engine = db.create_engine(url)\n",
        "query=\"select senderaddress, subject,JSON_SEARCH(folderlabel,'one', 'CATEGORY_SOCIAL') IS NOT null AS issocial from socialhuman.emails WHERE (JSON_SEARCH(folderlabel,'one', 'CATEGORY_SOCIAL') IS NOT NULL OR JSON_SEARCH(folderlabel,'one', 'CATEGORY_UPDATES') IS NOT NULL)  ORDER BY RAND() LIMIT 1000\"\n",
        "df = pd.read_sql_query(query, engine)\n",
        "df_test = pd.read_sql_query(\"select senderaddress,subject from socialhuman.emails WHERE (JSON_SEARCH(folderlabel,'one', 'CATEGORY_SOCIAL') IS NOT NULL OR JSON_SEARCH(folderlabel,'one', 'CATEGORY_UPDATES') IS NOT NULL)  ORDER BY RAND() LIMIT 10\", engine)\n",
        "df['issocial'] = df['issocial'].astype('bool')\n",
        "target = 'issocial'\n",
        "df.head()"
      ],
      "execution_count": 0,
      "outputs": [
        {
          "output_type": "execute_result",
          "data": {
            "text/html": [
              "<div>\n",
              "<style scoped>\n",
              "    .dataframe tbody tr th:only-of-type {\n",
              "        vertical-align: middle;\n",
              "    }\n",
              "\n",
              "    .dataframe tbody tr th {\n",
              "        vertical-align: top;\n",
              "    }\n",
              "\n",
              "    .dataframe thead th {\n",
              "        text-align: right;\n",
              "    }\n",
              "</style>\n",
              "<table border=\"1\" class=\"dataframe\">\n",
              "  <thead>\n",
              "    <tr style=\"text-align: right;\">\n",
              "      <th></th>\n",
              "      <th>senderaddress</th>\n",
              "      <th>subject</th>\n",
              "      <th>issocial</th>\n",
              "    </tr>\n",
              "  </thead>\n",
              "  <tbody>\n",
              "    <tr>\n",
              "      <th>0</th>\n",
              "      <td>Twitter &lt;info@twitter.com&gt;</td>\n",
              "      <td>soundcloudify, no te prives de compartir</td>\n",
              "      <td>True</td>\n",
              "    </tr>\n",
              "    <tr>\n",
              "      <th>1</th>\n",
              "      <td>\"Jordan, GoDaddy Guide Team\" &lt;donotreply@godad...</td>\n",
              "      <td>Urgent: You're about to lose carmagazine.xyz o...</td>\n",
              "      <td>False</td>\n",
              "    </tr>\n",
              "    <tr>\n",
              "      <th>2</th>\n",
              "      <td>LinkedIn &lt;notifications-noreply@linkedin.com&gt;</td>\n",
              "      <td>Congratulate Laura Casal Fernández for...</td>\n",
              "      <td>True</td>\n",
              "    </tr>\n",
              "    <tr>\n",
              "      <th>3</th>\n",
              "      <td>\"Jack @ VYPER ⚡️\" &lt;jack@vyper.io&gt;</td>\n",
              "      <td>🔍 How to easily track your customers journey w...</td>\n",
              "      <td>False</td>\n",
              "    </tr>\n",
              "    <tr>\n",
              "      <th>4</th>\n",
              "      <td>Facebook &lt;notification@facebookmail.com&gt;</td>\n",
              "      <td>Consulta a quién le ha gustado tu página</td>\n",
              "      <td>True</td>\n",
              "    </tr>\n",
              "  </tbody>\n",
              "</table>\n",
              "</div>"
            ],
            "text/plain": [
              "                                       senderaddress  ... issocial\n",
              "0                         Twitter <info@twitter.com>  ...     True\n",
              "1  \"Jordan, GoDaddy Guide Team\" <donotreply@godad...  ...    False\n",
              "2      LinkedIn <notifications-noreply@linkedin.com>  ...     True\n",
              "3                  \"Jack @ VYPER ⚡️\" <jack@vyper.io>  ...    False\n",
              "4           Facebook <notification@facebookmail.com>  ...     True\n",
              "\n",
              "[5 rows x 3 columns]"
            ]
          },
          "metadata": {
            "tags": []
          },
          "execution_count": 3
        }
      ]
    },
    {
      "cell_type": "code",
      "metadata": {
        "id": "Muhw2Nr_mb5R",
        "colab_type": "code",
        "outputId": "6ed40339-06ad-46cd-82b4-a952808e4049",
        "colab": {
          "base_uri": "https://localhost:8080/",
          "height": 34
        }
      },
      "source": [
        "#code copied from ludwig as concept proof for a pseudo auto definition if dataset change, not apply now\n",
        "input_features = []\n",
        "\n",
        "\n",
        "for col in df.columns:\n",
        " if col == target:\n",
        "   continue\n",
        " n = df[col].name\n",
        " t = df[col].dtype\n",
        " input_features.append({'name': n, 'type': type_mappings[t]})\n",
        "\n",
        "print(input_features)\n",
        "model_def = {}\n",
        "model_def['input_features'] = input_features\n",
        "model_def['output_features'] =  [{'name': 'issocial', 'type': 'binary'}]\n",
        "model_def['training']=  {'batch_size': 100, 'epochs':1    }  "
      ],
      "execution_count": 0,
      "outputs": [
        {
          "output_type": "stream",
          "text": [
            "[{'name': 'senderaddress', 'type': 'string'}, {'name': 'subject', 'type': 'string'}]\n"
          ],
          "name": "stdout"
        }
      ]
    },
    {
      "cell_type": "code",
      "metadata": {
        "id": "KA77dv6jnVR4",
        "colab_type": "code",
        "colab": {}
      },
      "source": [
        ""
      ],
      "execution_count": 0,
      "outputs": []
    },
    {
      "cell_type": "code",
      "metadata": {
        "id": "XSOIQ2Etzz2m",
        "colab_type": "code",
        "outputId": "b4622d51-f64b-434a-f717-4297398d1c6a",
        "colab": {
          "base_uri": "https://localhost:8080/",
          "height": 122
        }
      },
      "source": [
        "lines_dataset = tf.data.TextLineDataset('/content/drive/My Drive/Colab Notebooks/sample_text.txt')\n",
        "for line in lines_dataset.take(5):\n",
        "  print(line.numpy())"
      ],
      "execution_count": 0,
      "outputs": [
        {
          "output_type": "stream",
          "text": [
            "b'dominio*****||*****seccion*****||*****url*****||*****title*****||*****tags*****||*****pretitle*****||*****posttitle*****||*****imagen_url*****||*****imagen_descripcion*****||*****texto'\n",
            "b'www.elconfidencial.com*****||*****mundo*****||*****https://www.elconfidencial.com/mundo/europa/2019-09-03/ultima-estocada-a-salvini-el-79-de-los-inscritos-del-m5s-apoya-la-nueva-coalicion_2208291/*****||*****Las bases del M5S apoyan por mayor\\xc3\\xada la coalici\\xc3\\xb3n de gobierno en Italia con el PD*****||*****Socialdemocracia|Movimiento 5 Estrellas|*****||*****\\xc3\\x9aLTIMA ESTOCADA A SALVINI*****||*****El 79% de los inscritos del Movimiento Cinco Estrellas (M5S) vot\\xc3\\xb3 hoy a favor del Gobierno en coalici\\xc3\\xb3n con el Partido Dem\\xc3\\xb3crata (PD), con Giuseppe Conte como primer ministro*****||*****https://www.ecestaticos.com/imagestatic/clipping/8b3/17c/8b317c51beca47d40dc5be6c8388e01a/el-gobierno-de-conte-ii-dara-un-respiro-a-italia-pero-no-lograra-frenar-a-salvini.jpg?mtime=1567021325*****||*****Luigi Di Maio, l\\xc3\\xadder del M5S. (Reuters)*****||*****La militancia de base del antisistema Movimiento 5 Estrellas (M5S) dio hoy su luz verde al nacimiento de un gobierno de coalici\\xc3\\xb3n con el Partido Democr\\xc3\\xa1tico y con Giuseppe Conte como primer ministro, eliminando as\\xc3\\xad uno de los  \\xc3\\xbaltimos obst\\xc3\\xa1culos a la resoluci\\xc3\\xb3n de la crisis pol\\xc3\\xadtica italiana. El 79,3 % de los 117.000 militantes del M5S con derecho a votar en su plataforma de internet -inscritos desde al menos seis meses antes- dieron luz verde al acuerdo con los socialdem\\xc3\\xb3cratas, que ambos partidos han estado negociando las \\xc3\\xbaltimas semanas. El resultado fue publicado en el blog oficial del partido antisistema una hora y media despu\\xc3\\xa9s de cerrarse las votaciones, y con certificaci\\xc3\\xb3n de notario, tras lo cual  Luigi Di Maio, el l\\xc3\\xadder del M5S , compareci\\xc3\\xb3 en conferencia de prensa en la C\\xc3\\xa1mara de Diputados para celebrar este resultado. \"Estoy muy orgulloso del voto de hoy, muy orgulloso del Gobierno que vendr\\xc3\\xa1\", dijo Di Maio, y agreg\\xc3\\xb3 que ahora \"lo importante es ponerse a trabajar\". Se\\xc3\\xb1al\\xc3\\xb3 que  el futuro Ejecutivo tendr\\xc3\\xa1 al Cinco Estrellas como \"la fuerza pol\\xc3\\xadtica de mayor\\xc3\\xada\"  y se congratul\\xc3\\xb3 de que \"se ha resuelto una crisis pol\\xc3\\xadtica in\\xc3\\xa9dita, en pleno agosto, a trav\\xc3\\xa9s de un m\\xc3\\xa9todo in\\xc3\\xa9dito\". Y reiter\\xc3\\xb3, como ya hab\\xc3\\xada se\\xc3\\xb1alado esta ma\\xc3\\xb1ana cuando se public\\xc3\\xb3 en el blog oficial el borrador, que \"todos nuestros puntos (de exigencias) entraron en el programa del gobierno\". Ataques a Salvini Di Maio volvi\\xc3\\xb3 a culpar a  su antiguo socio de Gobierno, el l\\xc3\\xadder de la ultraderechista Liga, Matteo Salvini,  de  haber causado esta crisis \"por irresponsabilidad\",  al dar por rota la anterior coalici\\xc3\\xb3n para reclamar unas elecciones que cre\\xc3\\xada que ganar\\xc3\\xada.  El l\\xc3\\xadder del M5E anunci\\xc3\\xb3 que \"en las pr\\xc3\\xb3ximas horas se conocer\\xc3\\xa1n los mejores perfiles\" para la lista de ministros que integrar\\xc3\\xa1n el gobierno de coalici\\xc3\\xb3n. El  secretario general del PD, Nicola Zingaretti , tambi\\xc3\\xa9n se congratul\\xc3\\xb3 del acuerdo y escribi\\xc3\\xb3 en Facebook: \"Ahora vanos a cambiar Italia\". Paralelamente al voto en internet, el M5S y el PD han estado cerrando los \\xc3\\xbaltimos flecos del programa de gobierno y acordando los nombres de los ministros, que a\\xc3\\xban no han trascendido. Los jefes de los grupos parlamentarios de los dos partidos volvieron a reunirse y el primer ministro encargado, Giuseppe Conte, deber\\xc3\\xa1 acudir ante el jefe del Estado,  Sergio Mattarella, a presentarle el programa y la lista de ministros . Esto ocurrir\\xc3\\xa1 ma\\xc3\\xb1ana, mi\\xc3\\xa9rcoles, y, si Mattarella da su aprobaci\\xc3\\xb3n, el jueves se producir\\xc3\\xada el juramento de los ministros y ya el viernes el Gobierno con Conte a la cabeza se someter\\xc3\\xa1 a la confianza de las dos C\\xc3\\xa1maras del Parlamento. Los presupuestos de la discordia Seg\\xc3\\xban el borrador del programa que se conoci\\xc3\\xb3 esta ma\\xc3\\xb1ana, se prev\\xc3\\xa9 la elaboraci\\xc3\\xb3n de unos  Presupuestos Generales para 2020 que ser\\xc3\\xa1n \"expansivos,  sin comprometer el equilibrio de las finanzas p\\xc3\\xbablicas\". Se se\\xc3\\xb1ala que intentar\\xc3\\xa1n  evitar el aumento del impuesto sobre el valor a\\xc3\\xb1adido (IVA)  desde el 1 de enero de 2020 (una exigencia del M5S) y trabajar\\xc3\\xa1n para aprobar pol\\xc3\\xadticas de ayudas a las familias con menos recursos y destinar mayor financiaci\\xc3\\xb3n para escuelas, universidades y asistencia social. Tambi\\xc3\\xa9n se comprometen a aprobar una ley que regule los impuestos sobre los beneficios de las multinacionales tecnol\\xc3\\xb3gicas para evitar casos de elusi\\xc3\\xb3n fiscal y no se menciona un impuesto fijo (que el M5S apoyaba con la Liga de Salvini), sino que se habla de \"bajar la carga impositiva\". Los bonos italianos en m\\xc3\\xadnimos hist\\xc3\\xb3ricos tras anunciarse el pacto de gobierno C. Raffin Movimiento 5 Estrellas y Partido Democr\\xc3\\xa1tico alcanzan un acuerdo que evita las nuevas elecciones en Italia y deja atr\\xc3\\xa1s la sombra de Salvini Hay puntos en los que siempre han estado cerca el M5S y PD, como \"la eliminaci\\xc3\\xb3n de todas las formas de desigualdad (social, territorial, de g\\xc3\\xa9nero)\" y se apela a la inclusi\\xc3\\xb3n de la protecci\\xc3\\xb3n del medio ambiente entre los principios fundamentales de la Constituci\\xc3\\xb3n. Sobre la UE, se se\\xc3\\xb1ala que \"necesitamos una Europa m\\xc3\\xa1s solidaria e inclusiva, cercana a los ciudadanos\". Y se relanza uno de los caballos de batalla del M5S: la ley para reducir el n\\xc3\\xbamero de parlamentarios, aunque sin decir en cu\\xc3\\xa1ntos. Diferencias sobre la Inmigraci\\xc3\\xb3n Sobre el conflictivo asunto de  la inmigraci\\xc3\\xb3n y la seguridad, que hasta ahora ha dividido al M5S y al PD , ya que el antisistema ha compartido la pol\\xc3\\xadtica de puertos cerrados impulsada por Salvini, se se\\xc3\\xb1ala en el programa que \"las leyes de seguridad tendr\\xc3\\xa1n que ser actualizadas con las recientes observaciones del presidente Mattarella\", que ha declarado que varias de las disposiciones van en contra de las leyes internacionales sobre el salvamento en el mar. El M5S ha conseguido incluir tambi\\xc3\\xa9n en el programa el objetivo de \"iniciar la revisi\\xc3\\xb3n de las concesiones de autopistas\", una alusi\\xc3\\xb3n a la concesionaria Autostrade, responsable del mantenimiento del puente de G\\xc3\\xa9nova que se derrumb\\xc3\\xb3 hace un a\\xc3\\xb1o causando 43 muertos.*****||*****'\n",
            "b'www.elconfidencial.com*****||*****alma-corazon-vida*****||*****https://www.elconfidencial.com/alma-corazon-vida/2018-11-19/mentira-identificar-sexo-mensaje_1649142/*****||*****C\\xc3\\xb3mo identificar r\\xc3\\xa1pido una mentira en un mensaje de texto*****||*****Virales|Sin censura|Sexo|*****||*****se coge antes a un mentiroso...*****||*****\\xc2\\xbfEs f\\xc3\\xa1cil pillar a un mentiroso? Cara a cara parece que s\\xc3\\xad, pero por el m\\xc3\\xb3vil la cosa cambia. \\xc2\\xbfY si te decimos que hay unas claves infalibles para lograr desenmascararlos?*****||*****https://www.ecestaticos.com/imagestatic/clipping/b2a/ad6/b2aad609fbc1005063849c773a978065/te-pueden-pillar-siendo-infiel-de-la-manera-mas-tonta-esta-historia-es-una-buena-prueba.jpg?mtime=1530524437*****||*****Foto: iStock.*****||*****Es un cl\\xc3\\xa1sico, y si buscamos en  internet  encontraremos miles de temas al respecto, lo que significa que nos interesa: \\xc2\\xbfes f\\xc3\\xa1cil pillar a un  mentiroso ? En persona, aparentemente, lo es gracias a sus  gestos .  Ya sabes lo que dicen , que si cruza las piernas, se rasca la nariz, mira a la derecha... no son pruebas infalibles, pero al menos nos pueden poner en preaviso. Pero, \\xc2\\xbfy si lo hace a trav\\xc3\\xa9s del  tel\\xc3\\xa9fono ? A menos que tu  pareja  te env\\xc3\\xade un mensaje diciendo que acaba de ver tres elefantes rosas bailando  vals  por la calle, es un poco dif\\xc3\\xadcil saber si realmente te est\\xc3\\xa1 diciendo la verdad o no en eso que te escribe. Sin embargo, la experta en citas australiana  Louanne Ward  lo tiene claro. Como cuenta a \\' Daily Mail \\': \"Hay pistas infalibles para  saber si te est\\xc3\\xa1 enga\\xc3\\xb1ando o no \". La ambig\\xc3\\xbcedad en las respuestas \"Por supuesto, es m\\xc3\\xa1s dif\\xc3\\xadcil pillar a un mentiroso  cara a cara , porque puedes captar su lenguaje corporal\" indica, \"sin embargo hay  m\\xc3\\xa9todos infalibles  para pillar a un mentiroso mediante un mensaje. Por ejemplo, busca  cu\\xc3\\xa1ntas veces se repiten las palabras  \\'quiz\\xc3\\xa1s\\', \\'probablemente\\', \\'podr\\xc3\\xada ser\\', \\'no estoy seguro/a\\', y cualquiera que se le parezca\". Seg\\xc3\\xban dice la experta, si le preguntas a alguien si le apetece quedar esa misma tarde, el mentiroso  contestar\\xc3\\xa1 vaguedades  del tipo: \"no s\\xc3\\xa9 muy bien a qu\\xc3\\xa9 hora acabar\\xc3\\xa9... probablemente no termine a tiempo... no estoy muy seguro...\", t\\xc3\\xba entonces solo tendr\\xc3\\xa1s que contar una a una todas las ambig\\xc3\\xbcedades. Esto, seg\\xc3\\xban Louanne, es porque es  muy dif\\xc3\\xadcil tapar una mentira con otra mentira , requiere una gran capacidad de inventiva, por lo tanto es mucho m\\xc3\\xa1s f\\xc3\\xa1cil contestar con ambivalencia. La mitoman\\xc3\\xada. Mentirosos compulsivos Por supuesto, con los mentirosos compulsivos sucede de otra manera. Generalmente, los mit\\xc3\\xb3manos tienden a inventar toda clase de  historias rocambolescas . Como dec\\xc3\\xada  Holden Caulfield  en \\' El guardi\\xc3\\xa1n entre el centeno \\': \"Soy el mentiroso m\\xc3\\xa1s  fant\\xc3\\xa1stico que puedan imaginarse . Es terrible. Si voy camino del quiosco a comprar una revista y alguien me pregunta que a d\\xc3\\xb3nde voy, soy capaz de decirle que voy a la \\xc3\\xb3pera\". Pero el modus operandi de estos individuos es diferente, no mienten para no ser descubiertos sino porque disfrutan haci\\xc3\\xa9ndolo. Quieren que se les  admire  por aquello que inventan. Soy el mentiroso m\\xc3\\xa1s fant\\xc3\\xa1stico. Si voy camino del quiosco puedo inventarme que voy a la \\xc3\\xb3pera Seg\\xc3\\xban cuenta Louanne Ward, cuando al que va a mentir (no al mentiroso compulsivo) se le pregunta algo, saldr\\xc3\\xa1 siempre con nueve t\\xc3\\xa1cticas que se cumplen a la perfecci\\xc3\\xb3n. Si las conoces, te ser\\xc3\\xa1 m\\xc3\\xa1s f\\xc3\\xa1cil reconocer esta clase de  comportamientos t\\xc3\\xb3xicos . Los odiosos nueve Primero, como hab\\xc3\\xadamos se\\xc3\\xb1alado,  la persona contestar\\xc3\\xa1 con vaguedades . A continuaci\\xc3\\xb3n,  intentar\\xc3\\xa1 desviar el tema de conversaci\\xc3\\xb3n . Por ejemplo, si le preguntas al mentiroso qu\\xc3\\xa9 hizo ayer por la noche, probablemente te conteste: \"Sal\\xc3\\xad a tomar una copa con estas... \\xc2\\xbfte acuerdas del nombre del libro que Laura nos recomend\\xc3\\xb3 el otro d\\xc3\\xada?\". Pero espera, no seamos desconfiados, puede que estuviera rumiando la pregunta desde hace un rato. Y a todo esto, \\xc2\\xbfcu\\xc3\\xa1l era el nombre del libro que nos recomend\\xc3\\xb3 Laura? Tarda mucho en contestar . De nuevo, tampoco nos pongamos paranoicos, igual es que est\\xc3\\xa1 distra\\xc3\\xaddo haciendo cualquier otro quehacer que ocupa nuestra vida diaria... \\xc2\\xbfo no? Elimina los pronombres personales . Esto es curioso cuando menos, porque da la sensaci\\xc3\\xb3n de que la persona piensa que quiz\\xc3\\xa1 a\\xc3\\xban le cobran por caracteres, como en los tiempos de los SMS. O que se ha quedado anclado en el fax. Quiz\\xc3\\xa1 tiene un alma antigua. Lo que est\\xc3\\xa1 claro, aparentemente, es que en lugar de decirte: \"sal\\xc3\\xad con Juan a tomar una copa\", te dir\\xc3\\xa1: \"Con Juan. De copas\". Vaya, vaya... \\xc2\\xa1Pillado! Pasa de la conversaci\\xc3\\xb3n cuando se le hace una pregunta . Volver\\xc3\\xa1 a la carga horas m\\xc3\\xa1s tarde pero sin contestar a la cuesti\\xc3\\xb3n principal, sino hablando de otra cosa. Esto no sabemos si es una prueba definitiva de que estamos hablando con un mentiroso, pero desde luego es exasperante. Utiliza demasiada empat\\xc3\\xada . Te dir\\xc3\\xa1 algo del estilo: \"Estoy con el jefe, que es un pesado, pero se va a alargar la cosa. Preferir\\xc3\\xada estar contigo mil veces\". A todos nos gusta que de vez en cuando nos doren la p\\xc3\\xadldora \\xc2\\xbfno? Usa detalles que no son relevantes . En este caso, seg\\xc3\\xban Louanne, la conversaci\\xc3\\xb3n transcurrir\\xc3\\xa1 de la siguiente manera: \"Ayer fuimos Ana y yo a comer pasta al sitio este que han abierto nuevo y que se encuentra debajo de una bolera en la que siempre sirven copas a tres euros, las bebidas que dan son de garraf\\xc3\\xb3n...\" a ver, para el carro. Te he preguntado qu\\xc3\\xa9 hiciste ayer, no un parte de todas las an\\xc3\\xa9cdotas que te han ocurrido desde tu nacimiento hasta hace cinco minutos. Utiliza demasiada informaci\\xc3\\xb3n . Esto es un poco como el punto anterior, en realidad, asi que poco queda por aclarar. Dile que \\'La historia interminable\\' te la sabes ya. Ponerse a la defensiva . Un cl\\xc3\\xa1sico, nadie le est\\xc3\\xa1 atacando, \\xc2\\xbfpor qu\\xc3\\xa9 de repente se pone as\\xc3\\xad? No te precipites Por tanto, seg\\xc3\\xban la experta,  estas son las claves  para descubrir a alguien que intenta enga\\xc3\\xb1arnos. Pero advierte que a pesar de todo no debes llegar a  conclusiones precipitadas . Vamos a ver, Louanne, acl\\xc3\\xa1rate. \\xc2\\xa1\\xc2\\xbfSe puede saber en qu\\xc3\\xa9 quedamos?!*****||*****'\n",
            "b'www.elconfidencial.com*****||*****mundo*****||*****https://www.elconfidencial.com/mundo/2019-06-19/arabia-saudi-khashoggi-onu-asesinato-crimen_2079247/*****||*****\"Vamos a por ti\": la ONU acusa a Arabia Saud\\xc3\\xad del crimen del periodista Khashoggi*****||*****ONU|Derechos humanos|Arabia Saud\\xc3\\xad|Monarqu\\xc3\\xada|Jamal Khashoggi|*****||*****ONU DENUNCIA UNA EJECUCI\\xc3\\x93N DELIBERADA *****||*****En 100 p\\xc3\\xa1ginas demoledoras, el an\\xc3\\xa1lisis de la ONU publicado el mi\\xc3\\xa9rcoles reconstruye mediante grabaciones los \\xc3\\xbaltimos momentos de Khashoggi en el interior del consulado saud\\xc3\\xad en Estambul*****||*****https://www.ecestaticos.com/imagestatic/clipping/67c/3fa/67c3fae70212896487d85ed6d4d32ddc/arabia-saudi-hace-pagos-millonarios-a-los-hijos-de-khashoggi-casas-10-000-mes.jpg?mtime=1554182910*****||*****Un cartel con la foto de Jamal Kashoggi. (Reuters)*****||*****Existe \"evidencia cre\\xc3\\xadble\" de que el pr\\xc3\\xadncipe  Mohammed bin Salam  y otros altos funcionarios saud\\xc3\\xades est\\xc3\\xa1n detr\\xc3\\xa1s de la muerte del periodista del \\'Washington Post\\' y cr\\xc3\\xadtico de la monarqu\\xc3\\xada  Jamal Khashoggi , concluy\\xc3\\xb3 un informe forense de Naciones Unidas tras la primera investigaci\\xc3\\xb3n independiente de los hechos. En 100 p\\xc3\\xa1ginas demoledoras, el an\\xc3\\xa1lisis de la ONU publicado el mi\\xc3\\xa9rcoles reconstruye mediante grabaciones los \\xc3\\xbaltimos momentos de Khashoggi en el interior del consulado saud\\xc3\\xad en Estambul, donde fue asesinado en octubre del a\\xc3\\xb1o pasado . \" Vamos a por ti \", se escuch\\xc3\\xb3 decir a uno de los funcionarios saud\\xc3\\xades que se enfrentaron al reportero. Cuando Khashoggi se neg\\xc3\\xb3 a cooperar, en los audios se perciben forcejeos y resuellos. La investigadora espcial de la ONU,  Agnes Callamard , explica que el an\\xc3\\xa1lisis de las grabaciones apunta a que el periodista podr\\xc3\\xada haber sido inyectado con alg\\xc3\\xban sedante y luego asfixiado con una bolsa de pl\\xc3\\xa1stico. \\xe2\\x80\\x9cLa conclusi\\xc3\\xb3n del investigador especial es que el se\\xc3\\xb1or Khashoggi ha sido v\\xc3\\xadctima de  una ejecuci\\xc3\\xb3n extrajudicial, deliberada y premeditada  por la que el estado de Arabia Saud\\xc3\\xad es responsable bajo las leyes internacionales de derechos humanos\", dijo Callamard, calificando la muerte como un \"crimen internacional\". Tenemos que llevarte Este nuevo informe aumenta la presi\\xc3\\xb3n sobre Riad, que  ha negado cualquier conocimiento previo sobre el asesinato de Kahshoggi  y alega que se trat\\xc3\\xb3 de una operaci\\xc3\\xb3n encubierta de la que el heredero del trono no estaba al tanto. Seg\\xc3\\xban la ONU, la investigaci\\xc3\\xb3n previa realizada por Turqu\\xc3\\xada y Arabia Saud\\xc3\\xad no sigui\\xc3\\xb3 los procedimientos internacionales para este tipo de casos y considera que las evidencias encontradas son suficientes para  reabrir el caso para examinar en profundidad el papel del pr\\xc3\\xadncipe y varios funcionarios saud\\xc3\\xades de alto nivel . Khashoggi, de 59 a\\xc3\\xb1os, resid\\xc3\\xada en Estados Unidos y viaj\\xc3\\xb3 a Estambul para  obtener unos papeles en el consulado que necesitaba para su boda  -evitando volar a su pa\\xc3\\xads natal por su seguridad-. El pr\\xc3\\xadncipe heredero de Arabia Saud\\xc3\\xad: \"Hay que usar una bala contra Khashoggi\" Efe En una conversaci\\xc3\\xb3n hizo esta advertencia si este no volv\\xc3\\xada al reino y dejaba de criticar a las autoridades de Arabia Saud\\xc3\\xad. La ONU afirma que su asesinato fue \"planeado\" por funcionarios saud\\xc3\\xades Las grabaciones los d\\xc3\\xadas previos en el consultado muestran c\\xc3\\xb3mo  un equipo de agentes saud\\xc3\\xades viajaron de Riad a la ciudad turca para recibir al periodista . En una de las conversaciones se escucha a un hombre decir el d\\xc3\\xada previo al asesinato: \"Una comisi\\xc3\\xb3n est\\xc3\\xa1 viniendo de Arabia Saud\\xc3\\xad ma\\xc3\\xb1ana. Tienen algo que hacer en el consulado (...) su trabajo dentro les llevar\\xc3\\xa1 dos o tres d\\xc3\\xadas\". Cuando el periodista lleg\\xc3\\xb3 al consulado, as las 1315h del 2 de octubre, varios agentes le interrogaron. \" Tenemos que llevarte de vuelta  (a Arabia Saud\\xc3\\xad). Hay una orden de la Interpol. La Interpol pide que te llevemos de regreso\", se escucha decir a unos de los funcionarios saud\\xc3\\xades. Los agentes trataron de que Khashoggi enviara unos mensajes desde su tel\\xc3\\xa9fono, a lo que \\xc3\\xa9l se rehus\\xc3\\xb3: \"\\xc2\\xbfQu\\xc3\\xa9 deber\\xc3\\xada decir? \\xc2\\xbfTe veo pronto? No puedo decir secuestro, as\\xc3\\xad que no escribir\\xc3\\xa9 nada\". El agente le contest\\xc3\\xb3: \"Escr\\xc3\\xadbalo, se\\xc3\\xb1or Jamal. Dese prisa y ay\\xc3\\xbadenos (...)  si no nos ayuda ya sabe lo que pasar\\xc3\\xa1 al final \".*****||*****'\n",
            "b'www.elconfidencial.com*****||*****elecciones-municipales-y-autonomicas*****||*****https://www.elconfidencial.com/elecciones-municipales-y-autonomicas/resultados/2019-05-26/loiu-escrutinio-recuento-26m_2030590/*****||*****Resultados de las elecciones municipales 2019 en Loiu*****||*****Resultados elecciones municipales 2019|*****||*****Uno de los mayores datos de participaci\\xc3\\xb3n*****||*****EAJ-PNV ser\\xc3\\xada la fuerza pol\\xc3\\xadtica preferida con un 70,03% de los votos, mientras que en segundo lugar aparecer\\xc3\\xada EH Bildu, con el 17,1%*****||*****https://www.ecestaticos.com/imagestatic/clipping/67c/3fa/67c3fae70212896487d85ed6d4d32ddc/arabia-saudi-hace-pagos-millonarios-a-los-hijos-de-khashoggi-casas-10-000-mes.jpg?mtime=1554182910*****||*****Elecciones municipales 2019. (EC)*****||*****EAJ-PNV ser\\xc3\\xada la fuerza pol\\xc3\\xadtica m\\xc3\\xa1s votada  en Loiu, al hacerse con nueve concejales cuando el recuento de las  elecciones municipales  llega al 100% de escrutinio, lo que supondr\\xc3\\xada uno m\\xc3\\xa1s que los registrados en la regi\\xc3\\xb3n durante los anteriores comicios. La formaci\\xc3\\xb3n nacionalista vasca se habr\\xc3\\xada hecho con el 70,03% de las papeletas, porcentaje que le valdr\\xc3\\xada para estar por delante de EH Bildu, que con dos ediles conseguir\\xc3\\xada el mismo n\\xc3\\xbamero que en las pasadas votaciones en el municipio, seg\\xc3\\xban los datos ofrecidos hasta el momento por el Ministerio del Interior.  La afluencia a las urnas ha sido superior  a la registrada durante la \\xc3\\xbaltima vez (68,36%), alcanzando el  73,26%  en la poblaci\\xc3\\xb3n \\xe2\\x80\\x9465,2% en el conjunto del pa\\xc3\\xads\\xe2\\x80\\x94. El dato depende, en gran medida, del ciclo pol\\xc3\\xadtico y de la distribuci\\xc3\\xb3n geogr\\xc3\\xa1fica, teniendo en cuenta que la abstenci\\xc3\\xb3n acusa niveles superiores en las zonas mar\\xc3\\xadtimas con respecto a las de interior. Conviene tener en cuenta que una gran asistencia durante las primeras horas de la jornada no se traslada necesariamente en una participaci\\xc3\\xb3n masiva al final del d\\xc3\\xada: as\\xc3\\xad por ejemplo, las elecciones generales de 1993 cuentan con el mejor registro a las 14:00 horas, con un 41,83%, pero acabaron como las quintas m\\xc3\\xa1s participativas.   Resultados en la provincia En el conjunto del pa\\xc3\\xads, el PP aparecer\\xc3\\xada como gran triunfador al aventajar a sus rivales en 2563 localidades. La formaci\\xc3\\xb3n nacionalista vasca encabezar\\xc3\\xada 51 municipalidades de Vizcaya, lo que le sit\\xc3\\xbaa por encima de EH Bildu, que ser\\xc3\\xada la formaci\\xc3\\xb3n con m\\xc3\\xa1s votos en 23 plazas; Adie, en uno; y Armendu, en uno. Estos son los partidos con mayor representaci\\xc3\\xb3n en la provincia: EAJ-PNV : 569 concejales (236856 votos). EH Bildu : 394 concejales (122097 votos). PSOE : 93 concejales (90918 votos). Elkarrekin Podemos : 39 concejales (47832 votos). PP : 15 concejales (30115 votos). En cualquier caso, los datos no son definitivos y habr\\xc3\\xa1 que esperar al final del escrutinio, que en 2015 tuvo lugar en torno a las 23:30 horas en el conjunto del pa\\xc3\\xads, pero que en esta ocasi\\xc3\\xb3n podr\\xc3\\xada llegar incluso m\\xc3\\xa1s tarde teniendo en cuenta que los colegios electorales de Italia cierran a las 23:00 horas y, hasta ese momento, no podr\\xc3\\xa1 hacerse p\\xc3\\xbablico el resultado de los comicios europeos, que precede a los locales y a los auton\\xc3\\xb3micos, por este orden. El recuento definitivo lo llevan a cabo las juntas electorales de zona por orden alfab\\xc3\\xa9tico de municipios y  no comienza hasta tres d\\xc3\\xadas despu\\xc3\\xa9s , de manera que los resultados oficiales se publican 40 d\\xc3\\xadas m\\xc3\\xa1s tarde en el Bolet\\xc3\\xadn Oficial del Estado (BOE). Resultados en otros municipios Vitoria-Gasteiz Alicante Barcelona Burgos C\\xc3\\xb3rdoba A Coru\\xc3\\xb1a Granada Irun San Sebasti\\xc3\\xa1n Logro\\xc3\\xb1o Madrid M\\xc3\\xa1laga Murcia Pamplona Santander Sevilla Valencia Valladolid Barakaldo Berango Bilbao Gatika Getxo Leioa Portugalete Sestao Urduliz Derio Erandio Sondika Zamudio Zaragoza*****||*****'\n"
          ],
          "name": "stdout"
        }
      ]
    },
    {
      "cell_type": "code",
      "metadata": {
        "id": "lsXEUXp9zqmB",
        "colab_type": "code",
        "colab": {}
      },
      "source": [
        "training_samples = 28\n",
        "INPUTS = ['seccion', 'title']\n",
        "INLEN = [255,500]\n",
        "OUTPUTS = ['tags']\n",
        "OUTLEN = [255]\n",
        "def parsing(line):\n",
        "  \"\"\"\n",
        "  Parse the file and split by category\n",
        "  \"\"\"\n",
        "  splitted = tf.strings.split(line, sep='*****||*****', maxsplit=9) \n",
        "  #tags = tf.strings.split(splitted[4], '|')\n",
        "  return (splitted[1], splitted[3]), splitted[4]\n",
        "\n",
        "\n"
      ],
      "execution_count": 0,
      "outputs": []
    },
    {
      "cell_type": "code",
      "metadata": {
        "id": "SkjOQ4xY1C-U",
        "colab_type": "code",
        "colab": {}
      },
      "source": [
        "parsed_data = lines_dataset.map(parsing)"
      ],
      "execution_count": 0,
      "outputs": []
    },
    {
      "cell_type": "code",
      "metadata": {
        "id": "qoDAqWDA1JlM",
        "colab_type": "code",
        "outputId": "5a8d4da7-8999-4e45-d053-6ce24eb080de",
        "colab": {
          "base_uri": "https://localhost:8080/",
          "height": 122
        }
      },
      "source": [
        "for line in parsed_data.take(5):\n",
        "  print(line)"
      ],
      "execution_count": 0,
      "outputs": [
        {
          "output_type": "stream",
          "text": [
            "((<tf.Tensor: shape=(), dtype=string, numpy=b'seccion'>, <tf.Tensor: shape=(), dtype=string, numpy=b'title'>), <tf.Tensor: shape=(), dtype=string, numpy=b'tags'>)\n",
            "((<tf.Tensor: shape=(), dtype=string, numpy=b'mundo'>, <tf.Tensor: shape=(), dtype=string, numpy=b'Las bases del M5S apoyan por mayor\\xc3\\xada la coalici\\xc3\\xb3n de gobierno en Italia con el PD'>), <tf.Tensor: shape=(), dtype=string, numpy=b'Socialdemocracia|Movimiento 5 Estrellas|'>)\n",
            "((<tf.Tensor: shape=(), dtype=string, numpy=b'alma-corazon-vida'>, <tf.Tensor: shape=(), dtype=string, numpy=b'C\\xc3\\xb3mo identificar r\\xc3\\xa1pido una mentira en un mensaje de texto'>), <tf.Tensor: shape=(), dtype=string, numpy=b'Virales|Sin censura|Sexo|'>)\n",
            "((<tf.Tensor: shape=(), dtype=string, numpy=b'mundo'>, <tf.Tensor: shape=(), dtype=string, numpy=b'\"Vamos a por ti\": la ONU acusa a Arabia Saud\\xc3\\xad del crimen del periodista Khashoggi'>), <tf.Tensor: shape=(), dtype=string, numpy=b'ONU|Derechos humanos|Arabia Saud\\xc3\\xad|Monarqu\\xc3\\xada|Jamal Khashoggi|'>)\n",
            "((<tf.Tensor: shape=(), dtype=string, numpy=b'elecciones-municipales-y-autonomicas'>, <tf.Tensor: shape=(), dtype=string, numpy=b'Resultados de las elecciones municipales 2019 en Loiu'>), <tf.Tensor: shape=(), dtype=string, numpy=b'Resultados elecciones municipales 2019|'>)\n"
          ],
          "name": "stdout"
        }
      ]
    },
    {
      "cell_type": "code",
      "metadata": {
        "id": "UAhZFUQo1bWt",
        "colab_type": "code",
        "colab": {}
      },
      "source": [
        "##pte ver que hace num_words\n",
        "tags_tokenizer = tf.keras.preprocessing.text.Tokenizer(num_words=255, split='|')\n",
        "section_tokenizer = tf.keras.preprocessing.text.Tokenizer(num_words=255)\n",
        "title_tokenizer = tf.keras.preprocessing.text.Tokenizer(num_words=500)\n",
        "tags_vocabulary_set = set()\n",
        "section_vocabulary_set = set()\n",
        "title_vocabulary_set = set()"
      ],
      "execution_count": 0,
      "outputs": []
    },
    {
      "cell_type": "code",
      "metadata": {
        "id": "yCufY1eZ1iWR",
        "colab_type": "code",
        "colab": {}
      },
      "source": [
        "\n",
        "for (section, title), tags in parsed_data.skip(1).take(training_samples):\n",
        "  tags_vocabulary_set.update([tags.numpy().decode()])\n",
        "  section_vocabulary_set.update([section.numpy().decode()])\n",
        "  title_vocabulary_set.update([title.numpy().decode()])"
      ],
      "execution_count": 0,
      "outputs": []
    },
    {
      "cell_type": "code",
      "metadata": {
        "id": "dQPpEozN14lO",
        "colab_type": "code",
        "colab": {}
      },
      "source": [
        "\n",
        "tags_tokenizer.fit_on_texts(list(tags_vocabulary_set))\n",
        "section_tokenizer.fit_on_texts(list(section_vocabulary_set))\n",
        "title_tokenizer.fit_on_texts(list(title_vocabulary_set))"
      ],
      "execution_count": 0,
      "outputs": []
    },
    {
      "cell_type": "code",
      "metadata": {
        "id": "cPGo_6Ir2EUG",
        "colab_type": "code",
        "outputId": "b36d1e7b-08a2-4ee5-849e-8d62176a93c0",
        "colab": {
          "base_uri": "https://localhost:8080/",
          "height": 34
        }
      },
      "source": [
        "print(section_tokenizer)"
      ],
      "execution_count": 0,
      "outputs": [
        {
          "output_type": "stream",
          "text": [
            "<keras_preprocessing.text.Tokenizer object at 0x7fcb9c02dfd0>\n"
          ],
          "name": "stdout"
        }
      ]
    },
    {
      "cell_type": "code",
      "metadata": {
        "id": "qf9iXsfJ2LSk",
        "colab_type": "code",
        "colab": {}
      },
      "source": [
        "# Preparing the data pipeline\n",
        "def encoder_data(text_tensor, label):\n",
        "  \"\"\"\n",
        "  Uses the trained encoder to convert the text sequences into arrays\n",
        "  Note: The tag array contain the labeled data\n",
        "  \"\"\"\n",
        "  section = section_tokenizer.texts_to_matrix([text_tensor[0].numpy().decode()])[0] \n",
        "  title = title_tokenizer.texts_to_matrix([text_tensor[1].numpy().decode()])[0]  \n",
        "  tag = tags_tokenizer.texts_to_matrix([label.numpy().decode()])[0]\n",
        "  return section, title, tag\n",
        "\n",
        "def encode_map_fn(text_tensor, label):\n",
        "  result = tf.py_function(encoder_data, inp=[text_tensor, label], Tout=(tf.int64, tf.int64, tf.int64))\n",
        "  return {'seccion': result[0], 'title':result[1]}, {'tags':result[2]}\n"
      ],
      "execution_count": 0,
      "outputs": []
    },
    {
      "cell_type": "code",
      "metadata": {
        "id": "ei2WZpU22UwO",
        "colab_type": "code",
        "colab": {}
      },
      "source": [
        "# Skipping the first line and using a batchsize of 14\n",
        "train_data = parsed_data.map(encode_map_fn).skip(1)\n"
      ],
      "execution_count": 0,
      "outputs": []
    },
    {
      "cell_type": "code",
      "metadata": {
        "id": "rS3XhJBr3oRg",
        "colab_type": "code",
        "outputId": "8b3e14a7-5fa0-4b36-d7b6-765ec9d086a7",
        "colab": {
          "base_uri": "https://localhost:8080/",
          "height": 34
        }
      },
      "source": [
        "print(training_samples)"
      ],
      "execution_count": 0,
      "outputs": [
        {
          "output_type": "stream",
          "text": [
            "28\n"
          ],
          "name": "stdout"
        }
      ]
    },
    {
      "cell_type": "code",
      "metadata": {
        "id": "JUTici2Y2bmm",
        "colab_type": "code",
        "colab": {}
      },
      "source": [
        "train_data = train_data.take(training_samples).padded_batch(14, padded_shapes=({'seccion':[None], 'title':[None]},{'tags':[None]}))"
      ],
      "execution_count": 0,
      "outputs": []
    },
    {
      "cell_type": "code",
      "metadata": {
        "id": "OeM11WKkvJRr",
        "colab_type": "code",
        "outputId": "1cc62a7a-4ace-494c-e04e-38b14166c48d",
        "colab": {
          "base_uri": "https://localhost:8080/",
          "height": 51
        }
      },
      "source": [
        "for i in train_data:\n",
        "  print(i[0]['seccion'].shape, i[0]['title'].shape, i[1]['tags'].shape)"
      ],
      "execution_count": 0,
      "outputs": [
        {
          "output_type": "stream",
          "text": [
            "(14, 255) (14, 500) (14, 255)\n",
            "(14, 255) (14, 500) (14, 255)\n"
          ],
          "name": "stdout"
        }
      ]
    },
    {
      "cell_type": "code",
      "metadata": {
        "id": "qWVR7QTQO5M1",
        "colab_type": "code",
        "outputId": "3c318126-132e-48b2-f4d8-41a2b4044334",
        "colab": {
          "base_uri": "https://localhost:8080/",
          "height": 442
        }
      },
      "source": [
        "# Creating the model\n",
        "\n",
        "section_input = tf.keras.layers.Input(shape=(255,), name='seccion', dtype=tf.int64)\n",
        "title_input = tf.keras.layers.Input(shape=(500,), name='title', dtype=tf.int64)\n",
        "section_emb = tf.keras.layers.Embedding(1024,32)(section_input)\n",
        "title_emb = tf.keras.layers.Embedding(1024,32)(title_input)\n",
        "mixed = tf.keras.layers.concatenate([tf.keras.layers.Flatten()(section_emb), tf.keras.layers.Flatten()(title_emb)])\n",
        "out = tf.keras.layers.Dense(255, activation='sigmoid', name='tags')(mixed)\n",
        "model = tf.keras.models.Model([section_input,title_input], [out])\n",
        "model.summary()"
      ],
      "execution_count": 0,
      "outputs": [
        {
          "output_type": "stream",
          "text": [
            "Model: \"model\"\n",
            "__________________________________________________________________________________________________\n",
            "Layer (type)                    Output Shape         Param #     Connected to                     \n",
            "==================================================================================================\n",
            "seccion (InputLayer)            [(None, 255)]        0                                            \n",
            "__________________________________________________________________________________________________\n",
            "title (InputLayer)              [(None, 500)]        0                                            \n",
            "__________________________________________________________________________________________________\n",
            "embedding (Embedding)           (None, 255, 32)      32768       seccion[0][0]                    \n",
            "__________________________________________________________________________________________________\n",
            "embedding_1 (Embedding)         (None, 500, 32)      32768       title[0][0]                      \n",
            "__________________________________________________________________________________________________\n",
            "flatten (Flatten)               (None, 8160)         0           embedding[0][0]                  \n",
            "__________________________________________________________________________________________________\n",
            "flatten_1 (Flatten)             (None, 16000)        0           embedding_1[0][0]                \n",
            "__________________________________________________________________________________________________\n",
            "concatenate (Concatenate)       (None, 24160)        0           flatten[0][0]                    \n",
            "                                                                 flatten_1[0][0]                  \n",
            "__________________________________________________________________________________________________\n",
            "tags (Dense)                    (None, 255)          6161055     concatenate[0][0]                \n",
            "==================================================================================================\n",
            "Total params: 6,226,591\n",
            "Trainable params: 6,226,591\n",
            "Non-trainable params: 0\n",
            "__________________________________________________________________________________________________\n"
          ],
          "name": "stdout"
        }
      ]
    },
    {
      "cell_type": "code",
      "metadata": {
        "id": "tnK65t5fB1Dc",
        "colab_type": "code",
        "outputId": "1422a725-93e6-44ba-af65-7f0937b97e2d",
        "colab": {
          "base_uri": "https://localhost:8080/",
          "height": 1000
        }
      },
      "source": [
        "model.compile(loss='binary_crossentropy')\n",
        "model.fit(train_data, epochs=50)"
      ],
      "execution_count": 0,
      "outputs": [
        {
          "output_type": "stream",
          "text": [
            "Epoch 1/50\n",
            "2/2 [==============================] - 0s 60ms/step - loss: 0.4328\n",
            "Epoch 2/50\n",
            "2/2 [==============================] - 0s 50ms/step - loss: 0.1012\n",
            "Epoch 3/50\n",
            "2/2 [==============================] - 0s 48ms/step - loss: 0.0822\n",
            "Epoch 4/50\n",
            "2/2 [==============================] - 0s 52ms/step - loss: 0.0769\n",
            "Epoch 5/50\n",
            "2/2 [==============================] - 0s 50ms/step - loss: 0.0744\n",
            "Epoch 6/50\n",
            "2/2 [==============================] - 0s 48ms/step - loss: 0.0730\n",
            "Epoch 7/50\n",
            "2/2 [==============================] - 0s 51ms/step - loss: 0.0721\n",
            "Epoch 8/50\n",
            "2/2 [==============================] - 0s 50ms/step - loss: 0.0714\n",
            "Epoch 9/50\n",
            "2/2 [==============================] - 0s 48ms/step - loss: 0.0708\n",
            "Epoch 10/50\n",
            "2/2 [==============================] - 0s 50ms/step - loss: 0.0703\n",
            "Epoch 11/50\n",
            "2/2 [==============================] - 0s 49ms/step - loss: 0.0698\n",
            "Epoch 12/50\n",
            "2/2 [==============================] - 0s 51ms/step - loss: 0.0692\n",
            "Epoch 13/50\n",
            "2/2 [==============================] - 0s 48ms/step - loss: 0.0685\n",
            "Epoch 14/50\n",
            "2/2 [==============================] - 0s 53ms/step - loss: 0.0677\n",
            "Epoch 15/50\n",
            "2/2 [==============================] - 0s 52ms/step - loss: 0.0669\n",
            "Epoch 16/50\n",
            "2/2 [==============================] - 0s 48ms/step - loss: 0.0659\n",
            "Epoch 17/50\n",
            "2/2 [==============================] - 0s 50ms/step - loss: 0.0649\n",
            "Epoch 18/50\n",
            "2/2 [==============================] - 0s 48ms/step - loss: 0.0638\n",
            "Epoch 19/50\n",
            "2/2 [==============================] - 0s 48ms/step - loss: 0.0626\n",
            "Epoch 20/50\n",
            "2/2 [==============================] - 0s 48ms/step - loss: 0.0613\n",
            "Epoch 21/50\n",
            "2/2 [==============================] - 0s 47ms/step - loss: 0.0600\n",
            "Epoch 22/50\n",
            "2/2 [==============================] - 0s 46ms/step - loss: 0.0585\n",
            "Epoch 23/50\n",
            "2/2 [==============================] - 0s 48ms/step - loss: 0.0570\n",
            "Epoch 24/50\n",
            "2/2 [==============================] - 0s 53ms/step - loss: 0.0555\n",
            "Epoch 25/50\n",
            "2/2 [==============================] - 0s 50ms/step - loss: 0.0538\n",
            "Epoch 26/50\n",
            "2/2 [==============================] - 0s 48ms/step - loss: 0.0521\n",
            "Epoch 27/50\n",
            "2/2 [==============================] - 0s 47ms/step - loss: 0.0503\n",
            "Epoch 28/50\n",
            "2/2 [==============================] - 0s 47ms/step - loss: 0.0485\n",
            "Epoch 29/50\n",
            "2/2 [==============================] - 0s 50ms/step - loss: 0.0466\n",
            "Epoch 30/50\n",
            "2/2 [==============================] - 0s 49ms/step - loss: 0.0446\n",
            "Epoch 31/50\n",
            "2/2 [==============================] - 0s 49ms/step - loss: 0.0426\n",
            "Epoch 32/50\n",
            "2/2 [==============================] - 0s 49ms/step - loss: 0.0405\n",
            "Epoch 33/50\n",
            "2/2 [==============================] - 0s 48ms/step - loss: 0.0385\n",
            "Epoch 34/50\n",
            "2/2 [==============================] - 0s 49ms/step - loss: 0.0364\n",
            "Epoch 35/50\n",
            "2/2 [==============================] - 0s 53ms/step - loss: 0.0343\n",
            "Epoch 36/50\n",
            "2/2 [==============================] - 0s 48ms/step - loss: 0.0323\n",
            "Epoch 37/50\n",
            "2/2 [==============================] - 0s 47ms/step - loss: 0.0303\n",
            "Epoch 38/50\n",
            "2/2 [==============================] - 0s 47ms/step - loss: 0.0283\n",
            "Epoch 39/50\n",
            "2/2 [==============================] - 0s 48ms/step - loss: 0.0264\n",
            "Epoch 40/50\n",
            "2/2 [==============================] - 0s 47ms/step - loss: 0.0246\n",
            "Epoch 41/50\n",
            "2/2 [==============================] - 0s 44ms/step - loss: 0.0228\n",
            "Epoch 42/50\n",
            "2/2 [==============================] - 0s 48ms/step - loss: 0.0212\n",
            "Epoch 43/50\n",
            "2/2 [==============================] - 0s 51ms/step - loss: 0.0196\n",
            "Epoch 44/50\n",
            "2/2 [==============================] - 0s 50ms/step - loss: 0.0181\n",
            "Epoch 45/50\n",
            "2/2 [==============================] - 0s 47ms/step - loss: 0.0167\n",
            "Epoch 46/50\n",
            "2/2 [==============================] - 0s 52ms/step - loss: 0.0153\n",
            "Epoch 47/50\n",
            "2/2 [==============================] - 0s 47ms/step - loss: 0.0141\n",
            "Epoch 48/50\n",
            "2/2 [==============================] - 0s 47ms/step - loss: 0.0130\n",
            "Epoch 49/50\n",
            "2/2 [==============================] - 0s 50ms/step - loss: 0.0119\n",
            "Epoch 50/50\n",
            "2/2 [==============================] - 0s 49ms/step - loss: 0.0109\n"
          ],
          "name": "stdout"
        },
        {
          "output_type": "execute_result",
          "data": {
            "text/plain": [
              "<tensorflow.python.keras.callbacks.History at 0x7fcb9bfcf240>"
            ]
          },
          "metadata": {
            "tags": []
          },
          "execution_count": 20
        }
      ]
    },
    {
      "cell_type": "code",
      "metadata": {
        "id": "5GIXyhEaB6xl",
        "colab_type": "code",
        "colab": {}
      },
      "source": [
        "class MyWordEmbeddingLayerLayer(tf.keras.layers.Layer):\n",
        "  def __init__(self, tokenizer, output_size=255):\n",
        "    super(MyWordEmbeddingLayerLayer, self).__init__()\n",
        "    key_values = tf.lookup.KeyValueTensorInitializer(list(tokenizer.word_index.keys()),\n",
        "                                                     list(tokenizer.word_index.values()),\n",
        "                                                     key_dtype=tf.string, value_dtype=tf.int64)\n",
        "    self.table = tf.lookup.StaticVocabularyTable(key_values,10)\n",
        "    self.lookup = tf.function(self.table.lookup)\n",
        "    self.output_size = output_size\n",
        "\n",
        "  def call(self, input_string):\n",
        "    queries = tf.ragged.map_flat_values(tf.strings.split, input_string)\n",
        "    word_embeddings = tf.ragged.map_flat_values(lambda x: self.lookup(x), queries).to_tensor(default_value=0)\n",
        "    word_embeddings = tf.pad(word_embeddings, [[0,0],[0,0], [0,self.output_size]], 'CONSTANT')[:,:,:self.output_size]\n",
        "    return tf.reshape(word_embeddings, [queries.nrows(), self.output_size])"
      ],
      "execution_count": 0,
      "outputs": []
    },
    {
      "cell_type": "code",
      "metadata": {
        "id": "FzWYhQGiB-DC",
        "colab_type": "code",
        "colab": {}
      },
      "source": [
        "section_input = tf.keras.layers.Input(shape=(1,), name='seccion', dtype=tf.string)\n",
        "title_input = tf.keras.layers.Input(shape=(1,), name='title', dtype=tf.string)\n",
        "section_encode = MyWordEmbeddingLayerLayer(section_tokenizer)(section_input)\n",
        "title_encode = MyWordEmbeddingLayerLayer(title_tokenizer, 500)(title_input)\n",
        "#test_model = tf.keras.models.Model([section_input, title_input], [section_encode, title_encode])\n",
        "#test_model.summary()\n",
        "#test_model.predict([['mundo'],['la socialdemocracia']])[0].shape, test_model.predict([['mundo'],['la socialdemocracia']])[1].shape"
      ],
      "execution_count": 0,
      "outputs": []
    },
    {
      "cell_type": "code",
      "metadata": {
        "id": "ne-qhryYCD67",
        "colab_type": "code",
        "outputId": "8f41e50d-cde3-43f6-c799-417c83a757c5",
        "colab": {
          "base_uri": "https://localhost:8080/",
          "height": 340
        }
      },
      "source": [
        "new_outputs = model({'seccion':section_encode, 'title':title_encode})\n",
        "new_model = tf.keras.models.Model(inputs={'seccion':section_input, 'title':title_input}, outputs={'tags':new_outputs})\n",
        "new_model.summary()\n",
        "#new_model.predict({'seccion':'mundo', 'title':'la socialdemocracia'})"
      ],
      "execution_count": 0,
      "outputs": [
        {
          "output_type": "stream",
          "text": [
            "Model: \"model_1\"\n",
            "__________________________________________________________________________________________________\n",
            "Layer (type)                    Output Shape         Param #     Connected to                     \n",
            "==================================================================================================\n",
            "seccion (InputLayer)            [(None, 1)]          0                                            \n",
            "__________________________________________________________________________________________________\n",
            "title (InputLayer)              [(None, 1)]          0                                            \n",
            "__________________________________________________________________________________________________\n",
            "my_word_embedding_layer_layer ( (None, 255)          0           seccion[0][0]                    \n",
            "__________________________________________________________________________________________________\n",
            "my_word_embedding_layer_layer_1 (None, 500)          0           title[0][0]                      \n",
            "__________________________________________________________________________________________________\n",
            "model (Model)                   (None, 255)          6226591     my_word_embedding_layer_layer[0][\n",
            "                                                                 my_word_embedding_layer_layer_1[0\n",
            "==================================================================================================\n",
            "Total params: 6,226,591\n",
            "Trainable params: 6,226,591\n",
            "Non-trainable params: 0\n",
            "__________________________________________________________________________________________________\n"
          ],
          "name": "stdout"
        }
      ]
    },
    {
      "cell_type": "code",
      "metadata": {
        "id": "VOLO88y_CW9u",
        "colab_type": "code",
        "outputId": "a9f9dacc-51ec-4d7a-f7da-234b158c2b04",
        "colab": {
          "base_uri": "https://localhost:8080/",
          "height": 105
        }
      },
      "source": [
        "import pickle \n",
        "tf.saved_model.save(new_model, \"/content/drive/My Drive/modelos/servings/textclassifier/1\")\n",
        "\n",
        "# saving the tokenizers\n",
        "with open('section_tokenizer.pickle', 'wb') as handle:\n",
        "    pickle.dump(section_tokenizer, handle, protocol=pickle.HIGHEST_PROTOCOL)\n",
        "\n",
        "with open('title_tokenizer.pickle', 'wb') as handle:\n",
        "    pickle.dump(title_tokenizer, handle, protocol=pickle.HIGHEST_PROTOCOL)\n",
        "\n",
        "with open('tags_tokenizer.pickle', 'wb') as handle:\n",
        "    pickle.dump(tags_tokenizer, handle, protocol=pickle.HIGHEST_PROTOCOL)"
      ],
      "execution_count": 0,
      "outputs": [
        {
          "output_type": "stream",
          "text": [
            "WARNING:tensorflow:From /usr/local/lib/python3.6/dist-packages/tensorflow/python/ops/resource_variable_ops.py:1817: calling BaseResourceVariable.__init__ (from tensorflow.python.ops.resource_variable_ops) with constraint is deprecated and will be removed in a future version.\n",
            "Instructions for updating:\n",
            "If using Keras pass *_constraint arguments to layers.\n",
            "INFO:tensorflow:Assets written to: /content/drive/My Drive/modelos/servings/textclassifier/1/assets\n"
          ],
          "name": "stdout"
        }
      ]
    }
  ]
}