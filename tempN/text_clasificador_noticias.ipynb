{
  "nbformat": 4,
  "nbformat_minor": 0,
  "metadata": {
    "colab": {
      "name": "text clasificador noticias",
      "provenance": [],
      "collapsed_sections": []
    },
    "kernelspec": {
      "name": "python3",
      "display_name": "Python 3"
    },
    "accelerator": "GPU"
  },
  "cells": [
    {
      "cell_type": "markdown",
      "metadata": {
        "id": "N4iH_70vnxLg",
        "colab_type": "text"
      },
      "source": [
        "<h1>Instalación del tf ModelServer</h1>\n",
        "Este módulo es la herramienta usada por tf.serving para acceder a modelos a través de llamados al API-REST"
      ]
    },
    {
      "cell_type": "code",
      "metadata": {
        "id": "JpjGrBlJngbf",
        "colab_type": "code",
        "outputId": "3de50559-8077-4e77-9e9d-629f28332222",
        "colab": {
          "base_uri": "https://localhost:8080/",
          "height": 136
        }
      },
      "source": [
        "%%bash\n",
        "echo \"deb [arch=amd64] http://storage.googleapis.com/tensorflow-serving-apt stable tensorflow-model-server tensorflow-model-server-universal\" | sudo tee /etc/apt/sources.list.d/tensorflow-serving.list && \\\n",
        "curl https://storage.googleapis.com/tensorflow-serving-apt/tensorflow-serving.release.pub.gpg | sudo apt-key add -\n",
        "fapt-get update && apt-get install tensorflow-model-server"
      ],
      "execution_count": 0,
      "outputs": [
        {
          "output_type": "stream",
          "text": [
            "deb [arch=amd64] http://storage.googleapis.com/tensorflow-serving-apt stable tensorflow-model-server tensorflow-model-server-universal\n",
            "OK\n"
          ],
          "name": "stdout"
        },
        {
          "output_type": "stream",
          "text": [
            "  % Total    % Received % Xferd  Average Speed   Time    Time     Time  Current\n",
            "                                 Dload  Upload   Total   Spent    Left  Speed\n",
            "\r  0     0    0     0    0     0      0      0 --:--:-- --:--:-- --:--:--     0Warning: apt-key output should not be parsed (stdout is not a terminal)\n",
            "\r100  2943  100  2943    0     0   4465      0 --:--:-- --:--:-- --:--:--  4465\n",
            "bash: line 3: fapt-get: command not found\n"
          ],
          "name": "stderr"
        }
      ]
    },
    {
      "cell_type": "markdown",
      "metadata": {
        "id": "vdAXtwgPpUT0",
        "colab_type": "text"
      },
      "source": [
        "<h1>Parseo del archivo para crear la base de datos</h1>\n",
        "Se parsea el archivo y se divide por caracteristicas"
      ]
    },
    {
      "cell_type": "code",
      "metadata": {
        "id": "pS6ZRXVXoBMl",
        "colab_type": "code",
        "outputId": "005743ab-c26f-41ef-ed29-e04db757bcff",
        "colab": {
          "resources": {
            "http://localhost:8080/nbextensions/google.colab/files.js": {
              "data": "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",
              "ok": true,
              "headers": [
                [
                  "content-type",
                  "application/javascript"
                ]
              ],
              "status": 200,
              "status_text": ""
            }
          },
          "base_uri": "https://localhost:8080/",
          "height": 111
        }
      },
      "source": [
        "from google.colab import files\n",
        "files.upload()"
      ],
      "execution_count": 0,
      "outputs": [
        {
          "output_type": "display_data",
          "data": {
            "text/html": [
              "\n",
              "     <input type=\"file\" id=\"files-16ff12cf-d626-4c0f-885c-2cc24bec3472\" name=\"files[]\" multiple disabled />\n",
              "     <output id=\"result-16ff12cf-d626-4c0f-885c-2cc24bec3472\">\n",
              "      Upload widget is only available when the cell has been executed in the\n",
              "      current browser session. Please rerun this cell to enable.\n",
              "      </output>\n",
              "      <script src=\"/nbextensions/google.colab/files.js\"></script> "
            ],
            "text/plain": [
              "<IPython.core.display.HTML object>"
            ]
          },
          "metadata": {
            "tags": []
          }
        },
        {
          "output_type": "stream",
          "text": [
            "Saving sample_text.txt to sample_text.txt\n"
          ],
          "name": "stdout"
        },
        {
          "output_type": "execute_result",
          "data": {
            "text/plain": [
              "{'sample_text.txt': b'dominio*****||*****seccion*****||*****url*****||*****title*****||*****tags*****||*****pretitle*****||*****posttitle*****||*****imagen_url*****||*****imagen_descripcion*****||*****texto\\r\\nwww.elconfidencial.com*****||*****mundo*****||*****https://www.elconfidencial.com/mundo/europa/2019-09-03/ultima-estocada-a-salvini-el-79-de-los-inscritos-del-m5s-apoya-la-nueva-coalicion_2208291/*****||*****Las bases del M5S apoyan por mayor\\xc3\\xada la coalici\\xc3\\xb3n de gobierno en Italia con el PD*****||*****Socialdemocracia|Movimiento 5 Estrellas|*****||*****\\xc3\\x9aLTIMA ESTOCADA A SALVINI*****||*****El 79% de los inscritos del Movimiento Cinco Estrellas (M5S) vot\\xc3\\xb3 hoy a favor del Gobierno en coalici\\xc3\\xb3n con el Partido Dem\\xc3\\xb3crata (PD), con Giuseppe Conte como primer ministro*****||*****https://www.ecestaticos.com/imagestatic/clipping/8b3/17c/8b317c51beca47d40dc5be6c8388e01a/el-gobierno-de-conte-ii-dara-un-respiro-a-italia-pero-no-lograra-frenar-a-salvini.jpg?mtime=1567021325*****||*****Luigi Di Maio, l\\xc3\\xadder del M5S. (Reuters)*****||*****La militancia de base del antisistema Movimiento 5 Estrellas (M5S) dio hoy su luz verde al nacimiento de un gobierno de coalici\\xc3\\xb3n con el Partido Democr\\xc3\\xa1tico y con Giuseppe Conte como primer ministro, eliminando as\\xc3\\xad uno de los  \\xc3\\xbaltimos obst\\xc3\\xa1culos a la resoluci\\xc3\\xb3n de la crisis pol\\xc3\\xadtica italiana. El 79,3 % de los 117.000 militantes del M5S con derecho a votar en su plataforma de internet -inscritos desde al menos seis meses antes- dieron luz verde al acuerdo con los socialdem\\xc3\\xb3cratas, que ambos partidos han estado negociando las \\xc3\\xbaltimas semanas. El resultado fue publicado en el blog oficial del partido antisistema una hora y media despu\\xc3\\xa9s de cerrarse las votaciones, y con certificaci\\xc3\\xb3n de notario, tras lo cual  Luigi Di Maio, el l\\xc3\\xadder del M5S , compareci\\xc3\\xb3 en conferencia de prensa en la C\\xc3\\xa1mara de Diputados para celebrar este resultado. \"Estoy muy orgulloso del voto de hoy, muy orgulloso del Gobierno que vendr\\xc3\\xa1\", dijo Di Maio, y agreg\\xc3\\xb3 que ahora \"lo importante es ponerse a trabajar\". Se\\xc3\\xb1al\\xc3\\xb3 que  el futuro Ejecutivo tendr\\xc3\\xa1 al Cinco Estrellas como \"la fuerza pol\\xc3\\xadtica de mayor\\xc3\\xada\"  y se congratul\\xc3\\xb3 de que \"se ha resuelto una crisis pol\\xc3\\xadtica in\\xc3\\xa9dita, en pleno agosto, a trav\\xc3\\xa9s de un m\\xc3\\xa9todo in\\xc3\\xa9dito\". Y reiter\\xc3\\xb3, como ya hab\\xc3\\xada se\\xc3\\xb1alado esta ma\\xc3\\xb1ana cuando se public\\xc3\\xb3 en el blog oficial el borrador, que \"todos nuestros puntos (de exigencias) entraron en el programa del gobierno\". Ataques a Salvini Di Maio volvi\\xc3\\xb3 a culpar a  su antiguo socio de Gobierno, el l\\xc3\\xadder de la ultraderechista Liga, Matteo Salvini,  de  haber causado esta crisis \"por irresponsabilidad\",  al dar por rota la anterior coalici\\xc3\\xb3n para reclamar unas elecciones que cre\\xc3\\xada que ganar\\xc3\\xada.  El l\\xc3\\xadder del M5E anunci\\xc3\\xb3 que \"en las pr\\xc3\\xb3ximas horas se conocer\\xc3\\xa1n los mejores perfiles\" para la lista de ministros que integrar\\xc3\\xa1n el gobierno de coalici\\xc3\\xb3n. El  secretario general del PD, Nicola Zingaretti , tambi\\xc3\\xa9n se congratul\\xc3\\xb3 del acuerdo y escribi\\xc3\\xb3 en Facebook: \"Ahora vanos a cambiar Italia\". Paralelamente al voto en internet, el M5S y el PD han estado cerrando los \\xc3\\xbaltimos flecos del programa de gobierno y acordando los nombres de los ministros, que a\\xc3\\xban no han trascendido. Los jefes de los grupos parlamentarios de los dos partidos volvieron a reunirse y el primer ministro encargado, Giuseppe Conte, deber\\xc3\\xa1 acudir ante el jefe del Estado,  Sergio Mattarella, a presentarle el programa y la lista de ministros . Esto ocurrir\\xc3\\xa1 ma\\xc3\\xb1ana, mi\\xc3\\xa9rcoles, y, si Mattarella da su aprobaci\\xc3\\xb3n, el jueves se producir\\xc3\\xada el juramento de los ministros y ya el viernes el Gobierno con Conte a la cabeza se someter\\xc3\\xa1 a la confianza de las dos C\\xc3\\xa1maras del Parlamento. Los presupuestos de la discordia Seg\\xc3\\xban el borrador del programa que se conoci\\xc3\\xb3 esta ma\\xc3\\xb1ana, se prev\\xc3\\xa9 la elaboraci\\xc3\\xb3n de unos  Presupuestos Generales para 2020 que ser\\xc3\\xa1n \"expansivos,  sin comprometer el equilibrio de las finanzas p\\xc3\\xbablicas\". Se se\\xc3\\xb1ala que intentar\\xc3\\xa1n  evitar el aumento del impuesto sobre el valor a\\xc3\\xb1adido (IVA)  desde el 1 de enero de 2020 (una exigencia del M5S) y trabajar\\xc3\\xa1n para aprobar pol\\xc3\\xadticas de ayudas a las familias con menos recursos y destinar mayor financiaci\\xc3\\xb3n para escuelas, universidades y asistencia social. Tambi\\xc3\\xa9n se comprometen a aprobar una ley que regule los impuestos sobre los beneficios de las multinacionales tecnol\\xc3\\xb3gicas para evitar casos de elusi\\xc3\\xb3n fiscal y no se menciona un impuesto fijo (que el M5S apoyaba con la Liga de Salvini), sino que se habla de \"bajar la carga impositiva\". Los bonos italianos en m\\xc3\\xadnimos hist\\xc3\\xb3ricos tras anunciarse el pacto de gobierno C. Raffin Movimiento 5 Estrellas y Partido Democr\\xc3\\xa1tico alcanzan un acuerdo que evita las nuevas elecciones en Italia y deja atr\\xc3\\xa1s la sombra de Salvini Hay puntos en los que siempre han estado cerca el M5S y PD, como \"la eliminaci\\xc3\\xb3n de todas las formas de desigualdad (social, territorial, de g\\xc3\\xa9nero)\" y se apela a la inclusi\\xc3\\xb3n de la protecci\\xc3\\xb3n del medio ambiente entre los principios fundamentales de la Constituci\\xc3\\xb3n. Sobre la UE, se se\\xc3\\xb1ala que \"necesitamos una Europa m\\xc3\\xa1s solidaria e inclusiva, cercana a los ciudadanos\". Y se relanza uno de los caballos de batalla del M5S: la ley para reducir el n\\xc3\\xbamero de parlamentarios, aunque sin decir en cu\\xc3\\xa1ntos. Diferencias sobre la Inmigraci\\xc3\\xb3n Sobre el conflictivo asunto de  la inmigraci\\xc3\\xb3n y la seguridad, que hasta ahora ha dividido al M5S y al PD , ya que el antisistema ha compartido la pol\\xc3\\xadtica de puertos cerrados impulsada por Salvini, se se\\xc3\\xb1ala en el programa que \"las leyes de seguridad tendr\\xc3\\xa1n que ser actualizadas con las recientes observaciones del presidente Mattarella\", que ha declarado que varias de las disposiciones van en contra de las leyes internacionales sobre el salvamento en el mar. El M5S ha conseguido incluir tambi\\xc3\\xa9n en el programa el objetivo de \"iniciar la revisi\\xc3\\xb3n de las concesiones de autopistas\", una alusi\\xc3\\xb3n a la concesionaria Autostrade, responsable del mantenimiento del puente de G\\xc3\\xa9nova que se derrumb\\xc3\\xb3 hace un a\\xc3\\xb1o causando 43 muertos.*****||*****\\r\\nwww.elconfidencial.com*****||*****alma-corazon-vida*****||*****https://www.elconfidencial.com/alma-corazon-vida/2018-11-19/mentira-identificar-sexo-mensaje_1649142/*****||*****C\\xc3\\xb3mo identificar r\\xc3\\xa1pido una mentira en un mensaje de texto*****||*****Virales|Sin censura|Sexo|*****||*****se coge antes a un mentiroso...*****||*****\\xc2\\xbfEs f\\xc3\\xa1cil pillar a un mentiroso? Cara a cara parece que s\\xc3\\xad, pero por el m\\xc3\\xb3vil la cosa cambia. \\xc2\\xbfY si te decimos que hay unas claves infalibles para lograr desenmascararlos?*****||*****https://www.ecestaticos.com/imagestatic/clipping/b2a/ad6/b2aad609fbc1005063849c773a978065/te-pueden-pillar-siendo-infiel-de-la-manera-mas-tonta-esta-historia-es-una-buena-prueba.jpg?mtime=1530524437*****||*****Foto: iStock.*****||*****Es un cl\\xc3\\xa1sico, y si buscamos en  internet  encontraremos miles de temas al respecto, lo que significa que nos interesa: \\xc2\\xbfes f\\xc3\\xa1cil pillar a un  mentiroso ? En persona, aparentemente, lo es gracias a sus  gestos .  Ya sabes lo que dicen , que si cruza las piernas, se rasca la nariz, mira a la derecha... no son pruebas infalibles, pero al menos nos pueden poner en preaviso. Pero, \\xc2\\xbfy si lo hace a trav\\xc3\\xa9s del  tel\\xc3\\xa9fono ? A menos que tu  pareja  te env\\xc3\\xade un mensaje diciendo que acaba de ver tres elefantes rosas bailando  vals  por la calle, es un poco dif\\xc3\\xadcil saber si realmente te est\\xc3\\xa1 diciendo la verdad o no en eso que te escribe. Sin embargo, la experta en citas australiana  Louanne Ward  lo tiene claro. Como cuenta a \\' Daily Mail \\': \"Hay pistas infalibles para  saber si te est\\xc3\\xa1 enga\\xc3\\xb1ando o no \". La ambig\\xc3\\xbcedad en las respuestas \"Por supuesto, es m\\xc3\\xa1s dif\\xc3\\xadcil pillar a un mentiroso  cara a cara , porque puedes captar su lenguaje corporal\" indica, \"sin embargo hay  m\\xc3\\xa9todos infalibles  para pillar a un mentiroso mediante un mensaje. Por ejemplo, busca  cu\\xc3\\xa1ntas veces se repiten las palabras  \\'quiz\\xc3\\xa1s\\', \\'probablemente\\', \\'podr\\xc3\\xada ser\\', \\'no estoy seguro/a\\', y cualquiera que se le parezca\". Seg\\xc3\\xban dice la experta, si le preguntas a alguien si le apetece quedar esa misma tarde, el mentiroso  contestar\\xc3\\xa1 vaguedades  del tipo: \"no s\\xc3\\xa9 muy bien a qu\\xc3\\xa9 hora acabar\\xc3\\xa9... probablemente no termine a tiempo... no estoy muy seguro...\", t\\xc3\\xba entonces solo tendr\\xc3\\xa1s que contar una a una todas las ambig\\xc3\\xbcedades. Esto, seg\\xc3\\xban Louanne, es porque es  muy dif\\xc3\\xadcil tapar una mentira con otra mentira , requiere una gran capacidad de inventiva, por lo tanto es mucho m\\xc3\\xa1s f\\xc3\\xa1cil contestar con ambivalencia. La mitoman\\xc3\\xada. Mentirosos compulsivos Por supuesto, con los mentirosos compulsivos sucede de otra manera. Generalmente, los mit\\xc3\\xb3manos tienden a inventar toda clase de  historias rocambolescas . Como dec\\xc3\\xada  Holden Caulfield  en \\' El guardi\\xc3\\xa1n entre el centeno \\': \"Soy el mentiroso m\\xc3\\xa1s  fant\\xc3\\xa1stico que puedan imaginarse . Es terrible. Si voy camino del quiosco a comprar una revista y alguien me pregunta que a d\\xc3\\xb3nde voy, soy capaz de decirle que voy a la \\xc3\\xb3pera\". Pero el modus operandi de estos individuos es diferente, no mienten para no ser descubiertos sino porque disfrutan haci\\xc3\\xa9ndolo. Quieren que se les  admire  por aquello que inventan. Soy el mentiroso m\\xc3\\xa1s fant\\xc3\\xa1stico. Si voy camino del quiosco puedo inventarme que voy a la \\xc3\\xb3pera Seg\\xc3\\xban cuenta Louanne Ward, cuando al que va a mentir (no al mentiroso compulsivo) se le pregunta algo, saldr\\xc3\\xa1 siempre con nueve t\\xc3\\xa1cticas que se cumplen a la perfecci\\xc3\\xb3n. Si las conoces, te ser\\xc3\\xa1 m\\xc3\\xa1s f\\xc3\\xa1cil reconocer esta clase de  comportamientos t\\xc3\\xb3xicos . Los odiosos nueve Primero, como hab\\xc3\\xadamos se\\xc3\\xb1alado,  la persona contestar\\xc3\\xa1 con vaguedades . A continuaci\\xc3\\xb3n,  intentar\\xc3\\xa1 desviar el tema de conversaci\\xc3\\xb3n . Por ejemplo, si le preguntas al mentiroso qu\\xc3\\xa9 hizo ayer por la noche, probablemente te conteste: \"Sal\\xc3\\xad a tomar una copa con estas... \\xc2\\xbfte acuerdas del nombre del libro que Laura nos recomend\\xc3\\xb3 el otro d\\xc3\\xada?\". Pero espera, no seamos desconfiados, puede que estuviera rumiando la pregunta desde hace un rato. Y a todo esto, \\xc2\\xbfcu\\xc3\\xa1l era el nombre del libro que nos recomend\\xc3\\xb3 Laura? Tarda mucho en contestar . De nuevo, tampoco nos pongamos paranoicos, igual es que est\\xc3\\xa1 distra\\xc3\\xaddo haciendo cualquier otro quehacer que ocupa nuestra vida diaria... \\xc2\\xbfo no? Elimina los pronombres personales . Esto es curioso cuando menos, porque da la sensaci\\xc3\\xb3n de que la persona piensa que quiz\\xc3\\xa1 a\\xc3\\xban le cobran por caracteres, como en los tiempos de los SMS. O que se ha quedado anclado en el fax. Quiz\\xc3\\xa1 tiene un alma antigua. Lo que est\\xc3\\xa1 claro, aparentemente, es que en lugar de decirte: \"sal\\xc3\\xad con Juan a tomar una copa\", te dir\\xc3\\xa1: \"Con Juan. De copas\". Vaya, vaya... \\xc2\\xa1Pillado! Pasa de la conversaci\\xc3\\xb3n cuando se le hace una pregunta . Volver\\xc3\\xa1 a la carga horas m\\xc3\\xa1s tarde pero sin contestar a la cuesti\\xc3\\xb3n principal, sino hablando de otra cosa. Esto no sabemos si es una prueba definitiva de que estamos hablando con un mentiroso, pero desde luego es exasperante. Utiliza demasiada empat\\xc3\\xada . Te dir\\xc3\\xa1 algo del estilo: \"Estoy con el jefe, que es un pesado, pero se va a alargar la cosa. Preferir\\xc3\\xada estar contigo mil veces\". A todos nos gusta que de vez en cuando nos doren la p\\xc3\\xadldora \\xc2\\xbfno? Usa detalles que no son relevantes . En este caso, seg\\xc3\\xban Louanne, la conversaci\\xc3\\xb3n transcurrir\\xc3\\xa1 de la siguiente manera: \"Ayer fuimos Ana y yo a comer pasta al sitio este que han abierto nuevo y que se encuentra debajo de una bolera en la que siempre sirven copas a tres euros, las bebidas que dan son de garraf\\xc3\\xb3n...\" a ver, para el carro. Te he preguntado qu\\xc3\\xa9 hiciste ayer, no un parte de todas las an\\xc3\\xa9cdotas que te han ocurrido desde tu nacimiento hasta hace cinco minutos. Utiliza demasiada informaci\\xc3\\xb3n . Esto es un poco como el punto anterior, en realidad, asi que poco queda por aclarar. Dile que \\'La historia interminable\\' te la sabes ya. Ponerse a la defensiva . Un cl\\xc3\\xa1sico, nadie le est\\xc3\\xa1 atacando, \\xc2\\xbfpor qu\\xc3\\xa9 de repente se pone as\\xc3\\xad? No te precipites Por tanto, seg\\xc3\\xban la experta,  estas son las claves  para descubrir a alguien que intenta enga\\xc3\\xb1arnos. Pero advierte que a pesar de todo no debes llegar a  conclusiones precipitadas . Vamos a ver, Louanne, acl\\xc3\\xa1rate. \\xc2\\xa1\\xc2\\xbfSe puede saber en qu\\xc3\\xa9 quedamos?!*****||*****\\r\\nwww.elconfidencial.com*****||*****mundo*****||*****https://www.elconfidencial.com/mundo/2019-06-19/arabia-saudi-khashoggi-onu-asesinato-crimen_2079247/*****||*****\"Vamos a por ti\": la ONU acusa a Arabia Saud\\xc3\\xad del crimen del periodista Khashoggi*****||*****ONU|Derechos humanos|Arabia Saud\\xc3\\xad|Monarqu\\xc3\\xada|Jamal Khashoggi|*****||*****ONU DENUNCIA UNA EJECUCI\\xc3\\x93N DELIBERADA *****||*****En 100 p\\xc3\\xa1ginas demoledoras, el an\\xc3\\xa1lisis de la ONU publicado el mi\\xc3\\xa9rcoles reconstruye mediante grabaciones los \\xc3\\xbaltimos momentos de Khashoggi en el interior del consulado saud\\xc3\\xad en Estambul*****||*****https://www.ecestaticos.com/imagestatic/clipping/67c/3fa/67c3fae70212896487d85ed6d4d32ddc/arabia-saudi-hace-pagos-millonarios-a-los-hijos-de-khashoggi-casas-10-000-mes.jpg?mtime=1554182910*****||*****Un cartel con la foto de Jamal Kashoggi. (Reuters)*****||*****Existe \"evidencia cre\\xc3\\xadble\" de que el pr\\xc3\\xadncipe  Mohammed bin Salam  y otros altos funcionarios saud\\xc3\\xades est\\xc3\\xa1n detr\\xc3\\xa1s de la muerte del periodista del \\'Washington Post\\' y cr\\xc3\\xadtico de la monarqu\\xc3\\xada  Jamal Khashoggi , concluy\\xc3\\xb3 un informe forense de Naciones Unidas tras la primera investigaci\\xc3\\xb3n independiente de los hechos. En 100 p\\xc3\\xa1ginas demoledoras, el an\\xc3\\xa1lisis de la ONU publicado el mi\\xc3\\xa9rcoles reconstruye mediante grabaciones los \\xc3\\xbaltimos momentos de Khashoggi en el interior del consulado saud\\xc3\\xad en Estambul, donde fue asesinado en octubre del a\\xc3\\xb1o pasado . \" Vamos a por ti \", se escuch\\xc3\\xb3 decir a uno de los funcionarios saud\\xc3\\xades que se enfrentaron al reportero. Cuando Khashoggi se neg\\xc3\\xb3 a cooperar, en los audios se perciben forcejeos y resuellos. La investigadora espcial de la ONU,  Agnes Callamard , explica que el an\\xc3\\xa1lisis de las grabaciones apunta a que el periodista podr\\xc3\\xada haber sido inyectado con alg\\xc3\\xban sedante y luego asfixiado con una bolsa de pl\\xc3\\xa1stico. \\xe2\\x80\\x9cLa conclusi\\xc3\\xb3n del investigador especial es que el se\\xc3\\xb1or Khashoggi ha sido v\\xc3\\xadctima de  una ejecuci\\xc3\\xb3n extrajudicial, deliberada y premeditada  por la que el estado de Arabia Saud\\xc3\\xad es responsable bajo las leyes internacionales de derechos humanos\", dijo Callamard, calificando la muerte como un \"crimen internacional\". Tenemos que llevarte Este nuevo informe aumenta la presi\\xc3\\xb3n sobre Riad, que  ha negado cualquier conocimiento previo sobre el asesinato de Kahshoggi  y alega que se trat\\xc3\\xb3 de una operaci\\xc3\\xb3n encubierta de la que el heredero del trono no estaba al tanto. Seg\\xc3\\xban la ONU, la investigaci\\xc3\\xb3n previa realizada por Turqu\\xc3\\xada y Arabia Saud\\xc3\\xad no sigui\\xc3\\xb3 los procedimientos internacionales para este tipo de casos y considera que las evidencias encontradas son suficientes para  reabrir el caso para examinar en profundidad el papel del pr\\xc3\\xadncipe y varios funcionarios saud\\xc3\\xades de alto nivel . Khashoggi, de 59 a\\xc3\\xb1os, resid\\xc3\\xada en Estados Unidos y viaj\\xc3\\xb3 a Estambul para  obtener unos papeles en el consulado que necesitaba para su boda  -evitando volar a su pa\\xc3\\xads natal por su seguridad-. El pr\\xc3\\xadncipe heredero de Arabia Saud\\xc3\\xad: \"Hay que usar una bala contra Khashoggi\" Efe En una conversaci\\xc3\\xb3n hizo esta advertencia si este no volv\\xc3\\xada al reino y dejaba de criticar a las autoridades de Arabia Saud\\xc3\\xad. La ONU afirma que su asesinato fue \"planeado\" por funcionarios saud\\xc3\\xades Las grabaciones los d\\xc3\\xadas previos en el consultado muestran c\\xc3\\xb3mo  un equipo de agentes saud\\xc3\\xades viajaron de Riad a la ciudad turca para recibir al periodista . En una de las conversaciones se escucha a un hombre decir el d\\xc3\\xada previo al asesinato: \"Una comisi\\xc3\\xb3n est\\xc3\\xa1 viniendo de Arabia Saud\\xc3\\xad ma\\xc3\\xb1ana. Tienen algo que hacer en el consulado (...) su trabajo dentro les llevar\\xc3\\xa1 dos o tres d\\xc3\\xadas\". Cuando el periodista lleg\\xc3\\xb3 al consulado, as las 1315h del 2 de octubre, varios agentes le interrogaron. \" Tenemos que llevarte de vuelta  (a Arabia Saud\\xc3\\xad). Hay una orden de la Interpol. La Interpol pide que te llevemos de regreso\", se escucha decir a unos de los funcionarios saud\\xc3\\xades. Los agentes trataron de que Khashoggi enviara unos mensajes desde su tel\\xc3\\xa9fono, a lo que \\xc3\\xa9l se rehus\\xc3\\xb3: \"\\xc2\\xbfQu\\xc3\\xa9 deber\\xc3\\xada decir? \\xc2\\xbfTe veo pronto? No puedo decir secuestro, as\\xc3\\xad que no escribir\\xc3\\xa9 nada\". El agente le contest\\xc3\\xb3: \"Escr\\xc3\\xadbalo, se\\xc3\\xb1or Jamal. Dese prisa y ay\\xc3\\xbadenos (...)  si no nos ayuda ya sabe lo que pasar\\xc3\\xa1 al final \".*****||*****\\r\\nwww.elconfidencial.com*****||*****elecciones-municipales-y-autonomicas*****||*****https://www.elconfidencial.com/elecciones-municipales-y-autonomicas/resultados/2019-05-26/loiu-escrutinio-recuento-26m_2030590/*****||*****Resultados de las elecciones municipales 2019 en Loiu*****||*****Resultados elecciones municipales 2019|*****||*****Uno de los mayores datos de participaci\\xc3\\xb3n*****||*****EAJ-PNV ser\\xc3\\xada la fuerza pol\\xc3\\xadtica preferida con un 70,03% de los votos, mientras que en segundo lugar aparecer\\xc3\\xada EH Bildu, con el 17,1%*****||*****https://www.ecestaticos.com/imagestatic/clipping/67c/3fa/67c3fae70212896487d85ed6d4d32ddc/arabia-saudi-hace-pagos-millonarios-a-los-hijos-de-khashoggi-casas-10-000-mes.jpg?mtime=1554182910*****||*****Elecciones municipales 2019. (EC)*****||*****EAJ-PNV ser\\xc3\\xada la fuerza pol\\xc3\\xadtica m\\xc3\\xa1s votada  en Loiu, al hacerse con nueve concejales cuando el recuento de las  elecciones municipales  llega al 100% de escrutinio, lo que supondr\\xc3\\xada uno m\\xc3\\xa1s que los registrados en la regi\\xc3\\xb3n durante los anteriores comicios. La formaci\\xc3\\xb3n nacionalista vasca se habr\\xc3\\xada hecho con el 70,03% de las papeletas, porcentaje que le valdr\\xc3\\xada para estar por delante de EH Bildu, que con dos ediles conseguir\\xc3\\xada el mismo n\\xc3\\xbamero que en las pasadas votaciones en el municipio, seg\\xc3\\xban los datos ofrecidos hasta el momento por el Ministerio del Interior.  La afluencia a las urnas ha sido superior  a la registrada durante la \\xc3\\xbaltima vez (68,36%), alcanzando el  73,26%  en la poblaci\\xc3\\xb3n \\xe2\\x80\\x9465,2% en el conjunto del pa\\xc3\\xads\\xe2\\x80\\x94. El dato depende, en gran medida, del ciclo pol\\xc3\\xadtico y de la distribuci\\xc3\\xb3n geogr\\xc3\\xa1fica, teniendo en cuenta que la abstenci\\xc3\\xb3n acusa niveles superiores en las zonas mar\\xc3\\xadtimas con respecto a las de interior. Conviene tener en cuenta que una gran asistencia durante las primeras horas de la jornada no se traslada necesariamente en una participaci\\xc3\\xb3n masiva al final del d\\xc3\\xada: as\\xc3\\xad por ejemplo, las elecciones generales de 1993 cuentan con el mejor registro a las 14:00 horas, con un 41,83%, pero acabaron como las quintas m\\xc3\\xa1s participativas.   Resultados en la provincia En el conjunto del pa\\xc3\\xads, el PP aparecer\\xc3\\xada como gran triunfador al aventajar a sus rivales en 2563 localidades. La formaci\\xc3\\xb3n nacionalista vasca encabezar\\xc3\\xada 51 municipalidades de Vizcaya, lo que le sit\\xc3\\xbaa por encima de EH Bildu, que ser\\xc3\\xada la formaci\\xc3\\xb3n con m\\xc3\\xa1s votos en 23 plazas; Adie, en uno; y Armendu, en uno. Estos son los partidos con mayor representaci\\xc3\\xb3n en la provincia: EAJ-PNV : 569 concejales (236856 votos). EH Bildu : 394 concejales (122097 votos). PSOE : 93 concejales (90918 votos). Elkarrekin Podemos : 39 concejales (47832 votos). PP : 15 concejales (30115 votos). En cualquier caso, los datos no son definitivos y habr\\xc3\\xa1 que esperar al final del escrutinio, que en 2015 tuvo lugar en torno a las 23:30 horas en el conjunto del pa\\xc3\\xads, pero que en esta ocasi\\xc3\\xb3n podr\\xc3\\xada llegar incluso m\\xc3\\xa1s tarde teniendo en cuenta que los colegios electorales de Italia cierran a las 23:00 horas y, hasta ese momento, no podr\\xc3\\xa1 hacerse p\\xc3\\xbablico el resultado de los comicios europeos, que precede a los locales y a los auton\\xc3\\xb3micos, por este orden. El recuento definitivo lo llevan a cabo las juntas electorales de zona por orden alfab\\xc3\\xa9tico de municipios y  no comienza hasta tres d\\xc3\\xadas despu\\xc3\\xa9s , de manera que los resultados oficiales se publican 40 d\\xc3\\xadas m\\xc3\\xa1s tarde en el Bolet\\xc3\\xadn Oficial del Estado (BOE). Resultados en otros municipios Vitoria-Gasteiz Alicante Barcelona Burgos C\\xc3\\xb3rdoba A Coru\\xc3\\xb1a Granada Irun San Sebasti\\xc3\\xa1n Logro\\xc3\\xb1o Madrid M\\xc3\\xa1laga Murcia Pamplona Santander Sevilla Valencia Valladolid Barakaldo Berango Bilbao Gatika Getxo Leioa Portugalete Sestao Urduliz Derio Erandio Sondika Zamudio Zaragoza*****||*****\\r\\nwww.elconfidencial.com*****||*****television*****||*****https://www.elconfidencial.com/television/programas-tv/2018-09-10/ana-torroja-operacion-triunfo-2018-monica-naranjo_1613779/*****||*****Ana Torroja sustituir\\xc3\\xa1 a M\\xc3\\xb3nica Naranjo en \\'OT 2018\\'*****||*****M\\xc3\\xb3nica Naranjo|Ana Torroja|Operaci\\xc3\\xb3n Triunfo|*****||*****novedades de la edici\\xc3\\xb3n*****||*****La cantante se unir\\xc3\\xa1 a Manuel Martos y Joe P\\xc3\\xa9rez-Orive como jurado del concurso. Una labor que comenzar\\xc3\\xa1 en la gala 0 con la criba de concursantes*****||*****https://www.ecestaticos.com/image/clipping/654/c67ecad435b3f546f24237468aeb8815/january-22-2017-barcelona-spain-semifinal-operacion-triunfo-2017-javier-llanos-and-joe-perez-orive-during-the-gala-12-of-ot-2017-cordon-press.jpg*****||*****Ana Torroja. (EFE)*****||*****Televisi\\xc3\\xb3n Espa\\xc3\\xb1ola  contin\\xc3\\xbaa revelando los cambios que sufrir\\xc3\\xa1 la nueva edici\\xc3\\xb3n de  \\'Operaci\\xc3\\xb3n Triunfo\\'.  El \\xc3\\xbaltimo,  un nuevo miembro en el jurado  que ocupar\\xc3\\xa1 el puesto de la cantante  M\\xc3\\xb3nica Naranjo.  Ser\\xc3\\xa1 Ana Torroja, vocalista del grupo Mecano, quien evaluar\\xc3\\xa1 a 16 concursantes que formar\\xc3\\xa1n el talent show. Un trabajo que comenzar\\xc3\\xa1 el pr\\xc3\\xb3ximo d\\xc3\\xada 19 de septiembre. [M\\xc3\\xa1s informaci\\xc3\\xb3n:  \\'M\\xc3\\xb3nica Naranjo, m\\xc3\\xa1s lejos que nunca de volver a participar en \\'Operaci\\xc3\\xb3n Triunfo\\'] La cantante compartir\\xc3\\xa1 mesa en cada gala junto a Manuel Martos y Joe P\\xc3\\xa9rez-Orive. Adem\\xc3\\xa1s, y esto s\\xc3\\xad que no ha cambiado , cada semana un personaje relevante de la industria musical y del espect\\xc3\\xa1culo formar\\xc3\\xa1 parte de este jurado  que examinar\\xc3\\xa1 de manera conjunta las actuaciones de los concursantes. Antes, en la gala 0, deber\\xc3\\xa1n hacer una criba para elegir a 16 de los 18 aspirantes. M\\xc3\\xb3nica Narajo y Joe P\\xc3\\xa9rez-Orive como jurado de \\'OT 2017\\', (Cordon Press) Torroja ser\\xc3\\xa1 el perfil de cantante de \\xc3\\xa9xito y larga trayector\\xc3\\xada que integra el equipo de evaluaci\\xc3\\xb3n del programa. Su carrera comenz\\xc3\\xb3 en 1977 cuando cre\\xc3\\xb3 Mecano junto a Nacho Cano y Jos\\xc3\\xa9 Mar\\xc3\\xada. Un grupo con gran reconomiento tanto nacional como internacional.  En 1997 decidi\\xc3\\xb3 continuar su camino en solitario con 5 discos  de gran \\xc3\\xa9xito hasta el momento. Ana Torroja sustituir\\xc3\\xa1 a M\\xc3\\xb3nica Naranjo en \\'OT 2018\\' \\xe2\\x80\\xbc\\xef\\xb8\\x8f\\xe2\\x80\\xbc\\xef\\xb8\\x8fAna Torroja ser\\xc3\\xa1 la gran novedad en el jurado de \\'OT 2018\\'  https://t.co/n5wk0nu835   pic.twitter.com/LfdzL4UBb6 \\xe2\\x80\\x94 OT 2018 (@OT_Oficial)  10 de septiembre de 2018 No ser\\xc3\\xa1 este el \\xc3\\xbanico cambio en la edici\\xc3\\xb3n de 2018 de  \\'OT\\' . La semana pasada RTVE confirmaba que finalmente  Javier Calvo y Javier Ambrossi abandonaban su puesto  como profesores de interpretaci\\xc3\\xb3n y en su lugar llegar\\xc3\\xa1 la actriz Itz\\xc3\\xadar Castro. [M\\xc3\\xa1s informaci\\xc3\\xb3n:    La inesperada respuesta de Itz\\xc3\\xadar Castro ante un insulto en redes sociales] Novedades que podremos disfrutar a partir del mi\\xc3\\xa9rcoles 19 de septiembre. Mientra tanto, para abrir apetito,  este lunes 10 de septiembre TVE emitir\\xc3\\xa1 el concierto  ben\\xc3\\xa9fico del Santiago Bernab\\xc3\\xa9u.*****||*****\\r\\nwww.elconfidencial.com*****||*****alma-corazon-vida*****||*****https://www.elconfidencial.com/alma-corazon-vida/2019-06-04/luis-elizondo-ovnis-eeuu-exjefe-pentagono-historias_2050882/*****||*****El exdirector del programa del Pent\\xc3\\xa1gono sobre ovnis cuenta lo que descubrieron*****||*****Estados Unidos (EEUU)|Cosmos|OVNI|Ufolog\\xc3\\xada|Pent\\xc3\\xa1gono|*****||*****LA VERDAD EST\\xc3\\x81 AH\\xc3\\x8d FUERA *****||*****Luis Elizondo, exjefe del Programa Avanzado de Identificaci\\xc3\\xb3n de Amenazas Aeroespaciales, rompe su silencio sobre los avistamientos en EEUU*****||*****https://www.ecestaticos.com/imagestatic/clipping/109/874/109874bc8b0b192e75dd7273226c1865/la-marina-de-eeuu-ha-avistado-ovnis-lo-que-han-contado.jpg?mtime=1559050599*****||*****Foto: iStock. *****||*****esde hace un par de semana el tema de los  ovnis  se ha vuelto a poner de moda. Desde que el gobierno de  Estados Unidos  reconociera que contin\\xc3\\xbaa investigando  avistamientos  en el  Programa Avanzado de Identificaci\\xc3\\xb3n de Amenazas Aeroespaciales  (AATIP), numerosos cient\\xc3\\xadficos y pol\\xc3\\xadticos del Congreso del pa\\xc3\\xads han decidido hablar sobre estos  fen\\xc3\\xb3menos a\\xc3\\xa9reos no identificados. Ahora el exdirector del plan de alto secreto asegura que \"tiene historias que contar\" y las ha compartido por primera vez en un nuevo documental que se estren\\xc3\\xb3 el pasado 31 de mayo en \\'History Channel\\'. Cuando el oficial de Inteligencia Militar  Luis Elizondo  sali\\xc3\\xb3 del Pent\\xc3\\xa1gono en 2017 decidi\\xc3\\xb3 hablar con los periodistas de \\' The New York Times \\' para  confirmar la existencia  de la agencia en la sombra y describir su misi\\xc3\\xb3n. \\xc2\\xbfPor qu\\xc3\\xa9 Elizondo ya no trabaja en el programa de avistamientos? Tuvo que abandonarlo tras la respuesta oficial a los hallazgos de la agencia y su falta de voluntad para abordar los riesgos potenciales de los ovnis. \" No hay una gran revelaci\\xc3\\xb3n  sobre los objetos voladores no identificados, pero s\\xc3\\xad profundizamos en los relatos ocultos de las investigaciones. Necesitamos superar los estigmas cuando hablamos m\\xc3\\xa1s abiertamente sobre los misteriosos aviones, algunos de los cuales pueden prepresentar una amenaza mayor de lo que creemos\", afirma a \\' Live Science \\'. Mantener en secreto los avistamientos de ovnis crea en la sociedad asociaciones absurdas y otras teor\\xc3\\xadas est\\xc3\\xbapidas sobre estos fen\\xc3\\xb3menos Los  ovnis  han fascinado a la gente durante d\\xc3\\xa9cadas, pero tambi\\xc3\\xa9n representan un desaf\\xc3\\xado \\xc3\\xbanico para los agentes federales que intentan determinar  si son una amenaza para la seguridad nacional.  Antes de AATIP, la Fuerza A\\xc3\\xa9rea americana ya hab\\xc3\\xada lanzado el \"Proyecto Libro Azul\", que estudi\\xc3\\xb3 m\\xc3\\xa1s de 12.000 supuestos avistamientos desde 1952 hasta 1969. Desaf\\xc3\\xadan las leyes Durante la permanencia de Elizondo en el programa aeroespacial, los pilotos informaron que los ovnis volaban a velocidades hipers\\xc3\\xb3nicas, m\\xc3\\xa1s de cinco veces la velocidad del sonido. Sin embargo, no hubo ninguna de las formas que creemos suelen acompa\\xc3\\xb1ar a estos  aparatos tan fant\\xc3\\xa1sticos , como las explosiones de sonido etc... Adem\\xc3\\xa1s, estas maquinarias espaciales tambi\\xc3\\xa9n  se mov\\xc3\\xadan inesperadamente  viajando tan r\\xc3\\xa1pido que habr\\xc3\\xadan experimentado fuerzas gravitacionales o fuerzas G, que exced\\xc3\\xadan con creces los  l\\xc3\\xadmites de resistencia  tanto para humanos como para aviones construidos por nosotros; por ejemplo, el F-16 Fighting Falcon, uno de los m\\xc3\\xa1s maniobrables en el arsenal de los Estados Unidos alcanza su l\\xc3\\xadmite alrededor de 16 a 18 G mientras que  nuestro cuerpo puede soportar m\\xc3\\xa1s o menos unos 9 G  y \"durante un tiempo muy corto\" antes de que una persona se desmaye. Necesitamos superar los estigmas cuando hablamos sobre los ovnis, ya que algunos pueden representar una amenaza mayor de lo que creemos \" Estas cosas tiraban de 400 o 500 G  y no ten\\xc3\\xadan ni alas, ni motores:  desaf\\xc3\\xadan las leyes naturales de la fuerza gravitacional  de la Tierra\", asegura. \"Algunos de los avistamientos se resolvieron finalmente como drones a\\xc3\\xa9reos o disparos de prueba de  nuevos tipos de misiles  que fueron vistos desde un \\xc3\\xa1ngulo inusual. Y aunque muchos casos todav\\xc3\\xada provocan las explicaciones racionales, simplemente  no hay pruebas suficientes para sugerir que son extraterrestres \", a\\xc3\\xb1ade. \\xc2\\xbfInvasi\\xc3\\xb3n? \\xc2\\xbfSer\\xc3\\xada posible que ocurriera como en tantas pel\\xc3\\xadculas hemos visto? \\xc2\\xbfHay probabilidades reales de una invasi\\xc3\\xb3n o est\\xc3\\xa1n ya entre nosotros y no lo sabemos? Seg\\xc3\\xban los expertos hay otra posibilidad todav\\xc3\\xada m\\xc3\\xa1s inquientante:  que un adversario extranjero haya desarrollado  secretamente este tipo de  tecnolog\\xc3\\xadas  que cambiar\\xc3\\xadan el juego estrat\\xc3\\xa9gico de las guerras. \"Mantener en secreto los avistamientos de ovnis crea en la sociedad asociaciones absurdas y otras teor\\xc3\\xadas est\\xc3\\xbapidas sobre estos fen\\xc3\\xb3menos\", asegura Elizondo. \"Esperamos en que nuestro pa\\xc3\\xads sepa que Corea del Norte tiene  proyectiles apuntando a Los \\xc3\\x81ngeles , pero no confiamos en ellos porque vemos que hay algo en nuestros  cielos  y  no sabemos qu\\xc3\\xa9 es \", concluye.*****||*****\\r\\nwww.elconfidencial.com*****||*****mundo*****||*****https://www.elconfidencial.com/mundo/europa/2019-08-16/bruselas-sin-puerto-no-puede-coordinar-distribucion_2180819/*****||*****Bruselas no coordinar\\xc3\\xa1 la distribuci\\xc3\\xb3n del Open Arms sin tener un puerto de destino   *****||*****Inmigraci\\xc3\\xb3n|Mediterr\\xc3\\xa1neo|Bruselas|Comisi\\xc3\\xb3n Europea|*****||*****Tras 15 d\\xc3\\xadas a la deriva*****||*****La portavoz de Migraci\\xc3\\xb3n de la CE afirma que no tienen competencias para designar en qu\\xc3\\xa9 puerto debe atracar pero \"trabaja con los Estados miembros para encontrar una soluci\\xc3\\xb3n\"*****||*****https://www.ecestaticos.com/imagestatic/clipping/7da/326/7da3265700097c91809afd097a69b7d2/imagen-sin-titulo.jpg?mtime=1565937045*****||*****El baco Open Arms en la costa italiana. (Reuters)*****||*****La  Comisi\\xc3\\xb3n Europea  ha advertido este viernes de que  no puede iniciar las labores de distribuci\\xc3\\xb3n  de los migrantes que todav\\xc3\\xada permanecen a  bordo del Open Arms  entre los pa\\xc3\\xadses que se han ofrecido para acogerles sin que antes haya sido designado un  puerto para su desembarco . \"Est\\xc3\\xa1 claro que no podemos  distribuir a los migrantes  si no hay un desembarco\", ha afirmado en una rueda de prensa la portavoz de Migraci\\xc3\\xb3n del Ejecutivo comunitario,  Tove Ernst . \"Solo podemos proceder con la  coordinaci\\xc3\\xb3n formal sobre el terreno  y el apoyo a los Estados miembros en cuanto a la distribuci\\xc3\\xb3n cuando los migrantes hayan efectivamente desembarcado\", ha explicado. La portavoz ha recordado que Bruselas  no tiene competencias  para designar en qu\\xc3\\xa9 puerto debe atracar el Open Arms y lo que est\\xc3\\xa1 haciendo es \"trabajar con los Estados miembros para  encontrar una soluci\\xc3\\xb3n \" para el reparto de las personas a bordo \"una vez hayan desembarcado\". \"Esto, por supuesto, puede contribuir a  crear las condiciones  para que un Estado miembro acepte el desembarco\" en uno de sus puertos, ha a\\xc3\\xb1adido. \"Aunque  no podemos tomar la decisi\\xc3\\xb3n  sobre el desembarco, podemos dar las condiciones necesarias para que un Estado miembro lo haga\", ha reiterado. D\\xc3\\xada 15. Vivimos a bordo una agon\\xc3\\xada insoportable.  6 evacuaciones de emergencia en estas 2 semanas de calvario.  Tierra a la vista y ninguna soluci\\xc3\\xb3n. Los derechos de 134 personas son vulnerados cada minuto que pasa. Si la pol\\xc3\\xadtica europea incapaz de poner l\\xc3\\xadmites, \\xc2\\xbfqu\\xc3\\xa9 nos queda?  pic.twitter.com/bnQ3By23jV \\xe2\\x80\\x94 Open Arms (@openarms_fund)  August 16, 2019   Adem\\xc3\\xa1s, la Comisi\\xc3\\xb3n Europea ha celebrado que  seis socios comunitarios  est\\xc3\\xa9n \"dispuestos a  mostrar solidaridad  y a participar en la redistribuci\\xc3\\xb3n de los migrantes\", al tiempo que ha agradecido la cooperaci\\xc3\\xb3n de Francia, Alemania, Luxemburgo, Portugal, Rumania y Espa\\xc3\\xb1a durante los  \"intensos\" encuentros mantenidos  en los \\xc3\\xbaltimos d\\xc3\\xadas. Bruselas ha criticado que la situaci\\xc3\\xb3n de las personas  a bordo del barco es \"insostenible\" , y ha aprovechado para insistir en que urge encontrar  soluciones \"predecibles y sostenibles\"  para desembarcar a los migrantes rescatados en el Mediterr\\xc3\\xa1neo de forma  \"r\\xc3\\xa1pida y segura\" . \" No es responsabilidad de uno o dos  Estados miembros, sino de Europa entera\", ha apuntado la portavoz del Ejecutivo comunitario  Vanessa Mock , quien ha explicado que no hay novedades sobre la  situaci\\xc3\\xb3n del Ocean Viking , aunque tambi\\xc3\\xa9n se desarrollan \"contactos intensos\" para encontrar una soluci\\xc3\\xb3n.*****||*****\\r\\nwww.elconfidencial.com*****||*****deportes*****||*****https://www.elconfidencial.com/deportes/formula-1/2018-06-04/f1-mclaren-zak-brown-fernando-alonso-renault-honda_1573442/*****||*****La cruda realidad de McLaren: \"El t\\xc3\\xadtulo no ser\\xc3\\xa1 posible para 2019, ni siquiera para 2020\"*****||*****Red Bull|Lando Norris|Montmel\\xc3\\xb3|IndyCar|Honda|Renault|Fernando Alonso|F\\xc3\\xb3rmula 1|Zak Brown|McLaren|*****||*****Mclaren no encuentra la direcci\\xc3\\xb3n adecuada*****||*****McLaren no est\\xc3\\xa1 pasando por su mejor etapa en la F\\xc3\\xb3rmula 1 y sigue sin encontrar la direcci\\xc3\\xb3n adecuada. Zak Brown ve un futuro poco alentador para los de Woking en los dos pr\\xc3\\xb3ximos a\\xc3\\xb1os*****||*****https://www.ecestaticos.com/imagestatic/clipping/ae4/379/ae43792ed1e91e6a334d30c2ff5a54f6/alonso-vuela-en-su-debut-en-le-mans-y-descubre-por-que-es-el-circuito-de-circuitos.jpg?mtime=1528056606*****||*****Zak Brown no ve con opciones a McLaren de luchar por el t\\xc3\\xadtulo en un futuro cercano.*****||*****McLaren  no  est\\xc3\\xa1 pasando por su mejor etapa  en la   F\\xc3\\xb3rmula 1  y sigue sin encontrar la direcci\\xc3\\xb3n adecuada. \\xe2\\x80\\x9cEstamos muy lejos del nivel de Red Bull y esta diferencia no se resuelve de la noche a la ma\\xc3\\xb1ana. Apuntar al t\\xc3\\xadtulo no ser\\xc3\\xa1 posible para 2019, ni siquiera para 2020. Por el momento solo tenemos que trabajar duro y marchar hacia una direcci\\xc3\\xb3n clara\\xe2\\x80\\x9d, asegur\\xc3\\xb3  Zak Brown  en una charla con \\'F\\xc3\\xb3rmula1.com\\' publicada este domingo. Cuando  dejar atr\\xc3\\xa1s a Honda  y firmar con Renault iba a significar un gran paso adelante y llegar a acercarse al nivel de los de arriba, lo que est\\xc3\\xa1 claro, aunque ha habido mejora, es que todav\\xc3\\xada se encuentran muy lejos de  Ferarri ,  Mercedes  y  Red Bull . Para el director ejecutivo de los de  Woking ,  las mejoras aerodin\\xc3\\xa1micas incorporadas en Barcelona , han funcionado correctamente en el  MCL33 , y tanto  Fernando Alonso  como  Stoffel Vandoorme  est\\xc3\\xa1n contentos con ellas. Unas mejoras que no llegan al objetivo Zak Brown confirm\\xc3\\xb3 que  los trabajos en el t\\xc3\\xbanel de viento marchan correctamente  y les est\\xc3\\xa1n aportando grandes datos de cara al coche de la pr\\xc3\\xb3xima temporada. Intentar\\xc3\\xa1n seguir mejorando para dar pasos hacia delante a nivel interno, de cara a plasmar este trabajo en el monoplaza. Las mejoras que llegaron a Barcelona han sido un peque\\xc3\\xb1o paso pero los dem\\xc3\\xa1s equipos tambi\\xc3\\xa9n mejoran y lo que promet\\xc3\\xada Brown en diciembre tras el cambio de motor, \" esperamos podios en 2018 \", no lo est\\xc3\\xa1n cumpliendo. \\xe2\\x80\\x9cLas mejoras que incorporamos en Barcelona,  son un verdadero paso adelante , el coche est\\xc3\\xa1 respondiendo bien y a los pilotos les gusta, es una mejora sustancial. Tambi\\xc3\\xa9n hubo una buena correlaci\\xc3\\xb3n con el t\\xc3\\xbanel de viento, que es de gran ayuda para los desarrollos futuros\\xe2\\x80\\x9d, coment\\xc3\\xb3 Zak Brown. Zak Brown anima al equipo a continuar trabajando duro y seguir en la direcci\\xc3\\xb3n correcta. Con estas declaraciones del director ejecutivo de McLaren, la incertidumbre en torno a la renovaci\\xc3\\xb3n de Fernando Alonso crece notablemente, por lo que habr\\xc3\\xa1 que esperar al final del verano para ver cu\\xc3\\xa1l es la decisi\\xc3\\xb3n tanto del asturiano, como la de su compa\\xc3\\xb1ero de equipo, Vandoorne, que tampoco tiene contrato para 2019 y por debajo,  un joven llamado Lando Norris , viene pisando fuerte. Alonso lidera el dominio de Toyota en los entrenamientos de las 24 horas de Le Mans Jonathan Llata Fernando Alonso ha comenzado muy bien su primera andadura con el monoplaza con el que disputar\\xc3\\xa1 las 24 Horas de Le Mans del Mundial de Resistencia con el mejor tiempo del d\\xc3\\xada Alonso no esperar\\xc3\\xa1 hasta 2021 El futuro del asturiano en la F\\xc3\\xb3rmula 1 est\\xc3\\xa1 m\\xc3\\xa1s en el aire que nunca , su larga espera a un coche competitivo que parece nunca llegar y su probatura en otras competiciones como la  Indycar  o el  Mundial de Resistencia  ( WEC ) le han atra\\xc3\\xaddo m\\xc3\\xa1s de lo que \\xc3\\xa9l esperaba y podr\\xc3\\xada dejar el  Gran Circo  el pr\\xc3\\xb3ximo a\\xc3\\xb1o. Como adelant\\xc3\\xb3  El Confidencial , Luis Garc\\xc3\\xada Abad, manager del asturiano, estuvo presente en el  viaje a Detroit de Zak Brown , para visitar el Gran Premio de Detroit, la cita del Indycar posterior a las  500 Millas de Indian\\xc3\\xa1polis . Un viaje relacionado con el  proyecto de McLaren para participar en el campeonato americano el pr\\xc3\\xb3ximo a\\xc3\\xb1o  y que podr\\xc3\\xada tener al piloto espa\\xc3\\xb1ol como punta de lanza. En  Montmel\\xc3\\xb3 , Brown volvi\\xc3\\xb3 a repetir que esperaba contar con la presencia de Alonso en futuros planes de McLaren m\\xc3\\xa1s all\\xc3\\xa1 de la F\\xc3\\xb3rmula 1. \"Creo que  mucho de lo que hemos hecho lo ha mantenido . S\\xc3\\xa9 que estamos bajo presi\\xc3\\xb3n, s\\xc3\\xa9 que estoy bajo presi\\xc3\\xb3n. Probablemente, si hay algo frustrante es que la gente no comprende cu\\xc3\\xa1nto tiempo llevan estas cosas. \\xe2\\x80\\x9c\\xc3\\x89l sabe que McLaren no va a ganar el Mundial el pr\\xc3\\xb3ximo a\\xc3\\xb1o. Probablemente tampoco en 2020\\xe2\\x80\\x9d. Los de Woking saben que, aunque todo el proceso lleve mucho tiempo, al asturiano se le est\\xc3\\xa1 acabando y no quiere pasar m\\xc3\\xa1s tiempo sin sentirse competitivo y la F\\xc3\\xb3rmula 1 en estos momentos no es lugar m\\xc3\\xa1s propicio para ofrec\\xc3\\xa9rselo.*****||*****\\r\\nwww.elconfidencial.com*****||*****alma-corazon-vida*****||*****https://www.elconfidencial.com/alma-corazon-vida/2019-02-11/azucar-salud-diabetes-enfermedad-corazon_1817262/*****||*****\\xc2\\xbfDemasiado az\\xc3\\xbacar? Si tienes estos s\\xc3\\xadntomas, debes cortar por lo sano*****||*****Trucos adelgazar|Asociaci\\xc3\\xb3n Americana de Cardiolog\\xc3\\xada|Diabetes|Enfermedades cardiovasculares|Recomendaciones|Grasa|Nutrici\\xc3\\xb3n|OMS|Az\\xc3\\xbacar|Salud|*****||*****MEJOR PREVENIR QUE CURAR*****||*****Si sufres de dolor de cabeza o tienes cambios de humor repentinos, entre otras manifestaciones som\\xc3\\xa1ticas, la culpa puede ser de tus altos niveles de glucosa en sangre*****||*****https://www.ecestaticos.com/image/clipping/654/235eb84be30450c922249addafea78bc/f.jpg*****||*****Foto: iStock.*****||*****La Organizaci\\xc3\\xb3n Mundial de la Salud (OMS)  recomienda que el consumo de az\\xc3\\xbacares no sobrepase  el 10% de la ingesta cal\\xc3\\xb3rica diaria , lo que equivale m\\xc3\\xa1s o menos a 50 gramos o 12 cucharadas al d\\xc3\\xada. Otros organismos, como la prestigiosa American Heart Association, establecen  el l\\xc3\\xadmite en solo 25 gramos . Un espa\\xc3\\xb1ol medio ingiere un total de  111,2 gramos al d\\xc3\\xada, lo que representa el 18,2%  del aporte de calor\\xc3\\xadas, seg\\xc3\\xban  el estudio ENRICA  (Estudio de Nutrici\\xc3\\xb3n y Riesgo Cardiovascular). Esto quiere decir que  los espa\\xc3\\xb1oles casi duplicamos las recomendaciones  internacionales de la OMS. Pero m\\xc3\\xa1s all\\xc3\\xa1 de los datos, \\xc2\\xbfc\\xc3\\xb3mo saber si tu consumo de az\\xc3\\xbacar es mucho m\\xc3\\xa1s alto de lo que deber\\xc3\\xada ser? Debido a que el cuerpo de cada persona es diferente, la cantidad de glucosa deparar\\xc3\\xa1 efectos distintos en cada organismo. El especialista en desintoxicaci\\xc3\\xb3n m\\xc3\\xa9dica,  Autumn Bates , ha compartido en la revista \\'Pop Sugar\\'  algunas se\\xc3\\xb1ales para mantenerte alerta y no sobrepasarte con la dosis de az\\xc3\\xbacar recomendada , con el fin de evitar y prevenir enfermedades cardiovasculares como la presi\\xc3\\xb3n arterial alta o la diabetes. Cambios de humor Si de repente un d\\xc3\\xada te encuentras muy bien y al siguiente  \\xe2\\x80\\x9cno puedes con tu vida\\xe2\\x80\\x9d , tu dieta podr\\xc3\\xada estar detr\\xc3\\xa1s de estos cambios dr\\xc3\\xa1sticos de humor. \\xe2\\x80\\x9cUna dieta alta en az\\xc3\\xbacar puede producir cambios an\\xc3\\xadmicos en la persona\\xe2\\x80\\x9d,  asegura  Bates. \\xe2\\x80\\x9cEsto es debido al aumento y descenso repentino de los niveles de glucosa en sangre. Como el cuerpo la absorbe de forma m\\xc3\\xa1s r\\xc3\\xa1pida que la grasa o la prote\\xc3\\xadna,  se produce una oleada de energ\\xc3\\xada que viene acompa\\xc3\\xb1ada de una ca\\xc3\\xadda muy repentina.  Esto puede hacer que te sientas de mal humor, enfadado, con m\\xc3\\xa1s ansiedad o molesto.  Y s\\xc3\\xad, con mucha hambre\\xe2\\x80\\x9d . En definitiva, restringir el consumo de dulces podr\\xc3\\xada equilibrar tu estado de \\xc3\\xa1nimo y generar m\\xc3\\xa1s sentimientos positivos. La hiperglucemia sucede cuando los niveles de glucosa est\\xc3\\xa1n por encima de los 200 gramos diarios Los altos niveles de az\\xc3\\xbacar en sangre tambi\\xc3\\xa9n est\\xc3\\xa1n relacionados con los desequilibrios hormonales que pueden aparecer de varias formas. Una de las m\\xc3\\xa1s comunes es  el acn\\xc3\\xa9 . Si es tu problema, el experto aconseja reducir el consumo de glucosa e investigar por t\\xc3\\xad mismo c\\xc3\\xb3mo repercute a tu piel y si es  el factor principal de la aparici\\xc3\\xb3n de granos. Dolores de cabeza Cuando aparecen episodios reiterados de cefaleas o migra\\xc3\\xb1as, puede que te cuerpo te est\\xc3\\xa9 dando se\\xc3\\xb1ales de que  tu consumo de az\\xc3\\xbacar es muy elevado.  La hiperglucemia es la principal causa del dolor de cabeza en diab\\xc3\\xa9ticos. Cuando esto sucede, significa que los niveles de glucosa est\\xc3\\xa1n muy altos. Foto: iStock. Sin embargo, hay personas que puede que no los sufran.  La hiperglucemia no deriva directamente en dolores de cabeza.  Por ello, si reduces el consumo de dulces pero las migra\\xc3\\xb1as no cesan, lo mejor que puedes hacer es acudir a tu m\\xc3\\xa9dico de cabecera, ya que puede tratarse de alguna otra enfermedad m\\xc3\\xa1s o menos grave. No puedes bajar peso Si haces ejercicio de forma constante y sigues  una dieta sana y equilibrada  pero no puedes perder peso, es hora de que eval\\xc3\\xbaes los niveles de az\\xc3\\xbacar en sangre. \\xe2\\x80\\x9cAdministrar un flujo de glucosa a tu cuerpo hace que sea imposible que queme los dep\\xc3\\xb3sitos de grasa\\xe2\\x80\\x9d, asegura Bates. \\xe2\\x80\\x9c\\xc2\\xbfQuieres adelgazar? Lleg\\xc3\\xb3 la hora de dejar atr\\xc3\\xa1s los dulces.  Es mucho m\\xc3\\xa1s f\\xc3\\xa1cil para tu organismo usar el az\\xc3\\xbacar como fuente de energ\\xc3\\xada cuando est\\xc3\\xa1 disponible,  por lo que una ingesta alta y desproporcionada de glucosa har\\xc3\\xa1 que sea extremadamente dif\\xc3\\xadcil aprovechar la energ\\xc3\\xada almacenada como grasa\\xe2\\x80\\x9d.*****||*****\\r\\nwww.elconfidencial.com*****||*****empresas*****||*****https://www.elconfidencial.com/empresas/2019-02-18/ranking-chambers-partners-despachos-abogados-espana_1818574/*****||*****Los abogados espa\\xc3\\xb1oles se acicalan para Chambers, la gu\\xc3\\xada Michelin del sector*****||*****Despachos Abogados|*****||*****la fecha l\\xc3\\xadmite para enviar informaci\\xc3\\xb3n a la gu\\xc3\\xada vence esta semana*****||*****Desde hace semanas, los despachos de abogados trabajan contrarreloj para tener listas sus candidaturas para Chambers & Partners, el \\'ranking\\' de abogados m\\xc3\\xa1s importante del sector*****||*****https://www.ecestaticos.com/imagestatic/clipping/f4f/fc3/f4ffc34c561896f994967d6fc238a494/los-despachos-de-abogados-suben-sueldos-tras-dos-anos-seguidos-de-recortes.jpg?mtime=1549390106*****||*****Vista general de las Cuatro Torres en Madrid. (Reuters)*****||*****La fecha est\\xc3\\xa1 marcada en rojo en el calendario: 20 de febrero. Ese es el d\\xc3\\xada en que los  despachos de abogados  tienen que tener lista la primera tanda de \\'submissions\\' para colocar a sus abogados en lo alto del podio de  Chambers & Partners , el \\'ranking\\' de abogados m\\xc3\\xa1s importante del sector. Detr\\xc3\\xa1s de cada nombre y apellidos hay muchas, much\\xc3\\xadsimas horas de trabajo rellenando formularios y \\'empaquetando\\' las candidaturas para escalar posiciones en un mercado cada vez m\\xc3\\xa1s competitivo y donde no es f\\xc3\\xa1cil apear a las viejas glorias del sector. \"Los \\'rankings\\' son  uno de los pocos referentes externos de reputaci\\xc3\\xb3n  que existen en el mercado legal y han adquirido esa importancia porque hay clientes que, en muchas ocasiones, los tienen en cuenta  a la hora de elegir despacho de abogados para un tipo de operaci\\xc3\\xb3n  concreta\", explica  Susana Claudio , directora de la consultora Band 1. \"No hay ninguna otra herramienta as\\xc3\\xad en el sector y  sirve para diferenciarse.  Ante la cantidad de despachos nacionales e internacionales, estos \\'rankings\\' sirven para promocionarse ante tantos competidores\". Para  Ana Delgado , responsable de Desarrollo de Negocio de  Pinsent Masons , los \\'rankings\\'  \"son una vara de medir\"  y hay que distinguir entre los que se basan en criterios objetivos y cuantificables (como la facturaci\\xc3\\xb3n) o subjetivos (relaci\\xc3\\xb3n con los clientes, medios...). No todos son iguales y hay que ser \"cr\\xc3\\xadtico\" a la hora de clasificar a un abogado en funci\\xc3\\xb3n de qu\\xc3\\xa9 dicen de \\xc3\\xa9l los directorios. Este a\\xc3\\xb1o, los \\'deadlines\\' (fechas l\\xc3\\xadmite de entrega) que manejan las firmas son, adem\\xc3\\xa1s del 20 de febrero, el 15 de mayo y el 4 de septiembre  en funci\\xc3\\xb3n de las pr\\xc3\\xa1cticas.  No obstante, el trabajo que hay detr\\xc3\\xa1s de cada candidatura es mucho m\\xc3\\xa1s amplio y no se limita a unos pocos d\\xc3\\xadas antes de las entregas.  \"El proceso es anual\" , apunta Delgado. \"Internamente, las candidaturas se preparan a lo largo del a\\xc3\\xb1o, ya que los equipos van reportando todas sus operaciones y esa es la informaci\\xc3\\xb3n que, llegado el momento, se unifica y se presenta en la \\'submission\". Para Claudio, no existe una f\\xc3\\xb3rmula m\\xc3\\xa1gica para hacer una buena candidatura y, al igual que Delgado, cree que  se trata m\\xc3\\xa1s de una carrera de fondo que de un \\'sprint\\' final.  \"El despacho tiene que demostrar con datos y evidencias por qu\\xc3\\xa9 debe ser incluido en el \\'ranking\\' o subir de categor\\xc3\\xada\". Y para ello es fundamental moldear d\\xc3\\xada a d\\xc3\\xada el bien intangible m\\xc3\\xa1s importante para cualquier empresa: su  reputaci\\xc3\\xb3n . Especialmente entre los clientes. Todos los profesionales consultados apuntan a que  las referencias (positivas) son el andamiaje clave  para construir una candidatura de \\xc3\\xa9xito, aunque no todo vale. \"No por enviar un listado de nombres importantes o de altos directivos significa que vayas a salir mejor posicionado\", a\\xc3\\xb1ade  Esther Lozano , responsable de Desarrollo Corporativo de  Grupo RLD . \"Si esos clientes no est\\xc3\\xa1n dispuestos a contestar los \\'e-mails\\' o llamadas de los directorios, no sirve de nada mandar una lista vip\". En este sentido, es importante que los clientes sean accesibles y no referenciar siempre a los mismos para evitar que se agobien. Este a\\xc3\\xb1o, los \\'deadlines\\' que manejan las firmas son, adem\\xc3\\xa1s del 20 de febrero, el 15 de mayo y el 4 de septiembre en funci\\xc3\\xb3n de las pr\\xc3\\xa1cticas Hasta aqu\\xc3\\xad, la cara m\\xc3\\xa1s conocida de Chambers y otros directorios como The Legal 500, porque aunque nadie duda de la importancia que tienen,  tambi\\xc3\\xa9n hay \\'peros\\' sobre su funcionamiento.  El primero y el que m\\xc3\\xa1s se repite en el sector, y que tambi\\xc3\\xa9n apunta Claudio, es  la ingente cantidad de tiempo que lleva preparar las candidaturas , una inversi\\xc3\\xb3n que muchas veces no tiene un retorno. Otros responsables consultados tambi\\xc3\\xa9n se\\xc3\\xb1alan la dificultad de que entren abogados nuevos en las bandas m\\xc3\\xa1s altas de los \\'rankings\\', donde suele ser habitual encontrar a\\xc3\\xb1o tras a\\xc3\\xb1o a los \\'pesos pesados\\' de determinadas \\xc3\\xa1reas y donde  el margen para \\'meter\\' caras nuevas es complicado.  Otro problema a\\xc3\\xb1adido, esta vez a nivel interno de Chambers, es  la rotaci\\xc3\\xb3n de los investigadores , que son quienes se encargan de elaborar los directorios y contrastar la informaci\\xc3\\xb3n que env\\xc3\\xadan los despachos. Si cambian mucho, las firmas est\\xc3\\xa1n obligadas a empezar de cero las relaciones con ellos, lo que resulta ciertamente engorroso. De cara al futuro, Chambers tiene varios deberes sobre la mesa. Desde la posibilidad de  desarrollar directorios m\\xc3\\xa1s sectoriales  a afrontar el impacto que tecnolog\\xc3\\xadas como la  inteligencia artificial  pueden tener en el an\\xc3\\xa1lisis de los datos que se utilizan. Todo ello, siempre y cuando se siga contando con el pl\\xc3\\xa1cet de los clientes y quieran hablar. Porque, como se\\xc3\\xb1ala Claudio, el d\\xc3\\xada en que decidan no hacerlo quiz\\xc3\\xa1 sea el final.*****||*****\\r\\nwww.elconfidencial.com*****||*****cultura*****||*****https://www.elconfidencial.com/cultura/2019-07-17/muere-andrea-camilleri-93-anos-maestro-novela-negra_2079253/*****||*****Muere Andrea Camilleri a los 93 a\\xc3\\xb1os, el maestro italiano de la novela negra*****||*****Obituario|Novela negra|Literatura|*****||*****Tras haber sufrido un infarto en junio*****||*****El creador del Comisario Montalbano lleg\\xc3\\xb3 a ser uno de los escritores m\\xc3\\xa1s vendidos de Europa y sus obras se tradujeron a m\\xc3\\xa1s de 35 idiomas*****||*****https://www.ecestaticos.com/image/clipping/654/60d27f02c7f7ffb548b5c73ecf67e21a/md03-madrid-30-04-2010-el-escritor-italiano-andrea-camilleri-asegura-que-vive-en-un-pais-absurdo-e-irreal-pero-a-sus-casi-85-anos-sigue-dando-muestras-de-una-envidiable-vitalidad-literaria-en-la-pista-de-arena-una-aventura-del-comisario-montalbano-que-acaba-de-publicarse-en-espanol-y-de-la-que-ha-hablado-con-efe-efe-solo-uso-editorial-.jpg*****||*****El escritor italiano Andrea Camilleri. (EFE)*****||*****En una charla para \\'La Vanguardia Magazine\\' en 1999,  Andrea Camilleri  (Porto Empedocle, Sicilia, 1925) bromeaba porque no le hab\\xc3\\xadan aceptado en un club de fans del Comisario Montalbano. \"En Internet existe una estupenda p\\xc3\\xa1gina web sobre Montalbano, hecha por un club de fans. Para formar parte de este club debes responder a diez preguntas sobre mis personajes. Lo intent\\xc3\\xa9 pero fui rechazado: me equivoqu\\xc3\\xa9 en cuatro de ellas\". \"Debes prepararte mejor\", rezaba el resultado de la prueba. Los seguidores de  Salvo Montalbano  rechazaron a su creador, al que le dio vida en una veintena de novelas y lo convirti\\xc3\\xb3 en un h\\xc3\\xa9roe ficticio de Italia. Hace 20 a\\xc3\\xb1os, el italiano se divert\\xc3\\xada contando esta an\\xc3\\xa9cdota casi freudiana a  Manuel V\\xc3\\xa1zquez Montalb\\xc3\\xa1n , el escritor espa\\xc3\\xb1ol que dio su apellido a  Montalbano . Camilleri ha muerto este mi\\xc3\\xa9rcoles en el hospital romano del Santo Spirito a los 93 a\\xc3\\xb1os de edad, tras haber sufrido un infarto el pasado mes de junio que le dej\\xc3\\xb3 en estado grave. El escritor italiano Andrea Camilleri. (EFE) La amistad de Camilleri con V\\xc3\\xa1zquez Montalb\\xc3\\xa1n comenz\\xc3\\xb3 en los 80, cuando ley\\xc3\\xb3 la primera novela del escritor catal\\xc3\\xa1n,  \\'Asesinato en el comit\\xc3\\xa9 central\\'.  As\\xc3\\xad lo contaba Camilleri en el acto del  IX Premio Pepe Carvalho , que gan\\xc3\\xb3 en Barcelona hace cinco a\\xc3\\xb1os. El relato le entusiasm\\xc3\\xb3, le revel\\xc3\\xb3 la clave de la novela negra. Su debut narrativo rond\\xc3\\xb3 aquella d\\xc3\\xa9cada y las alabanzas de la cr\\xc3\\xadtica llegaron dos a\\xc3\\xb1os despu\\xc3\\xa9s con \\'Un hilo de humo\\', ambientada en una ciudad imaginaria de Silicia en el siglo XIX. Andrea Camilleri  estudi\\xc3\\xb3 Direcci\\xc3\\xb3n en la  Academia de Arte Dram\\xc3\\xa1tico Silvio D\\'Amico  y trabaj\\xc3\\xb3 durante cuarenta a\\xc3\\xb1os como guionista, director de teatro y televisi\\xc3\\xb3n. El escritor italiano estuvo afiliado al  Partido Comunista Italiano . En 1988, conoci\\xc3\\xb3 a V\\xc3\\xa1zquez Montalb\\xc3\\xa1n en un acto en la Festa de la Unit\\xc3\\xa0 italiana. Desde entonces continuaron profundizando en su amistad y admiraci\\xc3\\xb3n literaria, tanto que Camilleri dedic\\xc3\\xb3 al catal\\xc3\\xa1n el nombre del personaje que lo elev\\xc3\\xb3 al podio de los escritores de novela negra m\\xc3\\xa1s populares de Italia: el siciliano  Salvo Montalbano.  La portada de \\'La forma del agua\\', primera de las novelas protagonizadas por el Comisario Montalbano. (Salamandra) En 1994, con 69 a\\xc3\\xb1os, dio a luz al heterodoxo comisario en  \\'La forma del agua\\' . \\xc3\\x89xito rotundo. 25 t\\xc3\\xadtulos m\\xc3\\xa1s completaron una serie de novela negra traducida a 35 idiomas. Los italianos abrazaron y amaron el homenaje de Camilleri a V\\xc3\\xa1zquez Montalb\\xc3\\xa1n, que entr\\xc3\\xb3 en sus casas con una serie producida por la  Radiotelevisi\\xc3\\xb3n Italiana  y supervisada por el escritor. Hay quien dice que, si para conocer  Sicilia  basta con leer a  Camilleri , para conocer  Barcelona  hay que leer a  V\\xc3\\xa1zquez Montalb\\xc3\\xa1n . Pepe Carvalho, el detective que protagoniza la serie policiaca del escritor catal\\xc3\\xa1n, fascin\\xc3\\xb3 a Camilleri. Hasta tal punto conectaron que se plantearon escribir  un libro \"a cuatro manos \". El proyecto nunca lleg\\xc3\\xb3 a desarrollarse. En 2003, Montalb\\xc3\\xa1n muri\\xc3\\xb3 por un paro card\\xc3\\xadaco en el aeropuerto de Bangkok (Tailandia). Antes y despu\\xc3\\xa9s de Montalbano Fumador insaciable, Camilleri se cas\\xc3\\xb3 en 1947 con  Rosetta Dello Siesto , con quien tuvo tres hijas, y no siempre se dedic\\xc3\\xb3 a la escritura de novelas. Hasta los setenta a\\xc3\\xb1os,  dirigi\\xc3\\xb3 obras teatrales y fue guionista en radio y televisi\\xc3\\xb3n.  En la RAI  de blanco y negro particip\\xc3\\xb3 en producciones polic\\xc3\\xadacas, como la serie sobre el teniente Sheridan en la d\\xc3\\xa9cada de 1960. Mientras, escribi\\xc3\\xb3 varias obras sin gran relevancia para el p\\xc3\\xbablico, hasta el punto de que costeaba su publicaci\\xc3\\xb3n de su propio bolsillo. El \\xc3\\xa9xito le lleg\\xc3\\xb3 a  Camilleri  cuando el com\\xc3\\xban de los mortales se jubila: a los 70 a\\xc3\\xb1os triunf\\xc3\\xb3 con \\'La temporada de caza\\' (1992), inspirado en la Sicilia rural decimon\\xc3\\xb3nica, y con su estilo ir\\xc3\\xb3nico conquista definitivamente al p\\xc3\\xbablico desde 1994 con Montalbano. Creci\\xc3\\xb3 en la  Italia fascista  hasta los dieciocho a\\xc3\\xb1os, vivi\\xc3\\xb3 en su Sicilia natal la liberaci\\xc3\\xb3n del pa\\xc3\\xads por los estadounidenses en la II Guerra Mundial y, despu\\xc3\\xa9s, se afili\\xc3\\xb3 al  Partido Comunista italiano. El escritor italiano Andrea Camilleri, tras depositar su voto en las elecciones romanas de 2010. (EFE) Nunca evit\\xc3\\xb3 hablar de pol\\xc3\\xadtica, y lo plasm\\xc3\\xb3 en \\'Come la penso\\' (2013), su autobiograf\\xc3\\xada a base de ensayos y recuerdos. En los \\xc3\\xbaltimos a\\xc3\\xb1os, ha alertado de la irrupci\\xc3\\xb3n del  \"virus mutante\"  del fascismo inoculado a trav\\xc3\\xa9s de la  xenofobia  y la intransigencia. Incluso ha arremetido contra el que quiz\\xc3\\xa1 sea el pol\\xc3\\xadtico m\\xc3\\xa1s poderoso de la Italia actual: el ministro del Interior y l\\xc3\\xadder de la ultraderechista Liga  Matteo Salvini . Asegur\\xc3\\xb3 que tiene \"una mentalidad fascista\" en una reciente entrevista. Corpulento, de rostro hosco, voz ronca y afectado por  una ceguera  que le obligaba a escribir dictando, aspiraba a acabar sus d\\xc3\\xadas como un cuentahistorias. \"Si pudiera me gustar\\xc3\\xada acabar mi carrera sentado en una plaza contando historias y, al final de mi cuento, pasar entre el p\\xc3\\xbablico con la boina en la mano\", sol\\xc3\\xada decir. \"Si pudiera, me gustar\\xc3\\xada acabar mi carrera sentado en una plaza contando historias y pasar entre el p\\xc3\\xbablico con la boina en la mano\" Su compromiso con los lectores fue total y hasta sus \\xc3\\xbaltimos momentos. El pr\\xc3\\xb3ximo julio deb\\xc3\\xada acudir por primera vez al teatro de las  Termas de Caracalla de Roma  para interpretar \\'L\\'Autodiffessa di Caino\\' e ilustrar las causas y consecuencias del  primer fratricidio  de la historia del hombre. Entre los reconocimientos que orlan su trayectoria est\\xc3\\xa1n el de  Gran Oficial de la Orden del M\\xc3\\xa9rito de la Rep\\xc3\\xbablica italiana , adem\\xc3\\xa1s de numerosos premios como el IX Premio Pepe Carvalho de g\\xc3\\xa9nero negro en Barcelona, Espa\\xc3\\xb1a.*****||*****\\r\\nwww.elconfidencial.com*****||*****elecciones-generales*****||*****https://www.elconfidencial.com/elecciones-generales/2019-04-24/voto-por-correo-colas-en-la-calle-elecciones-28-a_1960906/*****||*****Locura por el 28-A: m\\xc3\\xa1s de una hora de cola para poder votar por correo*****||*****Madrid|Correos|Ourense|Junta Electoral Central|Elecciones Generales 2019|*****||*****SE PODR\\xc3\\x81 VOTAR HASTA EL VIERNES A LAS 14:00*****||*****Correos ha ampliado su horario estos d\\xc3\\xadas abriendo media hora antes por la ma\\xc3\\xb1ana y cerrando media hora despu\\xc3\\xa9s por la tarde*****||*****https://www.ecestaticos.com/imagestatic/clipping/ed4/8d3/ed48d31a1d08d9922380226ebbde6961/mas-alla-del-voto-por-correo-el-papel-de-correos-en-las-elecciones-generales-de-2019.jpg?mtime=1556107693*****||*****Las colas se han repetido por todas las oficinas de Correos. (Efe)*****||*****M\\xc3\\xa1s de  1.300.000 personas han solicitado votar por correo  en las  elecciones generales  del pr\\xc3\\xb3ximo domingo 28 de abril. Es casi un 9 por ciento menos que en los \\xc3\\xbaltimos comicios celebrados en 2016, pero eso no ha sido \\xc3\\xb3bice para que  Correos  haya tenido que duplicar sus esfuerzos para poder acaparar tanta carga de trabajo. Aunque la Junta Electoral Central  ha ampliado el plazo  y se podr\\xc3\\xa1 votar por correo hasta este viernes a las 14:00 horas, lo cierto es que  las colas en las oficinas de Correos son multitudinarias  y es habitual que lleguen hasta el exterior de las instalaciones, form\\xc3\\xa1ndose filas en el exterior de las oficinas en plena calle. Los dos \\xc3\\xbaltimos d\\xc3\\xadas est\\xc3\\xa1n siendo agotadores, confiesa una trabajadora de la oficina que Correos tiene en la Avenida de Am\\xc3\\xa9rica de  Madrid : \\xe2\\x80\\x9cNo paramos en todo el d\\xc3\\xada,  desde que abrimos hay cola  y cuando cerramos las puertas por la tarde a\\xc3\\xban quedan personas dentro muchos minutos m\\xc3\\xa1s hasta que pueden enviar su voto\\xe2\\x80\\x9d. En provincias baja la espera Las colas que se forman en \\xc3\\xa9sta y en otras oficinas de la capital de Espa\\xc3\\xb1a se repiten por todo el pa\\xc3\\xads y es habitual que haya  personas que tarden m\\xc3\\xa1s de 1 hora en poder votar  despu\\xc3\\xa9s de recoger las papeletas que solicitaron d\\xc3\\xadas atr\\xc3\\xa1s. Un tiempo que muchos no tienen y que tienen que pedir en sus puestos de trabajo ante la imposibilidad de votar \\xe2\\x80\\x98in situ\\xe2\\x80\\x99 el domingo 28. Tras la ampliaci\\xc3\\xb3n del plazo para depositar el voto por correo hasta el 25 de abril, Correos ha decidido ampliar el horario de sus 2.400 oficinas desde hoy hasta el pr\\xc3\\xb3ximo jueves. \\xe2\\x9e\\xa1\\xef\\xb8\\x8f  https://t.co/tygi3xvmMV #EleccionesGenerales28Abril #EleccionesValencia #VotoPorCorreo   pic.twitter.com/72TRTmpWsK \\xe2\\x80\\x94 Correos (@Correos)  April 23, 2019   Aunque hay colas en toda Espa\\xc3\\xb1a, lo cierto es que no en todas partes son de la misma manera. En  Ourense , por ejemplo, la oficina central de Correos en la R\\xc3\\xbaa do Progreso  estuvo desierta pr\\xc3\\xa1cticamente una hora , entre las 14:30 y las 15:30, por lo que las personas que acudieron en ese momento a votar apenas tuvieron que esperar. Es el caso de Nuria, que no estar\\xc3\\xa1 el domingo 28 en Ourense y que estaba sorprendida de no encontrar a nadie por delante: \\xe2\\x80\\x9cMe dijeron que a mediod\\xc3\\xada bajaba la cola, pero  no esperaba que no hubiese nadie por delante . Mucho mejor as\\xc3\\xad, ya pensaba que iba a tener que quedarme aqu\\xc3\\xad media hora esperando\\xe2\\x80\\x9d. La oficina de Ourense estaba desierta a las 3 de la tarde, pero se llen\\xc3\\xb3 como por arte de magia a las 3:30 Los trabajadores de la oficina ourensana reconocen que pueden descansar a la hora de comer, ya que el ritmo baja, pero en cuanto llegan las tres y media de la tarde, la oficina se llena como por arte de magia: \\xe2\\x80\\x9c A partir de esa hora ya no paramos hasta que cerramos  y la gente tiene que esperar un buen rato porque no damos abasto\\xe2\\x80\\x9d. Todo sea por votar.*****||*****\\r\\nwww.elconfidencial.com*****||*****elecciones-municipales-y-autonomicas*****||*****https://www.elconfidencial.com/elecciones-municipales-y-autonomicas/2019-05-26/la-estais-cagando-los-afiliados-de-vox-no-caben-en-la-sede-y-se-cabrean_2025210/*****||*****\"La est\\xc3\\xa1is cagando\". Los afiliados de Vox no caben en la sede y se cabrean*****||*****Vox|*****||*****PEDRO FERNANDEZ SALE A DARLES EXPLICACIONES*****||*****Las dimensiones del local obligan a los dirigentes del partido a limitar el acceso y provocan el malestar entre los suyos*****||*****https://www.ecestaticos.com/imagestatic/clipping/8a8/ac0/8a8ac0622f472ca87ced4a02222dda68/elecciones-municipales-2019-abascal-se-muestra-convencido-de-que-vox-sera-determinante-tras-ir-a-votar.jpg?mtime=1558878783*****||***** Foto: R.R.B.*****||*****La espera de los resultados de las elecciones municipales, auton\\xc3\\xb3micas y europeas en la sede de Vox se ha vuelto tensa por momentos. Sobre todo en la puerta del local situado en la madrile\\xc3\\xb1a calle de  Nicasio Gallego , en pleno barrio de Chamber\\xc3\\xad. Ah\\xc3\\xad un grupo de afiliados ha tratado de acceder a la sede sin \\xc3\\xa9xito. Los responsables de controlar el acceso les han indicado que el espacio era muy peque\\xc3\\xb1o y que \\xc3\\xbanicamente pod\\xc3\\xada entrar la prensa, lo que ha provocado el enfado de los socios del partido que dirige  Santiago Abascal , que en esta ocasi\\xc3\\xb3n ha decidido apostar por los medios. \"La est\\xc3\\xa1is cagando\", ha llegado a recriminar una de las afiliadas que ha tenido que quedarse en la puerta. \"Tengo el n\\xc3\\xbamero 30\", ha dicho en relaci\\xc3\\xb3n la misma mujer para indicar el nivel de compromiso que ha adquirido con la formaci\\xc3\\xb3n. El malestar entre algunos de los presentes ha sido tal que ha obligado al diputado y abogado en el juicio del \\'proc\\xc3\\xa9s\\' en el Tribunal Supremo  Pedro Fern\\xc3\\xa1ndez  a salir a la puerta para dar explicaciones a los afiliados que estaban protestando. El letrado les ha indicado que hab\\xc3\\xada muy poco espacio y que solo se estaba dejando pasar a la prensa. Dentro, de hecho, apenas cab\\xc3\\xadan las c\\xc3\\xa1maras y los periodistas que estaban cubriendo la cita electoral. Vox ha citado por primera a los medios en su sede. Para las pasadas elecciones generales, celebradas el 28 de mayo, el partido convoc\\xc3\\xb3 a los periodistas, a los cargos electos y a los afiliados en un hotel de Madrid que alquil\\xc3\\xb3 para seguir el recuento y los resultados de los comicios. Adem\\xc3\\xa1s, cerr\\xc3\\xb3 una c\\xc3\\xa9ntrica plaza para que los simpatizantes se congregaran para dar calor humanos a los candidatos. Adem\\xc3\\xa1s de los periodistas, tambi\\xc3\\xa9n han accedido a la sede los organizadores, los responsables de prensa, los diputados, los cargos org\\xc3\\xa1nicos y los dirigentes del partido. Estos \\xc3\\xbaltimos han sido los que m\\xc3\\xa1s se han hecho esperar, ya que han estado siguiendo el recuento y los sondeos a pie de urna en una oficina electoral situada a diez minutos del cuartel general de Vox. Entre los que s\\xc3\\xad han seguido los \\xc3\\xbaltimos minutos antes de los resultados se encontraban, adem\\xc3\\xa1s de Fern\\xc3\\xa1ndez, los diputados  V\\xc3\\xadctor S\\xc3\\xa1nchez del Real  o  Manuel Mariscal . S\\xc3\\xad ha llegado un poco m\\xc3\\xa1s tarde el candidato  Javier Ortega Smith . Desde el partido prefieren ser prudentes y esperar a los resultados finales antes de hacer una valoraci\\xc3\\xb3n, que recaer\\xc3\\xa1 en los candidatos Ortega Smith y  Rocio Monasterio  y en el presidente de la formaci\\xc3\\xb3n. Los dos \\xc3\\xbaltimos, junto al jefe de la campa\\xc3\\xb1a,  Iv\\xc3\\xa1n Espinosa , no han aparecido por la sede de Vox y no lo har\\xc3\\xa1n hasta pasadas las 23 horas, cuando los resultados sean m\\xc3\\xa1s claros.  *****||*****\\r\\nwww.elconfidencial.com*****||*****deportes*****||*****https://www.elconfidencial.com/deportes/motociclismo/2019-04-07/moto-roban-hector-barbera-motorland-aragon_1928394/*****||*****Roban la moto a H\\xc3\\xa9ctor Barber\\xc3\\xa1: no puede correr en Motorland y deja el Mundial*****||*****MotoGP|*****||*****incre\\xc3\\xadble suceso que le hace abandonar*****||*****Pesadilla de H\\xc3\\xa9ctor Barber\\xc3\\xa1 en casa, en Motorland, cuando este domingo ha amanecido sin la Yamaha con la que hab\\xc3\\xada logrado un cuarto lugar en el Muindial de SSP*****||*****https://www.ecestaticos.com/image/clipping/310/150/6d1e73cfd44622bf0163e5b827b16612/el-desafortunado-final-para-jorge-lorenzo-y-el-experimento-de-marc-marquez.jpg*****||*****H\\xc3\\xa9ctor Barber\\xc3\\xa1 en una foto de hace dos temporadas. (EFE)*****||*****H\\xc3\\xa9ctor Barber\\xc3\\xa1  no correr\\xc3\\xa1 por un tiempo. Ha dicho basta despu\\xc3\\xa9s de un suceso tan indignante como incre\\xc3\\xadble:  le han robado su moto , que estaba en el box, en la noche del s\\xc3\\xa1bado al domingo. Lo triste es que su  Yamaha  ha desaparecido en casa,  en Motorland Arag\\xc3\\xb3n  y la  Guardia Civil  y est\\xc3\\xa1 detr\\xc3\\xa1s del caso. [Joaqu\\xc3\\xadn Caparr\\xc3\\xb3s tiene leucemia cr\\xc3\\xb3nica] Barber\\xc3\\xa1, cuarto en la general del  Mundial de Supersport , hab\\xc3\\xada logrado participar  en el campeonato  gracias al equipo  Toth , que le hizo un hueco a pesar de tener problemas financieros que le hab\\xc3\\xadan causado, entre otros inconvenientes,  salir a pista en Alca\\xc3\\xb1iz con un motor con m\\xc3\\xa1s kil\\xc3\\xb3metros de los recomendados  (1.600 por los 1.500 en los que deber\\xc3\\xada haber reemplazado el propulsor). Su propia seguridad estaba en juego, aunque la clasificaci\\xc3\\xb3n general animase al valenciano y a su escuadra h\\xc3\\xbangara a continuar con la aventura. \"Hasta aqu\\xc3\\xad hemos llegado\" Con ello, H\\xc3\\xa9ctor ha redactado este mediod\\xc3\\xada de domingo  un comunicado en el que explicaba con detalles lo sucedido  y por qu\\xc3\\xa9 abandonaba el mundial en el que se estaba mostrando tan competitivo: \"Hasta aqu\\xc3\\xad hemos llegado. Por mi seguridad y por la seguridad de los dem\\xc3\\xa1s pilotos hoy no podr\\xc3\\xa9 salir a la carrera, no tenemos medios, y  lo que empez\\xc3\\xb3 como un sue\\xc3\\xb1o acaba como una pesadilla . Los problemas de impagos y de cumplimiento del acuerdo entre el que ten\\xc3\\xada que ser nuestro patrocinador principal y el equipo hacen que esta aventura en SSP termine hoy, en casa, en una carrera que me hac\\xc3\\xada especial ilusi\\xc3\\xb3n, sin que ni siquiera la pueda correr.                Ver esta publicaci\\xc3\\xb3n en Instagram                       #keepworking   Una publicaci\\xc3\\xb3n compartida de   H\\xc3\\xa9ctor Barber\\xc3\\xa1  (@hectorbarbera8) el  22 Mar, 2019 a las 9:15 PDT   Empezamos este proyecto con mucha ilusi\\xc3\\xb3n, estrenando todo el material en Australia y sin entrenar, con una moto pr\\xc3\\xa1cticamente de calle y a\\xc3\\xban as\\xc3\\xad, con lo m\\xc3\\xadnimo imprescindible en la parte t\\xc3\\xa9cnica, conseguimos acabar cuartos.  Despu\\xc3\\xa9s de esa carrera comenzaron los problemas financieros y eso hizo que tuviese que disputar la carrera de Tailandia sin apenas recambio  y con un motor con demasiados kil\\xc3\\xb3metros. Aqu\\xc3\\xad la situaci\\xc3\\xb3n es la misma, pero ya no podemos estirar m\\xc3\\xa1s lo que tenemos, y por responsabilidad no debo ni salir a pista. Estoy cuarto del campeonato, y creo que con un material normal podr\\xc3\\xada haber sido muy competitivo y haber cumplido mi objetivo para este a\\xc3\\xb1o, que sobre todo era disfrutar y volver a sentirme piloto. Tambi\\xc3\\xa9n el equipo ten\\xc3\\xada esa ilusi\\xc3\\xb3n, desde el due\\xc3\\xb1o hasta el \\xc3\\xbaltimo mec\\xc3\\xa1nico. Me da mucha rabia, porque me siento muy bien y estoy trabajando como nunca. Pero  no me voy a rendir y voy a seguir entrenando para estar preparado por si surge alguna posibilidad de seguir  con lo que m\\xc3\\xa1s quiero, que es pilotar. La rabia e impotencia de Barber\\xc3\\xa1 Siento mucha rabia e impotencia, en la tercera carrera con estos medios y despu\\xc3\\xa9s de estar  CUARTOS en la clasificaci\\xc3\\xb3n general , no nos queda otra que aceptar esta situaci\\xc3\\xb3n y seguir peleando como he hecho en estos a\\xc3\\xb1os. Lo siento en el alma por todo el mundo que ha venido  a ver las carreras y no podr\\xc3\\xa9 estar en pista, por todos mis seguidores, y por toda la gente que siempre me est\\xc3\\xa1 apoyando\".                Ver esta publicaci\\xc3\\xb3n en Instagram                       Hasta aqu\\xc3\\xad hemos llegado. Por mi seguridad y por la seguridad de los dem\\xc3\\xa1s pilotos hoy no podr\\xc3\\xa9 salir a la carrera, no tenemos medios. y lo que empez\\xc3\\xb3 como un sue\\xc3\\xb1o acaba como una pesadilla. Los problemas de impagos y de cumplimiento del acuerdo entre el que ten\\xc3\\xada que ser nuestro patrocinador principal y el equipo hacen que esta aventura en SSP termine hoy, en casa, en una carrera que me hac\\xc3\\xada especial ilusi\\xc3\\xb3n, sin que ni siquiera pueda correr la carrera. Empezamos este proyecto con mucha ilusi\\xc3\\xb3n, estrenando todo el material en Australia y sin entrenar, con una moto pr\\xc3\\xa1cticamente de calle y a\\xc3\\xban as\\xc3\\xad, con lo m\\xc3\\xadnimo imprescindible en la parte t\\xc3\\xa9cnica conseguimos acabar cuartos. Despu\\xc3\\xa9s de esa carrera comenzaron los problemas financieros y eso hizo que tuviese que disputar la carrera de Tailandia sin apenas recambio y con un motor con demasiados kil\\xc3\\xb3metros. Aqu\\xc3\\xad la situaci\\xc3\\xb3n es la misma, pero ya no podemos estirar m\\xc3\\xa1s lo que tenemos, y por responsabilidad no debo ni salir a pista. Estoy cuarto del campeonato, y creo que con un material normal podr\\xc3\\xada haber sido muy competitivo y haber cumplido mi objetivo para este a\\xc3\\xb1o, que sobre todo era disfrutar y volver a sentirme piloto. Tambi\\xc3\\xa9n el equipo ten\\xc3\\xada esa ilusi\\xc3\\xb3n, desde el due\\xc3\\xb1o hasta el \\xc3\\xbaltimo mec\\xc3\\xa1nico. Me da mucha rabia, porque me siento muy bien y estoy trabajando como nunca. Pero no me voy a rendir y voy a seguir entrenando para estar preparado por si surge alguna posibilidad de seguir con lo que m\\xc3\\xa1s quiero, que es pilotar. Siento mucha rabia e impotencia, en la tercera carrera con estos medios y despu\\xc3\\xa9s de estar CUARTOS en la clasificaci\\xc3\\xb3n general, no nos queda otra que aceptar esta situaci\\xc3\\xb3n y seguir peleando como he hecho en estos a\\xc3\\xb1os. Lo siento en el alma por todo el mundo que ha venido a ver las carreras y no podr\\xc3\\xa9 estar en pista, por todos mis seguidores, y por toda la gente que siempre me est\\xc3\\xa1 apoyando.   Una publicaci\\xc3\\xb3n compartida de   H\\xc3\\xa9ctor Barber\\xc3\\xa1  (@hectorbarbera8) el  7 Abr, 2019 a las 2:17 PDT  *****||*****\\r\\nwww.elconfidencial.com*****||*****television*****||*****https://www.elconfidencial.com/television/programas-tv/2019-06-06/juanra-bonet-boom-los-lobos-regalo-antena-3_2058074/*****||*****Los \\xc3\\xbaltimos rivales de Los Lobos dejan anonadado a Juanra Ronet en \\'\\xc2\\xa1Boom!\\'*****||*****\\xc2\\xa1Boom!|Antena 3|Juanra Bonet|*****||*****CURIOSO REGALO*****||*****D\\'Bull ha sorprendido a propios y extra\\xc3\\xb1os con un detalle para el presentador del aclamado y exitoso concurso de Antena 3*****||*****https://www.ecestaticos.com/image/clipping/310/150/cede49cdafd7686f3aecf56d53e579db/jorge-javier-rumbo-a-supervivientes-para-evitar-el-abandono-de-isabel-pantoja.jpg*****||*****Juanra Bonet en \\'\\xc2\\xa1Boom!\\'. (Atresmedia Televisi\\xc3\\xb3n)*****||*****En la \\xc3\\xbaltima entrega de  \\'\\xc2\\xa1Boom!\\'  Juanra Bonet  le ha robado el protagonismo a Los Lobos. Los \\xc3\\xbaltimos rivales del implacable equipo del concurso de Antena 3, D\\'Bull, ha tra\\xc3\\xaddo un curioso regalo al presentador. Al ver un obejto sobre el atril, ha preguntado qu\\xc3\\xa9 era. Los j\\xc3\\xb3venes respond\\xc3\\xadan que se trataba de un presente: \"\\xc2\\xbfAh, es para m\\xc3\\xad? Oh. Mundo currazo hay aqu\\xc3\\xad. Y... esto... gracias, pero  \\xc2\\xbfqu\\xc3\\xa9 deber\\xc3\\xada saber que es? \", eran las palabras de asombro de Bonet. Los \\xc3\\xbaltimos rivales de Los Lobos dejan anonadado a Juanra Ronet en \\'\\xc2\\xa1Boom!\\' El momento en v\\xc3\\xaddeo En ese momento los componentes del equipo sacaban a todos de dudas:  \"Es la jarra accitana. Viene de nuestro pueblo, Guadix. Se regalaba a las novias cuando se iban a casar.  Se la puedes regalar a otra persona. O te la puedes quedar t\\xc3\\xba si quieres\". Con risas entre los protagonistas del programa de televisi\\xc3\\xb3n y el p\\xc3\\xbablico, Juanra le preguntaba lo siguiente:  \"\\xc2\\xbfTe est\\xc3\\xa1s declarando?\".  \"S\\xc3\\xad, un poquito\" era la divertida respuesta. Finalmente le daba las gracias por el detalle y destacaba que era precioso.*****||*****\\r\\nwww.elconfidencial.com*****||*****deportes*****||*****https://www.elconfidencial.com/deportes/boxeo-y-artes-marciales/2019-03-24/ufc-anthony-pettis-ko-stephen-thompson_1900270/*****||*****UFC Nashville: Anthonhy Pettis acaba con Thompson con un KO para el recuerdo*****||*****UFC|*****||*****espectacular triunfo*****||*****Anthony Pettis se estren\\xc3\\xb3 en el peso w\\xc3\\xa9lter con una victoria frente a Stephen Thompson, que nunca hab\\xc3\\xada sido noqueado. Ahora aspira a medirse incluso con McGregor*****||*****https://www.ecestaticos.com/image/clipping/310/150/86b5d498de2e2d13f6d52de78bfabddd/un-conductor-de-uber-atropella-y-mata-a-un-exluchador-de-la-ufc.jpg*****||*****Pettis (pantal\\xc3\\xb3n negro) venci\\xc3\\xb3 a Thompson por KO. (Foto: UFC)*****||*****Ver pelear a  Stephen Thompson  siempre tiene algo de especial. Algo que, de alguna manera, transporta al espectador a los primeros a\\xc3\\xb1os de la  UFC ,  cuando se enfrentaban diferentes estilos de lucha , cada uno muy definido. Thompson proviene del k\\xc3\\xa1rate kempo, disciplina que aprendi\\xc3\\xb3 de su padre desde su m\\xc3\\xa1s tierna infancia, y eso se nota en el oct\\xc3\\xb3gono. Su posicionamiento del cuerpo, sus manos bajas o su forma de dar las patadas son tremendamente caracter\\xc3\\xadsticas, quiz\\xc3\\xa1s m\\xc3\\xa1s \\xc3\\xa1giles que en el kickboxing, aunque quiz\\xc3\\xa1s tambi\\xc3\\xa9n menos contundentes. Hasta ahora, esta versi\\xc3\\xb3n estadounidense del k\\xc3\\xa1rate le ha dado buenos resultados, llev\\xc3\\xa1ndole a pelear incluso por el cintur\\xc3\\xb3n del peso w\\xc3\\xa9lter en dos ocasiones frente a  Tyron Woodley . Hasta ahora, este veterano peleador estadounidense incluso pod\\xc3\\xada presumir de que, gracias a su estilo y a su resistencia,  nunca hab\\xc3\\xada sido noqueado . Hasta ahora, hasta que se enfrent\\xc3\\xb3 con  Anthony Pettis  en UFC Nashville. Durante casi toda la pelea, Pettis (apellido que, por cierto, en otro tiempo fue P\\xc3\\xa9rez) ocup\\xc3\\xb3 el centro del oct\\xc3\\xb3gono para presionar a Thompson con la guardia bien alta. Thompson, por su parte, anduvo entrando, golpeando y saliendo con su agilidad caracter\\xc3\\xadstica. As\\xc3\\xad consigui\\xc3\\xb3 el karateca partirle la nariz a su rival, que casi no pudo alcanzarle en el primer asalto, aunque cuando lo hizo dio la sensaci\\xc3\\xb3n de tener dinamita en las manos. En el segundo asalto la din\\xc3\\xa1mica fue muy parecida, solo que esta vez Thompson conect\\xc3\\xb3 con m\\xc3\\xa1s dureza si cabe. A falta de 15 segundos para el final, el estadounidense decidi\\xc3\\xb3 meter una marcha m\\xc3\\xa1s e intent\\xc3\\xb3 presionar a su rival, que si recul\\xc3\\xb3 fue porque ten\\xc3\\xada un regalo para su rival.  Un pu\\xc3\\xb1etazo al estilo \\'superman\\' que se col\\xc3\\xb3 con precisi\\xc3\\xb3n quir\\xc3\\xbargica en el ment\\xc3\\xb3n  de un Thompson que, como pelea con las manos abajo, poco pudo hacer por evitarlo. Cay\\xc3\\xb3 al suelo fulminado. Showtime Superman Punch? @ShowtimePettis  finishes Thompson in round 2!  #UFCNashville   pic.twitter.com/m5D7PkvyHm \\xe2\\x80\\x94 UFC (@ufc)  24 de marzo de 2019 Esta ha sido la carta de presentaci\\xc3\\xb3n de Pettis en el peso w\\xc3\\xa9lter .  Hasta ahora hab\\xc3\\xada peleado en el peso ligero , pero seg\\xc3\\xban reconoci\\xc3\\xb3 en la rueda de prensa, el corte de peso \"le estaba matando\". Visto lo visto no se entiende que no lo hiciera antes porque, en este peso, a este estadounidense de origen puertorrique\\xc3\\xb1o y mexicano le pesa la mano.  Si pudo acabar con Thompson, que es el n\\xc3\\xbamero cuatro de la divisi\\xc3\\xb3n, de esta manera, habr\\xc3\\xa1 que ver hasta d\\xc3\\xb3nde puede llegar . Despu\\xc3\\xa9s de la pelea no se quiso poner l\\xc3\\xadmites. \"Me he sentido muy bien en este peso\", dijo. \"Tener que bajar mucho peso para una pelea me debilita demasiado. Me pas\\xc3\\xb3 con Ferguson. Pero en el w\\xc3\\xa9lter me siento muy bien.  Podr\\xc3\\xada pelear con cualquiera, incluso con McGregor\" . Blaydes vs. Willis El otro combate estelar de la noche fue el protagonizado por los pesos pesados  Curtis Blaydes  y  Justin Willis . El duelo se lo llev\\xc3\\xb3 Blaydes, que domin\\xc3\\xb3 toda la pelea y se la llev\\xc3\\xb3 a los puntos de manera justa, especialmente despu\\xc3\\xa9s de conectar golpes tan duros como estos. Straight right from Blaydes stumbles Willis in round 2!  #UFCNashville   pic.twitter.com/nsP9BiGG0v \\xe2\\x80\\x94 UFC (@ufc)  24 de marzo de 2019 Despu\\xc3\\xa9s de la victoria, Blaydes fue entrevistado por  Daniel Cormier ,  el actual campe\\xc3\\xb3n de la divisi\\xc3\\xb3n , que empieza a crecer dentro de UFC aunque con roles distintos al de luchador. Blaydes no se atrevi\\xc3\\xb3 a reclamarle el t\\xc3\\xadtulo a la cara y se conform\\xc3\\xb3 con pedir a alguien de los cinco primeros:  Stipe Miocic ,  Junior dos Santos  o  Derrick Lewis . Miocic, por cierto, lleva desaparecido casi un a\\xc3\\xb1o, desde que perdiera, precisamente, con Cormier  en su disputa por el cintur\\xc3\\xb3n . Parece que su \\xc3\\xbanico inter\\xc3\\xa9s es pelear con este \\xc3\\xbaltimo, pero no est\\xc3\\xa1 nada claro que Cormier vaya a aceptar una revancha. Si esto no sucede, quiz\\xc3\\xa1s una pelea interesante ser\\xc3\\xada la que enfrentara a Miocic con Dos Santos, completando as\\xc3\\xad su trilog\\xc3\\xada. En cualquier caso, esta divisi\\xc3\\xb3n necesita algo m\\xc3\\xa1s de movimiento. Uno de sus fichajes estrella de los \\xc3\\xbaltimos tiempos fue  Alexander Volkov , pero su tropiezo frente a Lewis ha frenado sus expectativas. El ruso llegaba con esperanzas de poder optar al t\\xc3\\xadtulo r\\xc3\\xa1pidamente, pero su err\\xc3\\xa1tico comienzo le llevar\\xc3\\xa1 a enfrentarse a una estrella en horas bajas,  Overeem , dentro de unas semanas. Esperemos que en 2019 esta categor\\xc3\\xada recupere vitalidad, sobre todo con  la llegada  del espa\\xc3\\xb1ol  Juan Espino .*****||*****\\r\\nwww.elconfidencial.com*****||*****motor*****||*****https://www.elconfidencial.com/motor/2019-05-17/prueba-ford-edge-vignale-todocamino_2005226/*****||*****La respuesta (econ\\xc3\\xb3mica) con el Ford Edge a los todocamino lujosos alemanes*****||*****SUV|Todocamino|Coche el\\xc3\\xa9ctrico|Coches|*****||*****PRUEBA FORD EDGE VIGNALE 240 CV*****||*****La versi\\xc3\\xb3n tope de gama del Ford Edge tiene un potente motor biturbo de 240 caballos y cambio autom\\xc3\\xa1tico de ocho marchas*****||*****https://www.ecestaticos.com/image/clipping/992/558/b60471cdba641b1872b16fde6b6c444e/estas-son-las-averias-mas-comunes-que-tu-mismo-sin-saberlo-provocas-en-tu-coche.jpg*****||*****Asientos de piel calefactados y ventilados en la variante Vignale. (Pinche para ver el \\xc3\\xa1lbum)*****||*****El  Ford Edge  representa el modelo todocamino m\\xc3\\xa1s grande, potente y lujoso de la marca para  el mercado europeo  y es  una adaptaci\\xc3\\xb3n a los gustos de los usuarios espa\\xc3\\xb1oles y europeos de un veh\\xc3\\xadculo SUV norteamericano . La mejor prueba de ello es que mientras que en Estados Unidos se vende con motores de gasolina muy potentes, para Europa solo se ofrecen las versiones turbodi\\xc3\\xa9sel, eso s\\xc3\\xad, tambi\\xc3\\xa9n muy potentes. Sin duda, la obligaci\\xc3\\xb3n de reducir las emisiones de CO2 desde el a\\xc3\\xb1o 2020 pesa mucho para los fabricantes europeos, lo que obliga a ajustar las gamas a esa dr\\xc3\\xa1stica reducci\\xc3\\xb3n de emisiones. Y por ello este Edge se ofrece con  dos versiones de motor turbodi\\xc3\\xa9sel con 190 o 240 caballos , esta \\xc3\\xbaltima asociada con un cambio autom\\xc3\\xa1tico de ocho marchas. La diferencia entre ambos motores, basados en la misma cilindrada de dos litros, es que uno lleva un solo turbocompresor, mientras que el m\\xc3\\xa1s potente cuenta con un doble turbo. Todos los Ford Edge vendidos en Espa\\xc3\\xb1a incorporan tracci\\xc3\\xb3n 4x4. Esta tracci\\xc3\\xb3n incluye un sistema inteligente de gesti\\xc3\\xb3n que permite desconectar la tracci\\xc3\\xb3n trasera cuando no es necesaria para reducir consumos y rozamientos. Con ello, tenemos un todocamino que se posiciona en  lo m\\xc3\\xa1s alto del mercado , como un perfecto rival de los veh\\xc3\\xadculos equivalentes de las marcas pr\\xc3\\xa9mium alemanas. Y una alternativa diferente, por su estilo y su mec\\xc3\\xa1nica. Adem\\xc3\\xa1s, y dentro de la gama del Edge, tenemos  diferentes acabados , el  Titanium  de acceso y, como tope de gama, dos opciones diferentes: un  ST Line   con enfoque m\\xc3\\xa1s deportivo en su est\\xc3\\xa9tica y su comportamiento , mientras que el  Vignale  es el m\\xc3\\xa1s lujoso y confortable. Asientos de piel calefactados y ventilados en la variante Vignale. (Pinche para ver el \\xc3\\xa1lbum) El modelo que hemos probado en esta ocasi\\xc3\\xb3n representa la  variante tope de gama  con el acabado m\\xc3\\xa1s completo, el motor m\\xc3\\xa1s potente, un turbodi\\xc3\\xa9sel biturbo de 240 caballos, que hace que este modelo, que pesa  m\\xc3\\xa1s de dos toneladas,  se mueva con mucha agilidad. Tambi\\xc3\\xa9n su comportamiento es muy \\xc3\\xa1gil, se conduce de manera muy sencilla. Pese a sus dimensiones y su peso, parece m\\xc3\\xa1s un buen modelo compacto que un gran todocamino. Es un veh\\xc3\\xadculo bastante grande,  de 4,83 m , pero pese a ello solo permite cinco plazas en su habit\\xc3\\xa1culo. Eso s\\xc3\\xad, son cinco generosas plazas que est\\xc3\\xa1n asociadas con un maletero de  m\\xc3\\xa1s de 600 litros , lo que hace que sea una excelente opci\\xc3\\xb3n para hacer largos viajes. Equipamiento En cuanto a su equipamiento, es  muy completo,  sobre todo en lo que se refiere a  elementos de confort . Un aspecto muy destacable son sus lujosos asientos, que en nuestro caso contaban con una tapicer\\xc3\\xada de color blanco realmente espectacular. Asientos que adem\\xc3\\xa1s est\\xc3\\xa1n  calefactados y ventilados . En cuanto a sistemas de ayuda a la conducci\\xc3\\xb3n, son de serie la mayor parte de los sistemas, pero opcionalmente se pueden completar con un \\' pack\\' de seguridad . Este incluye un control de crucero adaptativo inteligente, que hace a\\xc3\\xban m\\xc3\\xa1s sencilla la conducci\\xc3\\xb3n en  modo \\'pseudo aut\\xc3\\xb3nomo\\'  y tambi\\xc3\\xa9n la alerta de tr\\xc3\\xa1fico cruzado. Por lo que se refiere a su precio, es bastante caro, pero es que ofrece a cambio un gran coche. El modelo  parte de los 41.000 euros  con el motor de 190 caballos y el cambio manual de seis marchas, que llegan en el caso de esta versi\\xc3\\xb3n tope de gama  hasta los 58.500 euros . Un precio razonable si queremos contar con un modelo comparable con los veh\\xc3\\xadculos alemanes pr\\xc3\\xa9mium, pero con un estilo muy diferente. Por lo que se refiere a su consumo, aunque el valor homologado es de 6,9 litros, es dif\\xc3\\xadcil bajar de los nueve litros con una conducci\\xc3\\xb3n normal. Ficha t\\xc3\\xa9cnica Motor: cuatro cilindros en l\\xc3\\xadnea. Potencia m\\xc3\\xa1xima: 240 CV a 4.000 rpm. Par m\\xc3\\xa1ximo: 500 Nm desde 2.000 rpm. Cilindrada: 1.995 cc. Combustible: gas\\xc3\\xb3leo. Velocidad m\\xc3\\xa1xima: 215 km/h. Aceleraci\\xc3\\xb3n de cero a 100 km/h: 9,6 segundos. Caja de cambios: autom\\xc3\\xa1tica de ocho marchas. Tracci\\xc3\\xb3n: 4x4. Consumos homologado en ciclo combinado: 6,9 litros. Dimensiones (longitud/anchura/altura): 4,83 x 1,93 x 1,74. Capacidad maletero: 605 litros. Peso en vac\\xc3\\xado: 2.085 kg. Precio: desde 42.000 euros.*****||*****\\r\\nwww.elconfidencial.com*****||*****empresas*****||*****https://www.elconfidencial.com/empresas/2019-08-10/ferrovial-pierde-control-407-etr-arbitraje-snc-cppib_2171463/*****||*****Ferrovial pierde el control de su autopista estrella en su a\\xc3\\xb1o m\\xc3\\xa1s convulso*****||*****I\\xc3\\xb1igo Meir\\xc3\\xa1s|Rafael del Pino|Autopistas|Canad\\xc3\\xa1|Arbitraje|Infraestructuras|Venta|Ferrovial|*****||*****cppib pasar\\xc3\\xa1 a controlar el 50%*****||*****El grupo ha perdido el arbitraje al que fue para defender su derecho a comprar el 10% de la autopista, que vende SNC. Tras este fallo, lo adquirir\\xc3\\xa1 CPPIB, que pasar\\xc3\\xa1 as\\xc3\\xad a controlar el 50,01%*****||*****https://www.ecestaticos.com/imagestatic/clipping/37c/baf/37cbafab3b7a2aa5f68d5b704e202512/del-pino-contra-del-pino-leopoldo-exige-a-rafael-la-salida-de-ayuso-y-bergareche.jpg?mtime=1554405925*****||*****Autopista 407 ETR de Ferrovial*****||*****Al final, la Corte Superior de Ontario, en Canad\\xc3\\xa1, ha dado la raz\\xc3\\xb3n a  SNC Lavalin  en el arbitraje que, desde hace tres meses, le enfrentaba a  Ferrovial  por considerar la primera que la segunda no ten\\xc3\\xada derecho preferente de compra sobre el 10% de la autopista 407 ETR que puso en venta. Un nuevo jarro de agua fr\\xc3\\xada para la compa\\xc3\\xb1\\xc3\\xada espa\\xc3\\xb1ola, que vive un convulso ejercicio, marcado por  provisiones millonarias ,  disputas familiares ,  cambio de consejero delegado , venta de la divisi\\xc3\\xb3n de Servicios..., y ahora, la p\\xc3\\xa9rdida de poder en uno de sus activos estrella. La consecuencia directa de no haber podido adquirir el 10% de la 407 es que el tercer accionista de esta concesi\\xc3\\xb3n, el fondo canadiense  CPPIB , ser\\xc3\\xa1 quien lo compre y, con este movimiento, ser\\xc3\\xa1 el  accionista mayoritario con 50,01%  del capital, frente al 40% que tiene ahora y el 43,2% de la empresa espa\\xc3\\xb1ola. SNC continuar\\xc3\\xa1 con un 6,8%. Aunque un portavoz de Ferrovial ha insistido en que \"los derechos de los accionistas se mantienen inalterados\", no ha aclarado con base en qu\\xc3\\xa9 defiende esta posici\\xc3\\xb3n, ni si existe alg\\xc3\\xban tipo de cl\\xc3\\xa1usula o acuerdo que vaya a permitirle mantener la misma posici\\xc3\\xb3n de control que hasta ahora cuando no solo va a dejar de ser el primer accionista, sino que  CPPIB pasar\\xc3\\xa1 a controlar la mayor\\xc3\\xada del capital . Ferrovial inicia su nueva metamorfosis elevando la apuesta por la autopista 407 ETR  R. Ugalde El giro estrat\\xc3\\xa9gico que ha dado el grupo, con la decisi\\xc3\\xb3n de vender servicios y centrarse en construcci\\xc3\\xb3n e infraestructuras, puede marcar su primer hito con la compra del 10% de la canadiense La compa\\xc3\\xb1\\xc3\\xada siempre ha justificado su inter\\xc3\\xa9s por comprar la participaci\\xc3\\xb3n de SNC Lavalin (si hubiera ganado el arbitraje solo habr\\xc3\\xada podido adquirir el 5%, ya que el otro 5% en cualquier caso habr\\xc3\\xada sido para CPPIB) por el buen precio al que hab\\xc3\\xada acordado vender: 3.250 millones de d\\xc3\\xb3lares canadienses (unos 2.100 millones de euros), importe inferior al valor estimado que otorga Ferrovial a este activo. La p\\xc3\\xa9rdida de este arbitraje y de su posici\\xc3\\xb3n en la 407 llega apenas una semana despu\\xc3\\xa9s de que el consejo de administraci\\xc3\\xb3n de Ferrovial aprobara el  relevo de \\xc3\\x8d\\xc3\\xb1igo Meir\\xc3\\xa1s  al frente del grupo, puesto en el que le sustituir\\xc3\\xa1  Ignacio Madridejos , hasta ahora m\\xc3\\xa1ximo responsable de Cemex en Estados Unidos; y en medio del proceso de venta de la divisi\\xc3\\xb3n de Servicios. La p\\xc3\\xa9rdida de este arbitraje llega apenas una semana despu\\xc3\\xa9s de aprobar el relevo de \\xc3\\x8d\\xc3\\xb1igo Meir\\xc3\\xa1s al frente del grupo Est\\xc3\\xa1 previsto que, a la vuelta del verano, el grupo de infraestructuras cierre la venta de esta filial, un proceso que se ha visto condicionado por el  fallido contrato de Birmingham , que oblig\\xc3\\xb3 al grupo a provisionar 774 millones el pasado ejercicio y a negociar un dif\\xc3\\xadcil divorcio. Los problemas para llegar a un acuerdo con las autoridades brit\\xc3\\xa1nicas forzaron al grupo a dejar fuera del proceso de venta el negocio de Reino Unido, separaci\\xc3\\xb3n que ahora, tras haber conseguido fumar la pipa de la paz previo pago de 300 millones de libras, podr\\xc3\\xada deshacerse, ya que algunos fondos interesados, como  Apax , ya han mostrado su  inter\\xc3\\xa9s por hacerse con la totalidad . Apax Partners ultima la compra a Ferrovial de su filial de servicios brit\\xc3\\xa1nica, Amey Cotizalia Ferrovial encarg\\xc3\\xb3 a Goldman Sachs la venta de su divisi\\xc3\\xb3n de servicios de soporte global el a\\xc3\\xb1o pasado, pero la subasta se vio obstaculizada por los problemas con Amey De hecho, una de las opciones que baraja la compa\\xc3\\xb1\\xc3\\xada es ralentizar el proceso ya lanzado sobre el grueso de Ferrovial Servicios y acelerar el arranque de la venta de Amey para, as\\xc3\\xad, poder  hacerlos coincidir en el tiempo  y dar opci\\xc3\\xb3n a los interesados en poder pujar por todo y por las partes. Esta venta y el refuerzo accionarial en la 407 estaban llamados a ser el punto de  arranque de la nueva era de Ferrovial , grupo que ha decidido concentrarse en la gesti\\xc3\\xb3n de infraestructuras y en la construcci\\xc3\\xb3n, apuesta que por el momento cuenta con el respaldo del mercado, ya que a pesar de todas las turbulencias, la compa\\xc3\\xb1\\xc3\\xada suma una revalorizaci\\xc3\\xb3n en el a\\xc3\\xb1o superior al 40%.*****||*****\\r\\nwww.elconfidencial.com*****||*****mundo*****||*****https://www.elconfidencial.com/mundo/2019-04-30/division-militares-guaido-traicion-eeuu_1975522/*****||*****\"El personalismo de Guaid\\xc3\\xb3 ha puesto en peligro el alzamiento contra Maduro\"*****||*****Gobierno de Donald Trump|Nicol\\xc3\\xa1s Maduro|Juan Guaid\\xc3\\xb3|Noticias de Venezuela|*****||*****OPERACI\\xc3\\x93N LIBERTAD EN VENEZUELA*****||*****Fuentes de las negociaciones que se llevan a cabo entre la oposici\\xc3\\xb3n liderada por Guaid\\xc3\\xb3 y la Administraci\\xc3\\xb3n Trump aseguran que su personalismo ha desbaratado un alzamiento mejor organizado*****||*****https://www.ecestaticos.com/imagestatic/clipping/bd9/63d/bd963d320019f11fad1b138e3dcc57d9/noticias-de-venezuela-en-directo-maduro-la-justicia-ya-busca-a-guaido-por-traicion.jpg?mtime=1556783841*****||*****Disparos de subfusil en Caracas el martes 30 de abril. (Reuters)*****||*****\"En los pasados d\\xc3\\xadas, llegamos a  un pacto para que el levantamiento fuera el d\\xc3\\xada 2 de mayo . El acuerdo hab\\xc3\\xada sido negociado con los estadounidenses, la oposici\\xc3\\xb3n liderada por  Juan Guaid\\xc3\\xb3 , la Inteligencia pol\\xc3\\xadtica del Sebin,  Maikel Moreno , presidente del Tribunal Supremo, y algunos generales del alto mando militar, pero el personalismo de Guaid\\xc3\\xb3 y de Leopoldo L\\xc3\\xb3pez ha puesto en peligro el alzamiento\", asegura a El Confidencial un militar que coordinaba las conversaciones en una isla del Caribe. \"Ahora no tienen apoyo de los generales m\\xc3\\xa1s influyentes de las Fuerzas Armadas Nacionales, ni siquiera del jefe del Estado Mayor de la Armada, Jos\\xc3\\xa9 Adelino Ornella Ferreira, como se est\\xc3\\xa1 escribiendo por ah\\xc3\\xad\", afirma este exmilitar venezolano. \"Guaid\\xc3\\xb3 y L\\xc3\\xb3pez se comieron la luz, como decimos en Venezuela, son unos \\'amateurs\", sigue explicando esta fuente. En el lenguaje venezolano, esto quiere decir que ambos opositores al Gobierno de  Nicol\\xc3\\xa1s Maduro  quisieron asumir un protagonismo precipitado y no pactado anteriormente con las partes antedichas. La participaci\\xc3\\xb3n en el pronunciamiento previsto el 2 de mayo del autodenominado presidente interino, Juan Guaid\\xc3\\xb3, el presidente del Tribunal Supremo y el alto mando militar \"pretend\\xc3\\xada dar un car\\xc3\\xa1cter legal a las acciones\", seg\\xc3\\xban narra frustrado a este diario el coordinador de las negociaciones. Inicialmente, el  ministro de Defensa, Vladimir Padrino L\\xc3\\xb3pez, estaba dentro del juego  de la llamada \\'Operaci\\xc3\\xb3n Libertad\\', pero la precipitaci\\xc3\\xb3n de Guaid\\xc3\\xb3 activ\\xc3\\xb3 a la amplia guardia de militares cubanos que controla al ministro en todo momento. Esto cuentan a El Confidencial fuentes de todo cr\\xc3\\xa9dito y que est\\xc3\\xa1n involucradas en las negociaciones.Tambi\\xc3\\xa9n era miembro de la partida de revuelta Iv\\xc3\\xa1n Hern\\xc3\\xa1ndez Dala, director de la  Contrainteligencia Militar (DGCIM). \"El personalismo de Guaid\\xc3\\xb3 ha puesto en peligro el alzamiento contra Maduro\" Atropello de manifestantes. Leopoldo L\\xc3\\xb3pez estaba custodiado en su arresto domiciliario por los servicios de Inteligencia pol\\xc3\\xadticos, el Sebin. El jefe de este organismo,  Manuel Cristopher Figuera,  convino liberarlo esta ma\\xc3\\xb1ana de martes. Desde el cuartel La Carlota de Caracas, Juan Guadi\\xc3\\xb3 y Leopoldo L\\xc3\\xb3pez escenificaron mediante un v\\xc3\\xaddeo publicado en Twitter el llamamiento a las fuerzas armadas para que se unieran a la lucha contra el Ejecutivo de Maduro y para que provocaran \"el cese definitivo de la usurpaci\\xc3\\xb3n\" del poder.  Figuera se ha unido al alzamiento de forma p\\xc3\\xbablica . En el marco de nuestra constituci\\xc3\\xb3n. Y por el cese definitivo de la usurpaci\\xc3\\xb3n.  https://t.co/3RD2bnQhxt \\xe2\\x80\\x94 Juan Guaid\\xc3\\xb3 (@jguaido)  30 de abril de 2019 \"A los estadounidenses les \\'han madrugado\\' Guadi\\xc3\\xb3 y L\\xc3\\xb3pez, les han sorprendido igual que a nosotros los que est\\xc3\\xa1bamos negociando con los oficiales aliados militares\", relata a este medio uno de los coordinadores de las acciones de oposici\\xc3\\xb3n, quien es buen conocedor del Ej\\xc3\\xa9rcito venezolano y de las personas que apoyan a Maduro. \" Los americanos se sienten traicionados por Guaid\\xc3\\xb3,  y no s\\xc3\\xa9 c\\xc3\\xb3mo acabar\\xc3\\xa1 todo esto porque si los militares no cooperan r\\xc3\\xa1pidamente,  Nicol\\xc3\\xa1s va a hacer una razia \", concluye la fuente de El Confidencial.  *****||*****\\r\\nwww.elconfidencial.com*****||*****espana*****||*****https://www.elconfidencial.com/espana/2019-04-19/padre-iman-yihadista-atentado-sevilla-semana-santa-rastreo-mezquita-salafismo_1951650/*****||*****El padre im\\xc3\\xa1n del yihadista de Sevilla: rastrean su mezquita por apoyar el salafismo*****||*****Musulm\\xc3\\xa1n|Sevilla|Ley de la Sharia|Procesiones|Estado Isl\\xc3\\xa1mico|Terrorista|Audiencia Nacional|Semana Santa|Yihadismo|Salafismo|*****||*****SE HAB\\xc3\\x8dA CONVERTIDO EN UN FOCO DE RADICALISMO*****||*****Los servicios de la lucha antiterrorista investigan a los fieles de la mezquita que dirig\\xc3\\xada el padre del detenido en Marruecos tras descubrir que el templo era conocido en Sevilla por su radicalismo*****||*****https://www.ecestaticos.com/image/clipping/654/f7f9e40ce95770d0d2a0909d050852a5/grafand003-sevilla-espana-17-04-2019-dos-agentes-de-la-policia-nacional-durante-el-registro-esta-tarde-de-la-casa-en-la-calle-ortega-y-gasset-de-la-capital-andaluza-donde-residia-el-presunto-yihadista-que-supuestamente-tenia-previsto-atenta.jpg*****||*****El padre im\\xc3\\xa1n del yihadista de Sevilla. (Atlas)*****||*****Los servicios de la lucha antiterrorista est\\xc3\\xa1n investigando la  mezquita que frecuentaba  el yihadista que  planeaba provocar una masacre en la Semana Santa de Sevilla ,  Zouhair el Bouhdidi , detenido el pasado 9 de abril en Marruecos poco despu\\xc3\\xa9s de llegar al pa\\xc3\\xads para despedirse de su familia, tras tomar la decisi\\xc3\\xb3n de inmolarse en el recorrido de las procesiones. El templo al que acud\\xc3\\xada se encuentra a solo unos 150 metros de su casa, en el n\\xc3\\xbamero 88 de la calle Ortega y Gasset del humilde barrio sevillano de Su Eminencia, y el l\\xc3\\xadder de los rezos es precisamente su padre,  Abderrahim Bouhdidi , que tambi\\xc3\\xa9n est\\xc3\\xa1 ahora en el foco de las pesquisas. Seg\\xc3\\xban han confirmado a El Confidencial fuentes pr\\xc3\\xb3ximas a la investigaci\\xc3\\xb3n, que dirige el  Juzgado Central de Instrucci\\xc3\\xb3n n\\xc3\\xbamero 4  de la Audiencia Nacional, el padre del sospechoso es conocido en la comunidad musulmana de la capital hispalense por su  adscripci\\xc3\\xb3n al salafismo , una corriente del islam extremadamente rigorista que propugna la aplicaci\\xc3\\xb3n de la  shar\\xc3\\xada o ley isl\\xc3\\xa1mica , rechaza la integraci\\xc3\\xb3n de los musulmanes en las sociedades de Occidente, considera que el islam es la  \\xc3\\xbanica religi\\xc3\\xb3n verdadera  y sit\\xc3\\xbaa a la mujer varios escalones por debajo del que supuestamente ocupa el hombre, en todos los planos de la vida. El padre im\\xc3\\xa1n del yihadista de Sevilla: rastrean su mezquita por apoyar el salafismo La familia del presunto yihadista detenido en Marruecos pide respeto Los salafistas no ejercen la violencia, pero pueden llegar a justificarla. Ese c\\xc3\\xbamulo de factores es lo que ha hecho que los expertos consideren que esa visi\\xc3\\xb3n de la fe isl\\xc3\\xa1mica es el  caldo de cultivo perfecto  o la antesala para que se desate un proceso de radicalizaci\\xc3\\xb3n como el que presuntamente experiment\\xc3\\xb3 Zouhair en los \\xc3\\xbaltimos meses. Dej\\xc3\\xb3 a un lado sus estudios en la  Universidad de Sevilla  para volcarse en el consumo de v\\xc3\\xaddeos y textos del  Estado Isl\\xc3\\xa1mico . Y finalmente, habr\\xc3\\xada decidido unirse a las filas de ese grupo terrorista y atentar de forma inminente contra una de las celebraciones m\\xc3\\xa1s importantes de la misma ciudad en la que resid\\xc3\\xada. Como adelant\\xc3\\xb3 El Confidencial este jueves, el detenido  habr\\xc3\\xada confesado a la polic\\xc3\\xada marroqu\\xc3\\xad  su firme determinaci\\xc3\\xb3n de hacerse detonar entre la multitud que sale a las calles estos d\\xc3\\xadas para contemplar las procesiones de la Semana Santa. Fuentes pr\\xc3\\xb3ximas a la investigaci\\xc3\\xb3n a\\xc3\\xb1aden que su objetivo era inmolarse con una carga de  TATP o triper\\xc3\\xb3xido de triacetona , un explosivo de fabricaci\\xc3\\xb3n casera conocido tambi\\xc3\\xa9n como la \\' madre de Sat\\xc3\\xa1n \\' por su alto poder destructivo. En el registro de su vivienda no se encontr\\xc3\\xb3 ninguna sustancia, pero su plan era regresar a Sevilla con tiempo suficiente para poder elaborarlo, se\\xc3\\xb1alan las fuentes consultadas, que subrayan su  \\xe2\\x80\\x9cpeligrosidad\\xe2\\x80\\x9d . Dos agentes de la Polic\\xc3\\xada Nacional, durante el registro de la casa donde resid\\xc3\\xada el presunto yihadista. (EFE) En un acontecimiento como la Semana Santa, donde se forman grandes aglomeraciones en callejuelas estrechas, cualquier detonaci\\xc3\\xb3n, por peque\\xc3\\xb1a que fuera, podr\\xc3\\xada haber provocado estampidas o avalanchas que probablemente habr\\xc3\\xadan incrementado de forma significativa el n\\xc3\\xbamero de v\\xc3\\xadctimas. Incluso sin explosivo segu\\xc3\\xada representando una amenaza, apuntan los expertos. La c\\xc3\\xa9lula de Alcanar fabric\\xc3\\xb3 TATP en cantidades industriales, pero el material explot\\xc3\\xb3 antes de lo previsto. Solo necesitaron unos  coches y cuchillos  para provocar 16 muertos. Los agentes de la  Comisar\\xc3\\xada General de Informaci\\xc3\\xb3n  de la Polic\\xc3\\xada Nacional, en colaboraci\\xc3\\xb3n con el  Centro Nacional de Inteligencia  (CNI), tratan ahora de identificar a las personas que formaban parte del c\\xc3\\xadrculo m\\xc3\\xa1s \\xc3\\xadntimo de Zouhair para descartar que contara con colaboradores o alg\\xc3\\xban tipo de infraestructura. Las diligencias se est\\xc3\\xa1n centrando en la mezquita que lideraba su padre,  Al Baraka  (La Bendici\\xc3\\xb3n, en \\xc3\\xa1rabe), para averiguar si otros asiduos al templo siguieron los mismos pasos del joven por el influjo salafista de su padre. En el sunismo (la corriente mayoritaria en el islam y la que profesaba el detenido), el im\\xc3\\xa1n tiene un amplio margen para interpretar el Cor\\xc3\\xa1n y dirigir el rezo. No es casualidad que el cerebro de los atentados de Barcelona tambi\\xc3\\xa9n fuera el m\\xc3\\xa1ximo responsable de la mezquita de Ripoll,  Abdelbaki es Satty .   Dos agentes de la Polic\\xc3\\xada Nacional hablan con algunas personas durante el registro. (EFE) Durante su declaraci\\xc3\\xb3n en Marruecos, Zouhair dio los nombres de cuatro conocidos que tambi\\xc3\\xa9n residen en Sevilla y que igualmente est\\xc3\\xa1n siendo investigados. El detenido lleg\\xc3\\xb3 a Marruecos el 9 de abril en compa\\xc3\\xb1\\xc3\\xada de otra persona que supuestamente se dirig\\xc3\\xada a un seminario que iba a celebrarse en Rabat. Esta segunda persona regres\\xc3\\xb3 a Espa\\xc3\\xb1a el pasado lunes d\\xc3\\xada 15. En el interrogatorio, el joven tambi\\xc3\\xa9n admiti\\xc3\\xb3 que hab\\xc3\\xada comunicado sus planes al Estado Isl\\xc3\\xa1mico, que lleva meses pidiendo a sus seguidores que  atenten en los pa\\xc3\\xadses en los que viven  para tratar de contrarrestar las derrotas que ha sufrido el grupo en Siria e Irak, donde ya ha perdido todos sus bastiones. Precisamente, el pasado domingo se difundi\\xc3\\xb3 un v\\xc3\\xaddeo en canales de Telegram frecuentados por miembros del ISIS en el que promet\\xc3\\xadan atentados contra la Semana Santa de Espa\\xc3\\xb1a. A solo una semana de las elecciones generales del  pr\\xc3\\xb3ximo 28 de abril , cualquier ataque habr\\xc3\\xada resucitado el fantasma del 11-M. Es imposible adelantar qu\\xc3\\xa9 efectos habr\\xc3\\xada tenido un ataque del Estado Isl\\xc3\\xa1mico en los resultados del 28-A. La madre del sospechoso y mujer del im\\xc3\\xa1n,  Aisha , atendi\\xc3\\xb3 el mi\\xc3\\xa9rcoles por la tarde a los medios que se congregaron en la puerta de su casa para informar del registro. Neg\\xc3\\xb3 que su hijo fuera un terrorista y asegur\\xc3\\xb3 que todas las acusaciones son mentira.  \\xe2\\x80\\x9cMi hijo no ha hecho nada\\xe2\\x80\\x9d , repiti\\xc3\\xb3 decenas de veces, ataviada con hiyab negro y gafas de sol.  \\xe2\\x80\\x9cNo he visto nada de nada . Hac\\xc3\\xada su vida normal, juega al f\\xc3\\xbatbol, va a la universidad\\xe2\\x80\\x9d.*****||*****\\r\\nwww.elconfidencial.com*****||*****mercados*****||*****https://www.elconfidencial.com/mercados/2019-04-09/wells-fargo-negocio-de-pensiones_1932918/*****||*****Wells Fargo vende su negocio de pensiones a Principal Financial por m\\xc3\\xa1s de 1.000M*****||*****Banca privada|Pensiones|Planes de pensiones|Wells Fargo|*****||*****A TRES D\\xc3\\x8dAS DE PUBLICAR RESULTADOS*****||*****La venta se materializa en un momento delicado para la reputaci\\xc3\\xb3n de la entidad, ahogada en costes legales y sanciones imprevistas \\xe2\\x80\\x94y tras la salida del CEO el mes pasado\\xe2\\x80\\x94*****||*****https://www.ecestaticos.com/imagestatic/clipping/d3a/a82/d3aa82d772d63894920c1d7c1a37eedc/jp-morgan-y-wells-fargo-las-dos-caras-de-la-moneda-tras-publicar-resultados.jpg?mtime=1429017620*****||*****Un cajero de Wells Fargo. (Reuters)*****||*****Wells Fargo se esfuerza por deshacerse de activos no estrat\\xc3\\xa9gicos. El banco estadounidense ha llegado a un acuerdo con la firma de inversiones y seguros Principal Financial para venderle su negocio de pensiones por un total de 1.200 millones de d\\xc3\\xb3lares (1.064 millones de euros), seg\\xc3\\xban ha anunciado en un comunicado. El anuncio por parte de Wells Fargo, con todo, se produce a apenas tres d\\xc3\\xadas de que el banco publique resultados, con la empresa poniendo el foco en los negocios de banca privada, \\'trading\\' y gesti\\xc3\\xb3n de activos. No en vano, la venta se materializa tambi\\xc3\\xa9n en un momento delicado para la reputaci\\xc3\\xb3n de la entidad, ahogada en costes legales y sanciones imprevistas. Adem\\xc3\\xa1s,  hace apenas un mes desde que el CEO de la compa\\xc3\\xb1\\xc3\\xada, Tim Sloan, dej\\xc3\\xb3 la empresa tras tres d\\xc3\\xa9cadas en el banco \\xe2\\x80\\x94con el consejo prometiendo que contratar\\xc3\\xadan a alguien de fuera de Wells Fargo. Con esta adquisici\\xc3\\xb3n, Principal elevar\\xc3\\xa1 a 7,5 millones sus clientes de planes de pensiones, al tiempo que superar\\xc3\\xa1 los 500.000 millones de d\\xc3\\xb3lares (443.313 millones de euros) en activos bajo gesti\\xc3\\xb3n, lo que equivale a duplicar la cifra contabilizada solamente por Principal Financial.  La firma ha especificado que los activos adquiridos a Wells Fargo fortalecer\\xc3\\xa1n su cartera de clientes corporativos de medio tama\\xc3\\xb1o, ya que dos tercios de los clientes de pensiones del banco estadounidense tienen en sus planes un total de activos situado entre los 10 millones y los 1.000 millones de d\\xc3\\xb3lares (entre 8,8 millones y 886 millones de euros). \"Esto ser\\xc3\\xa1 una combinaci\\xc3\\xb3n poderosa para nuestros clientes, empleados y accionistas a medida que consolidemos nuestra posici\\xc3\\xb3n como uno de los tres principales l\\xc3\\xadderes en el mercado de pensiones de Estados Unidos\", ha subrayado el presidente y consejero delegado de Principal Financial, Dan Houston. \"La adquisici\\xc3\\xb3n generar\\xc3\\xa1 m\\xc3\\xa1s alcance y escala, lo que aumentar\\xc3\\xa1 nuestra capacidad para competir, invertir y crecer para ayudar a m\\xc3\\xa1s personas a lograr sus resultados deseados para su jubilaci\\xc3\\xb3n\", ha a\\xc3\\xb1adido.*****||*****\\r\\nwww.elconfidencial.com*****||*****television*****||*****https://www.elconfidencial.com/television/programas-tv/2019-09-06/carlota-gh-gran-hermano-revolution-violacion-jose-maria-telecinco_2211323/*****||*****As\\xc3\\xad ocurri\\xc3\\xb3 la supuesta violaci\\xc3\\xb3n de Carlota en \\'GH\\': cronolog\\xc3\\xada del caso*****||*****Telecinco|Gran Hermano|Jorge Javier V\\xc3\\xa1zquez|GH Revolution|*****||*****paso a paso*****||*****Calendario del suceso m\\xc3\\xa1s oscuro de la televisi\\xc3\\xb3n en Espa\\xc3\\xb1a: as\\xc3\\xad se gestion\\xc3\\xb3 la supuesta agresi\\xc3\\xb3n sexual de una concursante del exitoso \\'reality show\\' de Telecinco*****||*****https://www.ecestaticos.com/image/clipping/654/0c6f7f779f00ce2ec6a679c30f15cddf/jose-maria-y-carlota-en-una-de-las-camas-de-gh-revolution-mediaset-espana.jpg*****||*****Jos\\xc3\\xa9 Mar\\xc3\\xada y Carlota, en \\'GH Revolution\\'. (Mediaset Espa\\xc3\\xb1a)*****||*****Carlota Prado , exconcursante de  \\'Gran Hermano Revolution\\'  (\\'GH18\\'), llevaba dos a\\xc3\\xb1os guardando silencio ante los  hechos que vivi\\xc3\\xb3 en noviembre de 2017 en el famoso \\'reality  show\\' de Telecinco. A trav\\xc3\\xa9s de una entrevista concedida a  El Confi TV , la secci\\xc3\\xb3n de televisi\\xc3\\xb3n de El Confidencial, esta joven de 26 a\\xc3\\xb1os asegura que fue violada por un compa\\xc3\\xb1ero del concurso tras una de las fiestas celebradas en la casa. [Carlota habla de su supuesta violaci\\xc3\\xb3n en \\'GH\\': \"Me pusieron las im\\xc3\\xa1genes de mi cuerpo inconsciente\"] Aquella edici\\xc3\\xb3n de \\'Gran Hermano\\' fue la \\xc3\\xbaltima que Mediaset Espa\\xc3\\xb1a ofreci\\xc3\\xb3 con concursantes an\\xc3\\xb3nimos. El programa cosech\\xc3\\xb3 las audiencias m\\xc3\\xa1s bajas de su historia (media del 14,3%, con 1.484.000 espectadores), raz\\xc3\\xb3n por la que muchas personas ni siquiera tuvieron conocimiento de aquel turbio episodio. Repasamos, a continuaci\\xc3\\xb3n,  de forma cronol\\xc3\\xb3gica todo lo que pas\\xc3\\xb3 aquellos d\\xc3\\xadas en Telecinco. Jos\\xc3\\xa9 Mar\\xc3\\xada y Carlota, en una de las camas de \\'GH Revolution\\'. (Mediaset Espa\\xc3\\xb1a) Comienza \\'GH Revolution\\' 09/09/2017 - El martes 19 de septiembre de 2017, Telecinco  inicia las emisiones de \\'GH Revolution\\' , la edici\\xc3\\xb3n n\\xc3\\xbamero 18 de su \\'reality show\\' estrella, con Jorge Javier V\\xc3\\xa1zquez al frente, segunda que presenta tras la marcha de Mercedes Mil\\xc3\\xa1. Las primeras relaciones sexuales 28/09/2017 - La convivencia en Guadalix de la Sierra ya lleva varios d\\xc3\\xadas y Jos\\xc3\\xa9 Mar\\xc3\\xada y Carlota demuestran que tienen m\\xc3\\xa1s que una simple amistad. En la gala, en directo, el presentador catal\\xc3\\xa1n muestra a los espectadores el  primer encuentro sexual de los j\\xc3\\xb3venes  bajo el edred\\xc3\\xb3n de una de las camas. Carlota muestra su preocupaci\\xc3\\xb3n 02/10/2018 - Tras varias semanas juntos, la joven se sincera en el confesionario: \"Como ves, se nos est\\xc3\\xa1 yendo un poco de las manos a Jos\\xc3\\xa9 Mar\\xc3\\xada y a m\\xc3\\xad. Aqu\\xc3\\xad las cosas se magnifican y hay veces que me rayo y lo paso un poco mal. Me suele gustar tener todas las situaciones bajo control [...] Me r\\xc3\\xado con \\xc3\\xa9l, estoy muy bien con \\xc3\\xa9l y me siento privilegiada por tener [aqu\\xc3\\xad] a una persona que considero especial, porque sigo pensando que es una bendici\\xc3\\xb3n aqu\\xc3\\xad dentro tener a una persona con la que demostrar cari\\xc3\\xb1o. Pero a d\\xc3\\xada de hoy, sigo sin saber, por ejemplo, si \\xc3\\xa9l est\\xc3\\xa1 jugando.  A veces pienso que \\xc3\\xa9l est\\xc3\\xa1 actuando as\\xc3\\xad para generar m\\xc3\\xa1s bombo... Es que no lo s\\xc3\\xa9\". Carlota, en el confesionario de \\'GH\\'. (Mediaset Espa\\xc3\\xb1a) Jos\\xc3\\xa9 y Carlota tienen una hora sin c\\xc3\\xa1maras 24/10/2017 - La \\'pareja oficial\\' del concurso disfruta, tras solicitarlo a la organizaci\\xc3\\xb3n, de  una hora sin c\\xc3\\xa1maras , lo que significa que durante ese espacio de tiempo no ser\\xc3\\xa1n grabados. La pareja aprovecha para mantener de nuevo relaciones sexuales. A los pocos d\\xc3\\xadas, ella ofrece detalles de lo sucedido durante esa hora. Fiesta en la casa: la noche de autos 03/11/2017 -  La casa de \\'Gran Hermano\\' celebra una nueva fiesta y facilita alcohol a los concursantes,  algo habitual en cada celebraci\\xc3\\xb3n. Cabe destacar que los participantes del espacio de telerrealidad hab\\xc3\\xadan perdido la prueba semanal y no ten\\xc3\\xadan pr\\xc3\\xa1cticamente comida en la casa. \\'GH\\' expulsa a Jos\\xc3\\xa9 Mar\\xc3\\xada y saca a Carlota 04/11/2017 - Tras los hechos ocurridos de madrugada, concretamente a la 01:30, la direcci\\xc3\\xb3n de  \\'GH\\' decide expulsar al d\\xc3\\xada siguiente a Jos\\xc3\\xa9 Mar\\xc3\\xada y sacar tambi\\xc3\\xa9n a Carlota del encierro.  Los espectadores, a trav\\xc3\\xa9s de la emisi\\xc3\\xb3n 24 horas, descubren que no est\\xc3\\xa1n y comienzan a hacerse preguntas en las redes sociales. Denuncian a Jos\\xc3\\xa9 Mar\\xc3\\xada ante la Guardia Civil 04/11/2017 - Horas despu\\xc3\\xa9s de la supuesta violaci\\xc3\\xb3n de Jos\\xc3\\xa9 Mar\\xc3\\xada a Carlota (es supuesta porque un juez no ha dictaminado todav\\xc3\\xada sentencia), uno de los m\\xc3\\xa1ximos responsables del \\'reality show\\'  acude ante la Guardia Civil de Colmenar Viejo, Madrid, y denuncia los hechos. \\'GH\\' emite un comunicado 04/11/2017- La cuenta oficial en Twitter de \\' Gran Hermano\\'  emite un comunicado informando de la salida de dos de sus concursantes. Las palabras exactas son: \"La direcci\\xc3\\xb3n de  \\'Gran Hermano\\' ha decidido expulsar del programa a Jos\\xc3\\xa9 Mar\\xc3\\xada por lo que considera una conducta intolerable.  Asimismo, ha considerado oportuno que Carlota deje la casa\". El comunicado se lee de forma textual el domingo 5 de noviembre durante el debate del programa. Comunicado de \\xc3\\xbaltima hora  pic.twitter.com/bZpOE3QNI8 \\xe2\\x80\\x94 Gran Hermano (@ghoficial)  November 4, 2017   Jorge Javier habla en \\'Viva la vida\\' 05/11/2017- Ante la incertidumbre y el revuelo generado en las redes sociales,  Jorge Javier V\\xc3\\xa1zquez  habla brevemente de este hecho en el programa \\'Viva la vida\\'.  \"La expulsi\\xc3\\xb3n solo es de Jos\\xc3\\xa9 Mar\\xc3\\xada, ha sido por una conducta intolerable. Carlota est\\xc3\\xa1 fuera pero no ha sido expulsada. Ha sido invitada a abandonar moment\\xc3\\xa1neamente, y fuera de la casa est\\xc3\\xa1 recibiendo informaci\\xc3\\xb3n.  Ha sido invitada a estar fuera, a que piense, pero no ha sido expulsada\". Jorge Javier V\\xc3\\xa1zquez, en \\'Viva la vida\\'. (Mediaset Espa\\xc3\\xb1a) Primeras palabras de Jos\\xc3\\xa9 Mar\\xc3\\xada 05/11/2017 - Tras ser expulsado, Jos\\xc3\\xa9 Mar\\xc3\\xada se dirige a sus seguidores por primera y \\xc3\\xbanica vez en todo este tiempo. A trav\\xc3\\xa9s de una cuenta de Twitter, gestionada por sus amigos y familiares, publica un v\\xc3\\xaddeo con el siguiente mensaje:  \"Muchas gracias por el apoyo que estoy recibiendo.  Y muchas gracias por hacer mi sue\\xc3\\xb1o realidad en estos cuarenta y tantos d\\xc3\\xadas que llevo en la casa de \\'Gran Hermano\\'. Un abrazo\". Gracias por el apoyo recibido tanto dentro como fuera del programa  #GHdirecto   #DBT7GH   pic.twitter.com/1yh97yzBf0 \\xe2\\x80\\x94 Jose Mar\\xc3\\xada P\\xc3\\xa9rez (@JoseMariaGHFans)  November 5, 2017   \\'GH\\' ampl\\xc3\\xada su comunicado 06/11/2017 - En la noche del domingo 5 de noviembre, durante la emisi\\xc3\\xb3n del debate, la cuenta de Twitter de \\'GH\\' ampl\\xc3\\xada el primer comunicado:  \"Puntualizar que el \\xc3\\xbanico expulsado es Jos\\xc3\\xa9 Mar\\xc3\\xada.  En cuanto a Carlota, siguiendo las directrices del equipo de psic\\xc3\\xb3logos, se le ha aconsejado que en estos duros momentos permanezca fuera de la casa. La puerta est\\xc3\\xa1 abierta para ella, de manera que el jueves podr\\xc3\\xada reincorporarse al concurso\". Asimismo, durante la emisi\\xc3\\xb3n del citado programa, no se hizo referencia a esta cuesti\\xc3\\xb3n. Comunicado oficial  #DBT7GH   pic.twitter.com/CqIyGNTr3C \\xe2\\x80\\x94 Gran Hermano (@ghoficial)  November 5, 2017   El Confidencial informa de la denuncia 06/11/2017 -  El Confidencial  publica  en exclusiva la denuncia interpuesta por \\'GH\\'  a Jos\\xc3\\xa9 Mar\\xc3\\xada por un posible abuso sexual en la madrugada del viernes 3 de noviembre al s\\xc3\\xa1bado 4 durante una fiesta en la casa de Guadalix de la Sierra. Mediaset emite un comunicado 06/11/2017 - Mediaset Espa\\xc3\\xb1a, ante la informaci\\xc3\\xb3n ofrecida por este peri\\xc3\\xb3dico y replicada por multitud de medios de comunicaci\\xc3\\xb3n, ofrece su primer comunicado sobre la expulsi\\xc3\\xb3n disciplinaria en \\'Gran Hermano Revolution\\': \"Tal y como anunci\\xc3\\xb3 el programa el s\\xc3\\xa1bado pasado a trav\\xc3\\xa9s de su cuenta de Twitter, se ha expulsado a un concursante por un comportamiento que la productora ha considerado intolerable y que por lo tanto ha puesto en conocimiento de la Guardia Civil.  Permaneceremos atentos a los resultados de la investigaci\\xc3\\xb3n y al esclarecimiento total de los hechos , respetando la intimidad de las personas afectadas\". Sobre la expulsi\\xc3\\xb3n disciplinaria en \\'Gran Hermano Revolution\\'  pic.twitter.com/lccSZPnydv \\xe2\\x80\\x94 Mediaset Espa\\xc3\\xb1a (@mediasetcom)  November 6, 2017   Comunicado del entorno de Jos\\xc3\\xa9 Mar\\xc3\\xada 06/11/2017 - A trav\\xc3\\xa9s de Twitter y el entorno de Jos\\xc3\\xa9 Mar\\xc3\\xada, el acusado quiso  dejar constancia de algunas cuestiones : \"Acudir\\xc3\\xa1 para colaborar en todo lo que pueda con la investigaci\\xc3\\xb3n a la que hace referencia la noticia para demostrar la falsedad de la misma\". COMUNICADO OFICIAL  #GHDirecto   pic.twitter.com/2lmT3fyltV \\xe2\\x80\\x94 Jose Mar\\xc3\\xada P\\xc3\\xa9rez (@JoseMariaGHFans)  November 6, 2017   Publican que el v\\xc3\\xaddeo no aclara los hechos 07/11/2017 - Varios medios de comunicaci\\xc3\\xb3n publican una informaci\\xc3\\xb3n err\\xc3\\xb3nea sobre el caso,  al asegurar que la Guardia Civil hab\\xc3\\xada visto las im\\xc3\\xa1genes de los hechos y que en ellas no se aclaraba lo sucedido.  Este hecho desat\\xc3\\xb3 una fuerte campa\\xc3\\xb1a en redes sociales contra la v\\xc3\\xadctima. La Guardia Civil asegura que el v\\xc3\\xaddeo presentado por \\xe2\\x80\\x98Gran Hermano\\xe2\\x80\\x99 no aclara el posible abuso sexual  https://t.co/wek2vcAc4x \\xe2\\x80\\x94 EL PA\\xc3\\x8dS (@el_pais)  November 7, 2017   \\'GH\\' niega que la Guardia Civil viera el v\\xc3\\xaddeo 07/11/2017 - El \\'show\\' de televisi\\xc3\\xb3n emite un nuevo comunicado negando que la Guardia Civil haya visto las im\\xc3\\xa1genes de la supuesta violaci\\xc3\\xb3n. \"Se han puesto los hechos en conocimiento de las autoridades, pero  es falso que se hayan entregado o mostrado im\\xc3\\xa1genes a la Guardia Civil.  Es todo lo que se puede precisar, por respeto a la intimidad de las personas afectadas\", afirma el programa. Comunicado oficial:  pic.twitter.com/U6NlYXxQ2j \\xe2\\x80\\x94 Gran Hermano (@ghoficial)  November 7, 2017   Carlota vuelve a la casa... 08/11/2017 - En la tarde del mi\\xc3\\xa9rcoles 8 de noviembre, la emisi\\xc3\\xb3n 24 horas de \\'GH\\' es interrumpida durante aproximadamente una hora, dando paso a la imagen de  Carlota en el jard\\xc3\\xadn de la casa con varios compa\\xc3\\xb1eros.  La joven regresaba de esta forma al \\'reality show\\' tras cuatro d\\xc3\\xadas de ausencia. ... y escribe c\\xc3\\xb3mo se siente 09/11/2017 - Haciendo uso del blog del que dispon\\xc3\\xadan todos los concursantes, Carlota escribe c\\xc3\\xb3mo se siente. \"No s\\xc3\\xa9 si pod\\xc3\\xa9is llegar a imaginarlo, pero el sabado por la tarde mi vida, mi realidad, mi todo... estaba aqu\\xc3\\xad dentro. Y, creedme, despu\\xc3\\xa9s de tener conocimiento sobre lo ocurrido no quer\\xc3\\xada m\\xc3\\xa1s que abrazar, sobre todo, a mi \\'bro\\' Chris G y a mi Miguelito [...]  He estado 4 d\\xc3\\xadas, pues, en otro tipo de aislamiento, en el que la base no era para nada grata, pero me ha servido para reflexionar, para asimilar, y para empezar poco a poco a digerir\". Carlota y Jos\\xc3\\xa9 Mar\\xc3\\xada, en \\'GH\\'. (Mediaset Espa\\xc3\\xb1a) \" Quiero dejar claro que la decisi\\xc3\\xb3n que se me comunica sobre la expulsi\\xc3\\xb3n de JM en el primer momento me deja at\\xc3\\xb3nita, no logro imaginar el motivo, pero tras ver las imagenes, el \\'shock\\' es tremendo y, muy a mi pesar, entiendo y estoy de acuerdo con lo que se decide. Yo soy la persona que pide hablar con \\xc3\\xa9l, yo soy la persona que pide que \\xc3\\xa9l tambi\\xc3\\xa9n lo vea, aunque \\xc3\\xa9l lo vivi\\xc3\\xb3, \\xc3\\xa9l s\\xc3\\xad estaba consciente. No s\\xc3\\xa9 a que hora, pero ese s\\xc3\\xa1bado por la tarde para m\\xc3\\xad se convierte en un total desconocido, con el que espero no tener que volver a tratar\". Jorge promociona este hecho y luego lo borra 09/11/2017 - Aprovechando el regreso de Carlota a la casa,  Jorge Javier V\\xc3\\xa1zquez promociona el programa en su cuenta de Twitter.  Varios minutos despu\\xc3\\xa9s, decide eliminarlo al considerar, probablemente, que no era oportuno llamar la atenci\\xc3\\xb3n de sus seguidores a trav\\xc3\\xa9s de este tema. Captura del tuit de Jorge Javier. (Twitter) \\'GH\\' emite el regreso de Carlota 09/11/2017 - En la novena gala de \\'GH Revolution\\', se emite el regreso de Carlota a la casa. En primer lugar, ponen  un v\\xc3\\xaddeo en el que la joven explica c\\xc3\\xb3mo se siente  y pide volver. A continuaci\\xc3\\xb3n, se puede ver c\\xc3\\xb3mo se reencuentra con sus compa\\xc3\\xb1eros. Antes de volver a la casa, Carlota habla con el s\\xc3\\xbaper por los acontecimientos ocurridos con Jos\\xc3\\xa9 Mar\\xc3\\xada  #Gala9GH   pic.twitter.com/dlbBqEAZ4j \\xe2\\x80\\x94 Sr.Amargado \\xf0\\x9f\\x8c\\xaa (@SrAmargadoGH)  November 9, 2017   Carlota vuelve a la casa y se reencuentra con sus compa\\xc3\\xb1eros tras el tema de Jos\\xc3\\xa9 Mar\\xc3\\xada  #Gala9GH   pic.twitter.com/s3JEhao9o9 \\xe2\\x80\\x94 Sr.Amargado \\xf0\\x9f\\x8c\\xaa (@SrAmargadoGH)  November 9, 2017   Carlota es nominada por sus compa\\xc3\\xb1eros 16/11/2017 - Tras una semana de convivencia y con la prohibici\\xc3\\xb3n del programa de hablar del tema,  Carlota es nominada por sus compa\\xc3\\xb1eros . Su continuidad en la casa pasa a manos de la audiencia. El p\\xc3\\xbablico expulsa a Carlota 23/11/2017 - Finalmente, el jueves 23 de noviembre, el p\\xc3\\xbablico expulsa a Carlota de la casa con  el 60,5% de los votos.  Maico y Yangyang, los otros dos nominados, siguen luchando por los 300.000 euros que hab\\xc3\\xada en juego. Carlota, en la sala de expulsi\\xc3\\xb3n, el d\\xc3\\xada de su salida definitiva. (Mediaset Espa\\xc3\\xb1a) No se trata el tema en su entrevista en plat\\xc3\\xb3 23/11/2017 - Ya en el plat\\xc3\\xb3, en los estudios de Mediaset Espa\\xc3\\xb1a, durante la entrevista habitual que se realiza a los expulsados,  Jorge Javier V\\xc3\\xa1zquez anuncia que no se abordar\\xc3\\xa1 el tema:  \"T\\xc3\\xba has vivido el concurso en dos partes y al volver pudiste explicarte en el confesionario. Aqu\\xc3\\xad no se ha hablado de nada m\\xc3\\xa1s y no vamos a hacerlo por respeto a tu intimidad\", algo con lo que ella se siente conforme. Carlota con Jorge Javier V\\xc3\\xa1zquez. (Mediaset Espa\\xc3\\xb1a) \\'GH\\' impide que Carlota hable del tema 26/11/2017 - Varios d\\xc3\\xadas despu\\xc3\\xa9s de ser expulsada, en el debate dominical del \\'reality\\', con  Jordi Gonz\\xc3\\xa1lez  al frente, Carlota cambia de opini\\xc3\\xb3n: \"El principal motivo por el que estoy en la calle esta noche y no en \\'Gran Hermano\\' es por lo que me pas\\xc3\\xb3. Estuve ausente de la casa cuatro d\\xc3\\xadas y este  es un tema del que tengo muchas ganas de hablar \". Sin embargo, el presentador frena el tema:  \"No ser\\xc3\\xa1 ahora,  porque tenemos que hacer la secci\\xc3\\xb3n de \\'El show de los 10 segundos\". EC informa de que Carlota denuncia a Jos\\xc3\\xa9 07/12/2017 - Una semana y media despu\\xc3\\xa9s,  El Confidencial  cuenta  que finalmente Carlota ha decidido denunciar a Jos\\xc3\\xa9 Mar\\xc3\\xada. \\'GH Revolution\\' acaba su emisi\\xc3\\xb3n 14/12/2017 - Tras los bajos datos de audiencia, Telecinco decide poner  punto y final a \\'Gran Hermano Revolution\\'.  Hugo resulta el ganador de la \\xc3\\xbaltima edici\\xc3\\xb3n con concursantes an\\xc3\\xb3nimos. Desde este d\\xc3\\xada, no se volvi\\xc3\\xb3 a ver a Carlota en televisi\\xc3\\xb3n ni saber nada m\\xc3\\xa1s de ella. Carlota habla en Instagram de lo sucedido 30/07/2019 - Casi dos a\\xc3\\xb1os despu\\xc3\\xa9s de lo sucedido,  Carlota rompe su silencio a trav\\xc3\\xa9s de su cuenta de Instagram:  \"Denunci\\xc3\\xa9, por supuesto que denunci\\xc3\\xa9. Han pasado casi dos a\\xc3\\xb1os y todav\\xc3\\xada no hay fecha para el juicio, mientras, yo sigo sin poder rehacer mi vida\". Primera entrevista de Carlota 05/09/2019 -  Carlota concede a este medio su primera entrevista,  contando c\\xc3\\xb3mo vivi\\xc3\\xb3 este episodio y las secuelas que todav\\xc3\\xada arrastra: \"Me dijeron que me tranquilizara y que ten\\xc3\\xada que ver unas im\\xc3\\xa1genes. Y en ese momento me pusieron el v\\xc3\\xaddeo con lo que sucedi\\xc3\\xb3 esa noche, sin avisarme de lo que estaba a punto de ver. Dura casi 10 minutos y se ve perfectamente que [Jos\\xc3\\xa9 Mar\\xc3\\xada] se aprovecha de m\\xc3\\xad en la habitaci\\xc3\\xb3n y que yo estoy inconsciente\".*****||*****\\r\\nwww.elconfidencial.com*****||*****espana*****||*****https://www.elconfidencial.com/espana/comunidad-valenciana/2019-03-02/detenidos-tres-jovenes-secuestro-menor_1858810/*****||*****Detenidos tres j\\xc3\\xb3venes por el secuestro de una menor en Valencia*****||*****Polic\\xc3\\xada Nacional|Secuestros|Delincuencia|*****||*****se la llevaron en una furgoneta*****||*****El suceso se produjo sobre las 22.00 horas de este viernes en la calle cura Planelles de Valencia, cuando la chica de 16 a\\xc3\\xb1os estaba con una amiga*****||*****https://www.ecestaticos.com/imagestatic/clipping/422/24f/42224ff74fb4d1be684dcdd2b56d39d4/imagen-sin-titulo.jpg?mtime=1556363802*****||*****Un agente de polic\\xc3\\xada en una imagen de archivo. (EFE)*****||*****La Polic\\xc3\\xada Nacional de Valencia ha detenido a tres j\\xc3\\xb3venes por un presunto delito de detenci\\xc3\\xb3n ilegal, ya que supuestamente secuestraron a una menor de 16 a\\xc3\\xb1os cuando estaba con una amiga en una calle y  se la llevaron a la fuerza en una furgoneta.  Seg\\xc3\\xban han informado a Efe fuentes policiales, el suceso se produjo sobre las 22.00 horas de este viernes en la calle cura Planelles de Valencia,  cuando la chica de 16 a\\xc3\\xb1os estaba con una amiga  y llegaron tres j\\xc3\\xb3venes en una furgoneta y se la llevaron. La chica de 16 a\\xc3\\xb1os estaba con una amiga y llegaron tres j\\xc3\\xb3venes en una furgoneta y se la llevaron La madre avis\\xc3\\xb3 a la Polic\\xc3\\xada sobre las doce de la noche, cuando tuvo conocimiento del suceso, y las gestiones llevadas a cabo por  los agentes permitieron localizar unas horas despu\\xc3\\xa9s a los presuntos autores de los hechos en la ciudad de Valencia, a trav\\xc3\\xa9s de sus tel\\xc3\\xa9fonos m\\xc3\\xb3viles. Las mismas fuentes han se\\xc3\\xb1alado que los detenidos son de origen rumano, al igual que la menor, que fue entregada a sus padres por los agentes tras ser localizada.*****||*****\\r\\nwww.elconfidencial.com*****||*****television*****||*****https://www.elconfidencial.com/television/programas-tv/2019-03-06/partido-futbol-lunes-desaparece-laliga-rfef-conflicto_1865226/*****||*****Desaparece el partido de los lunes por la noche de La Liga*****||*****Programas TV|F\\xc3\\xbatbol|LaLiga|Primera Divisi\\xc3\\xb3n|Real Federaci\\xc3\\xb3n Espa\\xc3\\xb1ola de F\\xc3\\xbatbol|*****||*****JORNADA 29*****||*****El pasado viernes Rubiales (RFEF) anunci\\xc3\\xb3 que los partidos de los lunes se hab\\xc3\\xadan acabado, despu\\xc3\\xa9s de que Javier Tebas (LaLiga) dijera el jueves que exist\\xc3\\xada esa posibilidad*****||*****https://www.ecestaticos.com/image/clipping/310/150/3e52063fcc453b4ac177f20d71627e87/jordi-gonzalez-enfurece-con-colate-por-mentir-sobre-pantoja-en-supervivientes.jpg*****||*****Imagen de la grada de un estadio. (Mediaset)*****||*****La Liga  acaba de anunciar los horarios de los partidos de f\\xc3\\xbatbol que se disputar\\xc3\\xa1n en la jornada 29 en Primera Divisi\\xc3\\xb3n y  ni rastro del partido que hasta ahora se disputaba en la noche del lunes.  Era la reivindicaci\\xc3\\xb3n de muchas aficiones del f\\xc3\\xbatbol espa\\xc3\\xb1ol y parece que finalmente han tomado medidas al respecto. [ El partido de los lunes es solo una excusa para la batalla entre Rubiales y Tebas ] El partido entre  el Rayo y el Betis  que se jugar\\xc3\\xa1 en Vallecas y que en un principio iba a disputarse en la noche del lunes 1 de abril pasa al domingo 31 de marzo.  Se disputar\\xc3\\xa1 a las 14:00 horas , y podr\\xc3\\xa1 verse a trav\\xc3\\xa9s de  Gol , un nuevo horario de mediod\\xc3\\xada en el que hasta ahora no se jugaban ni partidos de Primera o Segunda Divisi\\xc3\\xb3n. \\xc2\\xbfDesaparecer\\xc3\\xa1nn los partidos de los lunes por la noche en lo que resta de temporada? HORARIOS | Consulta cu\\xc3\\xa1ndo se jugar\\xc3\\xa1n los partidos de la jornada 29 de  #LaLigaSantander . \\xe2\\x80\\x94 LaLiga (@LaLiga)  6 de marzo de 2019 La noticia llega d\\xc3\\xadas despu\\xc3\\xa9s de que el propio Luis Rubiales, presidente de la Real Federaci\\xc3\\xb3n Espa\\xc3\\xb1ola de F\\xc3\\xbatbol (RFEF) asegurara en Twitter que \"a partir de la pr\\xc3\\xb3xima temporada en La Liga habr\\xc3\\xa1 f\\xc3\\xbatbol s\\xc3\\xa1bados y domingos. No habr\\xc3\\xa1 m\\xc3\\xa1s futbol los lunes\". Recordaba que \"el negocio es importante, pero m\\xc3\\xa1s los aficionados\", dejando en el aire el futuro de los encuentros en viernes. \" Veremos qu\\xc3\\xa9 ocurre con los viernes, si llegamos a un acuerdo bueno para todos \\xe2\\x80\\x9d. NO HABR\\xc3\\x81 M\\xc3\\x81S F\\xc3\\x9aTBOL LOS LUNES. A partir de la pr\\xc3\\xb3xima Temporada en  @laliga  habr\\xc3\\xa1 f\\xc3\\xbatbol s\\xc3\\xa1bados y domingos \\xf0\\x9f\\x8f\\x9f Veremos qu\\xc3\\xa9 ocurre con los viernes, si llegamos a un acuerdo bueno para todos. El negocio es importante pero m\\xc3\\xa1s los aficionados \\xf0\\x9f\\x91\\xa8\\xe2\\x80\\x8d\\xf0\\x9f\\x91\\xa9\\xe2\\x80\\x8d\\xf0\\x9f\\x91\\xa7\\xe2\\x80\\x8d\\xf0\\x9f\\x91\\xa6 Somos la  @rfef #SomosF\\xc3\\xbatbol  \\xf0\\x9f\\x91\\x9f\\xe2\\x9a\\xbd  pic.twitter.com/hp8R01hPSv \\xe2\\x80\\x94 Luis Rubiales (@LuisRubiales)  1 de marzo de 2019 El convenio actual de coordinaci\\xc3\\xb3n entre la RFEF y LaLiga establece que  el horario de los partidos depende de la patronal . En estos momentos, es LaLiga la que decide cu\\xc3\\xa1ndo se juegan los partidos y lo hace a trav\\xc3\\xa9s de los contratos con los operadores a los que vende los derechos. El convenio expirar\\xc3\\xa1 a final de temporada, aunque ya est\\xc3\\xa1n negociando los detalles de uno nuevo  las posiciones entre la RFEF y LaLiga se mantienen alejadas.*****||*****\\r\\nwww.elconfidencial.com*****||*****espana*****||*****https://www.elconfidencial.com/espana/comunidad-valenciana/2019-03-15/detenido-padre-menores-muertos-godella_1883926/*****||*****Los padres de los menores muertos de Godella est\\xc3\\xa1n acusados de homicidio*****||*****Comunidad Valenciana|Desaparecidos|Guardia Civil|*****||*****el padre ha sido detenido esta ma\\xc3\\xb1ana*****||*****Tanto el padre como la madre fueron conducidos al cuartel de la Guardia Civil de Moncada para ser interrogados y, tras varias horas de intentos infructuosos y relatos delirantes*****||*****https://www.ecestaticos.com/imagestatic/clipping/145/7c8/1457c810e91b454d1352a70e68b9488e/tienen-que-resucitar-la-pesadilla-hippie-de-maria-y-gabriel-que-acabo-con-sus-dos-ninos.jpg?mtime=1552596648*****||*****Lugar donde viv\\xc3\\xada la familia. (N. Abad)*****||*****Los padres de los dos hermanos  hallados muertos  este jueves en el t\\xc3\\xa9rmino municipal de Godella permanecen detenidos por un  supuesto delito de homicidio , seg\\xc3\\xban ha informado a Efe la Guardia Civil. Ambos permanecer\\xc3\\xa1n en el cuartel de la Guardia Civil de Moncada hasta que pasen a disposici\\xc3\\xb3n del juzgado de Paterna que se ha hecho cargo del caso, previsiblemente este s\\xc3\\xa1bado. Los resultados de la autopsia que se va a practicar a los menores determinar\\xc3\\xa1n el motivo del fallecimiento que, por el momento, no ha sido concretado por la Guardia Civil, que lleva las investigaciones, seg\\xc3\\xban estas fuentes. Los padres de los menores muertos de Godella est\\xc3\\xa1n acusados de homicidio El padre ha sido detenido El Juzgado de Primera Instancia e Instrucci\\xc3\\xb3n 4 de Paterna, en funciones de guardia, ha asumido la investigaci\\xc3\\xb3n por la muerte de los dos menores en Godella y ha decretado el  secreto de las actuaciones,  ha informado el Tribunal Superior de Justicia de la Comunitat Valenciana. El juez autoriz\\xc3\\xb3 en la tarde noche de este jueves el levantamiento de los cad\\xc3\\xa1veres y su  posterior traslado a dependencias del Instituto de Medicina Legal  para la pr\\xc3\\xa1ctica de las correspondientes autopsias. Seg\\xc3\\xban el TSJCV, el instructor ha incoado un sumario por dos delitos de homicidio, sin perjuicio de ulterior calificaci\\xc3\\xb3n, mientras la Guardia Civil sigue practicando diligencias de investigaci\\xc3\\xb3n. El padre, detenido hoy El padre de los dos hermanos ha quedado  tambi\\xc3\\xa9n detenido por su supuesta relaci\\xc3\\xb3n con este suceso , por el cual se halla  arrestada la madre  de los ni\\xc3\\xb1os desde que ayer confesara el lugar donde se encontraban los cuerpos de sus hijos. Los cad\\xc3\\xa1veres de los dos ni\\xc3\\xb1os desaparecidos este jueves en Godella fueron hallados, enterrados, por agentes de la Guardia Civil tras  varias horas de b\\xc3\\xbasqueda  e interrogatorio a sus progenitores. Las v\\xc3\\xadctimas son un ni\\xc3\\xb1o de tres a\\xc3\\xb1os y medio y una ni\\xc3\\xb1a de apenas cinco meses, de cuya desaparici\\xc3\\xb3n se tuvo constancia tras una  discusi\\xc3\\xb3n entre los padres,  de la que alertaron a las fuerzas de seguridad varias llamadas, seg\\xc3\\xban explic\\xc3\\xb3 el delegado del Gobierno en la Comunitat Valenciana, Juan Carlos Fulgencio. Los padres de los menores muertos de Godella est\\xc3\\xa1n acusados de homicidio La Polic\\xc3\\xada Cient\\xc3\\xadfica trabaja en la casa (N. Abad) Tanto el padre como la madre fueron conducidos al cuartel de la Guardia Civil de Moncada para ser interrogados y, tras varias horas de intentos infructuosos,  relatos delirantes  y una  actitud de \"escasa colaboraci\\xc3\\xb3n\" , finalmente los agentes lograron que la madre les condujese al lugar en el que se encontraban enterrados sus hijos, aunque no confes\\xc3\\xb3 la autor\\xc3\\xada del crimen.*****||*****\\r\\nwww.elconfidencial.com*****||*****espana*****||*****https://www.elconfidencial.com/espana/2018-09-12/juez-imputa-policias-cargas-1-o-barcelona_1615027/*****||*****Un juez imputa a otros cinco polic\\xc3\\xadas por las cargas del 1-O en Barcelona*****||*****Consulta catalana 1-O|Barcelona|*****||*****tambi\\xc3\\xa9n ha archivado 50 denuncias*****||*****El titular del juzgado ha acordado citar a declarar a los que intervinieron en las escuelas \\xc3\\x81gora de Nou Barris, Escoles Pies de Sant Antoni e Infant Jes\\xc3\\xbas de Gr\\xc3\\xa0cia*****||*****https://www.ecestaticos.com/imagestatic/clipping/5a4/8ca/5a48ca8de26fc79f918eb0f598c373ff/trapero-aprovecho-un-descuido-del-fiscal-de-lleida-para-filtrar-el-plan-del-estado-el-1-o.jpg?mtime=1519857306*****||*****Agentes de la polic\\xc3\\xada Nacional intentan retirar a los concentrados en el instituto IES Tarragona el 1 de octubre de 2017. (EFE)*****||*****El juez que indaga  las cargas del 1-O en Barcelona  ha citado a declarar como investigados a otros cinco polic\\xc3\\xadas nacionales por su intervenci\\xc3\\xb3n en tres escuelas de la capital catalana que acogieron urnas, lo que eleva a decena el n\\xc3\\xbamero de agentes imputados por esos hechos. En tres autos, el titular del juzgado de instrucci\\xc3\\xb3n n\\xc3\\xbamero 7 de Barcelona ha acordado citar a declarar a cinco polic\\xc3\\xadas que intervinieron en las escuelas \\xc3\\x81gora de Nou Barris, Escoles Pies de Sant Antoni e Infant Jes\\xc3\\xbas de Gr\\xc3\\xa0cia, entre ellas dos agentes  que estaban al mando de los dispositivos . Asimismo, ha requerido al Cuerpo Nacional de Polic\\xc3\\xada para que identifique a un agente al que uno de los v\\xc3\\xaddeos aportados en la causa muestra propinando una patada a un hombre que acababa de ser derribado al suelo  \"de forma absolutamente innecesaria\" , seg\\xc3\\xban el juez, en el centro Escoles Pies de Sant Antoni. La investigaci\\xc3\\xb3n sobre la actuaci\\xc3\\xb3n de la Polic\\xc3\\xada Nacional en estos tres centros se suma a otras cinco que est\\xc3\\xa1n en marcha por las cargas contra los concentrados en las escuelas Mediterr\\xc3\\xa0nia, Pau Claris, Els Horts, Ramon Llull y Fedac Horta-Santa Caterina de Siena, que han comportado la imputaci\\xc3\\xb3n de cinco agentes. Por el contrario, el magistrado ha archivado  una cincuentena de denuncias  contra la intervenci\\xc3\\xb3n de la Polic\\xc3\\xada para impedir la votaci\\xc3\\xb3n del 1-O en seis escuelas de la capital catalana, en algunos casos por la falta de material gr\\xc3\\xa1fico suficiente sobre las cargas o que permitan identificar a los agentes que actuaron. Sin notificaci\\xc3\\xb3n previa En el caso de Escoles Pies, el juez relata en su auto que los agentes, \"sin que se oiga aviso previo o ninguna advertencia, empiezan a agarrar\" a las personas concentradas \"y las lanzan al suelo o las empujan hacia afuera,  sin miramiento alguno  y utilizando ciertamente una violencia desproporcionada a la situaci\\xc3\\xb3n que all\\xc3\\xad se da\". En este centro, el magistrado menciona  \"agresiones claramente gratuitas\" , como la patada al costado que el polic\\xc3\\xada a\\xc3\\xban no identificado propin\\xc3\\xb3 a un ciudadano en el suelo y el caso de otra persona al que un agente dio tres pu\\xc3\\xb1etazos, mientras otro lo cog\\xc3\\xada por el cuello para lanzarlo al suelo y patearlo despu\\xc3\\xa9s. El PSOE pide la reprobaci\\xc3\\xb3n de Santamar\\xc3\\xada por las cargas policiales del 1-O Juanma Romero Los socialistas ya han registrado en el Congreso la interpelaci\\xc3\\xb3n urgente a la vicepresidenta, de la que se derivar\\xc3\\xa1 una moci\\xc3\\xb3n de reprobaci\\xc3\\xb3n, por ser ella, entienden, la \"responsable \\xc3\\xbaltima\" de la violencia En la escuela Infant Jes\\xc3\\xbas, el juez sostiene que la actuaci\\xc3\\xb3n policial \"no estaba amparada por el auto\" del Tribunal Superior de Justicia de Catalu\\xc3\\xb1a que ordenaba impedir la votaci\\xc3\\xb3n, \"por lo que debe preguntarse cu\\xc3\\xa1l fue el motivo por el que se actu\\xc3\\xb3, se empuj\\xc3\\xb3 y zarande\\xc3\\xb3 y golpe\\xc3\\xb3 a las personas que all\\xc3\\xad se encontraban\". Seg\\xc3\\xban describe el magistrado, en esta escuela la polic\\xc3\\xada arrastr\\xc3\\xb3 a la gente que estaba sentada en el suelo, \"a veces con golpes y patadas\", algunos son \"empujados violentamente\" y otros \"tirados de las orejas\", sin que se observe ninguna actuaci\\xc3\\xb3n violenta por parte de los concentrados, que se limitaban a \"obstaculizar\" el acceso de los agentes al colegio. Trapero deber\\xc3\\xa1 esperar: la Audiencia no le juzgar\\xc3\\xa1 hasta que haya sentencia del \\'proc\\xc3\\xa9s\\' Beatriz Parera Prev\\xc3\\xa9 aguardar al criterio del alto tribunal en el procedimiento que afecta al Govern del \\'expresident\\' de la Generalitat Carles Puigdemont Respecto a la actuaci\\xc3\\xb3n policial en la escuela \\xc3\\x81gora, el juez sostiene que, tras anunciar por megafon\\xc3\\xada a los concentrados que proceder\\xc3\\xadan a intervenir, los agentes golpearon con sus defensas  \"de forma indiscriminada\"  a las personas que all\\xc3\\xad se encontraban. \"Los golpes, como se observa en las im\\xc3\\xa1genes,  van de arriba a abajo,  golpeando forzosamente en la zona superior del cuerpo a los ciudadanos concentrados\", a\\xc3\\xb1ade el juez, que precisa que algunos de los porrazos provocaron heridas que precisaron puntos de sutura. Los golpes, como se observa en las im\\xc3\\xa1genes, van de arriba a abajo, golpeando forzosamente en la zona superior del cuerpo a los ciudadanos\" Andr\\xc3\\xa9s Garc\\xc3\\xada, abogado portavoz de la entidad de derechos humanos Iridia, que representa a varios de los heridos en el 1-O, ha celebrado la imputaci\\xc3\\xb3n de estos otros cinco polic\\xc3\\xadas, lo que a su parecer est\\xc3\\xa1  \"probando la desproporci\\xc3\\xb3n de la actuaci\\xc3\\xb3n policial\"  contra el refer\\xc3\\xa9ndum. Seg\\xc3\\xban el letrado, el impulso de la causa obedece al  \"trabajo de la ciudadan\\xc3\\xada, que consigui\\xc3\\xb3 muchas de las pruebas\"  que han motivado las imputaciones, y tambi\\xc3\\xa9n est\\xc3\\xa1 resultando clave \"la colaboraci\\xc3\\xb3n entre la sociedad civil e instituciones como el Ayuntamiento de Barcelona y las personas afectadas\". El portavoz de Iridia ha pedido \"medidas pol\\xc3\\xadticas concretas para luchar contra la violencia institucional\" con motivo del primer aniversario del 1-O.*****||*****\\r\\nwww.elconfidencial.com*****||*****elecciones-municipales-y-autonomicas*****||*****https://www.elconfidencial.com/elecciones-municipales-y-autonomicas/resultados/2019-05-26/lekeitio-escrutinio-recuento-26m_2029826/*****||*****Resultados de las elecciones municipales 2019 en Lekeitio*****||**********||*****La participaci\\xc3\\xb3n ha sido del 75,4% en la localidad*****||*****EAJ-PNV habr\\xc3\\xada obtenido un 53,63% de los votos, mientras que en segundo lugar aparecer\\xc3\\xada EH Bildu, con el 43,62%*****||*****https://www.ecestaticos.com/imagestatic/clipping/d98/b93/d98b93cb2e5383c284acf8db4f0e5ba9/todos-los-invitados-al-foro-sobre-inversion-en-inmobiliario.jpg?mtime=1527764919*****||*****Elecciones municipales 2019. (EC)*****||*****Con un 100% de los votos escrutados,  EAJ-PNV vencer\\xc3\\xada en las  elecciones municipales  de Lekeitio con siete concejales, lo cual significar\\xc3\\xada el mismo n\\xc3\\xbamero de representantes que durante los pasados comicios en esta localidad. La formaci\\xc3\\xb3n nacionalista vasca se habr\\xc3\\xada hecho con el 53,63% de las papeletas, porcentaje que le valdr\\xc3\\xada para estar por delante de EH Bildu, que con seis ediles, obtendr\\xc3\\xada el mismo n\\xc3\\xbamero que en las pasadas votaciones en esta localidad, seg\\xc3\\xban los datos ofrecidos hasta el momento por el Ministerio del Interior. Tal resultado dejar\\xc3\\xada sin representaci\\xc3\\xb3n al PSOE, opci\\xc3\\xb3n elegida por el 0,98%; y al PP, con un 0,35%. La participaci\\xc3\\xb3n ha llegado al  75,4% , por lo que se coloca  entre las mayores de la historia  en la poblaci\\xc3\\xb3n, donde el m\\xc3\\xa1ximo (79,23%) se registr\\xc3\\xb3 durante las locales de mayo de 2003 y el m\\xc3\\xadnimo (68,65%) se produjo en mayo de 2007. Un 65,2% de espa\\xc3\\xb1oles ha acudido a las urnas este 26 de mayo, una cita electoral que afrontaba el reto de remontar la ligera ca\\xc3\\xadda de 2015 (64,9%) y que ten\\xc3\\xada por encima un list\\xc3\\xb3n del 69,9% registrado en 1995.   Resultados en la provincia La formaci\\xc3\\xb3n nacionalista vasca, que a nivel nacional tendr\\xc3\\xada mayor\\xc3\\xada en 80 ciudades y pueblos, ser\\xc3\\xada la opci\\xc3\\xb3n preferida en la provincia de Vizcaya, consiguiendo los mejores resultados en 51 ayuntamientos. EH Bildu le superar\\xc3\\xada en 23, al tiempo que Adie lo har\\xc3\\xada en una municipalidad y Armendu en uno. Por n\\xc3\\xbamero de concejales, estas ser\\xc3\\xadan las formaciones con mayor representaci\\xc3\\xb3n en la regi\\xc3\\xb3n: EAJ-PNV : 569 concejales (236856 votos). EH Bildu : 394 concejales (122097 votos). PSOE : 93 concejales (90918 votos). Elkarrekin Podemos : 39 concejales (47832 votos). PP : 15 concejales (30115 votos). No obstante, estos datos deben considerarse provisionales hasta que finalice el recuento de los votos en las mesas de los colegios, a trav\\xc3\\xa9s de lo que la Junta Electoral Central define como un \"complejo y avanzado procedimiento de transmisi\\xc3\\xb3n de la informaci\\xc3\\xb3n\" al que cualquier ciudadano puede asistir y que se hace p\\xc3\\xbablico a trav\\xc3\\xa9s de  un acta de la sesi\\xc3\\xb3n . El tiempo de finalizaci\\xc3\\xb3n del c\\xc3\\xb3mputo depende de la cantidad de votos y de incidencias registradas en los centros, pero Moncloa ya adelant\\xc3\\xb3 que la confluencia de las elecciones europeas, auton\\xc3\\xb3micas y municipales provocar\\xc3\\xada que el escrutinio local no  comenzara hasta las 23:00 horas , dado que s\\xc3\\xb3lo puede efectuarse una vez concluido el correspondiente a la c\\xc3\\xa1mara continental, cuyos resultados no pueden hacerse p\\xc3\\xbablicos hasta el cierre de los colegios en todos los pa\\xc3\\xadses. Resultados en otros municipios Vitoria-Gasteiz Alicante Barcelona Burgos C\\xc3\\xb3rdoba A Coru\\xc3\\xb1a Granada Deba Irun Mutriku San Sebasti\\xc3\\xa1n Mendaro Logro\\xc3\\xb1o Madrid M\\xc3\\xa1laga Murcia Pamplona Santander Sevilla Valencia Valladolid Barakaldo Berriatua Bilbao Busturia Getxo Gernika-Lumo Markina-Xemein Muxika Mundaka Ondarroa Zaragoza*****||*****\\r\\nwww.elconfidencial.com*****||*****cultura*****||*****https://www.elconfidencial.com/cultura/2019-04-18/santimamine-arte-rupestre-falsificacion-cuerno_1943806/*****||*****El misterio del cuerno falso de Santimami\\xc3\\xb1e: la gran estafa del arte rupestre espa\\xc3\\xb1ol*****||*****Prehistoria|*****||*****ARQUEOLOG\\xc3\\x8dA*****||*****Cuatro figuras paleol\\xc3\\xadticas fueron parcialmente falsificadas en los a\\xc3\\xb1os 60 en una incre\\xc3\\xadble y rocambolesca historia*****||*****https://www.ecestaticos.com/image/clipping/654/5b8340850a60dcbfc030c31b901f1851/bisonte-antes-de-las-modificaciones-foto-de-j-vertut-y-s-yaniz-arkeologi-museoa.jpg*****||*****Panel decorado, con el bisonte modificado a la derecha. Foto: S. Yaniz (Arkeologi Museoa)*****||*****En alg\\xc3\\xban momento entre 1961 y 1966 alguien entr\\xc3\\xb3 en la cueva de Santimami\\xc3\\xb1e, agarr\\xc3\\xb3 un trozo de carb\\xc3\\xb3n  y pint\\xc3\\xb3 un segundo cuerno a uno de los bisontes paleol\\xc3\\xadticos  del panel principal. Despu\\xc3\\xa9s a\\xc3\\xb1adi\\xc3\\xb3 algo de pelo a la giba, sombre\\xc3\\xb3 la panza y redonde\\xc3\\xb3 su ojo, como si tratara de mejorar  la obra del artista prehist\\xc3\\xb3rico . Aquella figura ten\\xc3\\xada alrededor de 12.500 a\\xc3\\xb1os de antig\\xc3\\xbcedad y formaba parte de uno de los conjuntos rupestres m\\xc3\\xa1s importantes del mundo, declarado Patrimonio de la Humanidad en 2008. El individuo tambi\\xc3\\xa9n a\\xc3\\xb1adi\\xc3\\xb3 una chapucera cabeza de caballo, el ojo de un oso cavernario y parte de la cornamenta de un ciervo. Estas figuras protagonizaron portadas de libros, ilustraron revistas especializadas y sirvieron para decorar las paredes de restaurantes y bares del entorno,  sin que nadie supiera que hab\\xc3\\xadan sido parcialmente falsificadas. La Diputaci\\xc3\\xb3n Foral de Bizkaia public\\xc3\\xb3 en 2016 un estudio firmado por C\\xc3\\xa9sar Gonz\\xc3\\xa1lez Sa\\xc3\\xadnz, uno de los grandes especialistas en arte parietal de la Universidad de Cantabria, donde se criticaba duramente estas alteraciones. \\xe2\\x80\\x9cLos aspectos que comentamos son dolorosos y desalentadores, pero no deben ocultarse.  En Santimami\\xc3\\xb1e se han repetido los a\\xc3\\xb1adidos a figuras paleol\\xc3\\xadticas con total impunidad \\xe2\\x80\\x9d. Algunos investigadores previos ya hab\\xc3\\xadan percibido la inexplicable aparici\\xc3\\xb3n del segundo cuerno del bisonte, pero manten\\xc3\\xadan la postura habitual en este tipo de casos: escurrir el bulto en p\\xc3\\xa1rrafos discretos o menciones ambiguas. Cuando Gonzalez estudi\\xc3\\xb3 las pinturas observ\\xc3\\xb3 estas anomal\\xc3\\xadas estil\\xc3\\xadsticas, rar\\xc3\\xadsimas para los estrictos c\\xc3\\xa1nones del arte magdaleniense, y decidi\\xc3\\xb3 trastear en los fondos documentales de la Diputaci\\xc3\\xb3n. All\\xc3\\xad encontr\\xc3\\xb3 el archivo de Jean Vertut, el fot\\xc3\\xb3grafo que visit\\xc3\\xb3 la cueva junto al eminente prehistoriador franc\\xc3\\xa9s Andr\\xc3\\xa9 Leroi-Gourhan en la d\\xc3\\xa9cada de los 50. Al comparar sus fotograf\\xc3\\xadas con las im\\xc3\\xa1genes actuales, no quedaba lugar a dudas.  Alguien hab\\xc3\\xada retocado las pinturas. Bisonte antes de las modificaciones. Foto de J. Vertut y S. Yaniz (Arkeologi Museoa) Bisonte despu\\xc3\\xa9s de las modificaciones. Foto de J. Vertut y S. Yaniz (Arkeologi Museoa) Gonz\\xc3\\xa1lez consigui\\xc3\\xb3 delimitar con bastante detalle  la \\xe2\\x80\\x98escena del crimen\\xe2\\x80\\x99  gracias a diferentes trabajos fotogr\\xc3\\xa1ficos. Se realizaron modificaciones a un total de cuatro figuras animales en al menos tres momentos diferentes entre 1961 y 1976, adem\\xc3\\xa1s de un rect\\xc3\\xa1ngulo dibujado torpemente en el panel principal y borrado a posteriori. \\xe2\\x80\\x9cNuestro objetivo no era dar la fecha exacta de las falsificaciones ni descubrir qui\\xc3\\xa9n lo hab\\xc3\\xada hecho, sino descartar aquello que no fuera aut\\xc3\\xa9ntico\\xe2\\x80\\x9d, zanja Gonz\\xc3\\xa1lez. Las sospechas en el mundillo de la arqueolog\\xc3\\xada apuntan a alguien pr\\xc3\\xb3ximo al equipo de investigaci\\xc3\\xb3n de la \\xc3\\xa9poca, pero tampoco puede descartarse la mano de alg\\xc3\\xban visitante furtivo, pues entonces la cavidad no estaba tan controlada como ahora. Tanto tiempo despu\\xc3\\xa9s resulta casi imposible desvelar su identidad. \\xe2\\x80\\x9cSinceramente, desconozco las causas que llevan a alguien a retocar una obra como esta, pero supongo que  simplemente se debe a la ignorancia humana . Es un factor mucho m\\xc3\\xa1s extendido de lo que se piensa\\xe2\\x80\\x9d. Las sospechas apuntan a alguien pr\\xc3\\xb3ximo al equipo de investigaci\\xc3\\xb3n de la \\xc3\\xa9poca pero tampoco descartan la mano de alg\\xc3\\xban visitante furtivo Hoy en d\\xc3\\xada, los especialistas en arte parietal no verifican un conjunto rupestre  hasta tener evidencias datables, geol\\xc3\\xb3gicas, estil\\xc3\\xadsticas y contextuales  que prueben su veracidad. Los expertos reconocen que las falsificaciones son un problema recurrente, pero resulta imposible saber cu\\xc3\\xa1l el n\\xc3\\xbamero exacto, pues no existe ning\\xc3\\xban estudio al respecto. En la cornisa cant\\xc3\\xa1brica se conocen figuras falsas o modificadas en las grutas de Zubialde, San Mart\\xc3\\xadn, El Rinc\\xc3\\xb3n, El Polvor\\xc3\\xadn, Balzola, Sagastigorri, la Cueva de las Brujas, la Pasiega, Boscados, Becerral y Lled\\xc3\\xadas, entre muchas otras. La lista resulta interminable y re\\xc3\\xbane  alteraciones de todo tipo , desde refinadas reproducciones de principios del siglo pasado hasta burdas figuras grabadas con llaves o pinta labios. En la mayor\\xc3\\xada de las cavidades hay al mismo tiempo pinturas paleol\\xc3\\xadticas y garabatos modernos. El conjunto de Santimami\\xc3\\xb1e fue  descubierto por un grupo de adolescentes de Kortezubi  el 2 de enero de 1916. El hallazgo qued\\xc3\\xb3 olvidado hasta el 7 de agosto del mismo a\\xc3\\xb1o, cuando el conocido compositor vitoriano Jes\\xc3\\xbas Guridi acudi\\xc3\\xb3 al balneario que regentaba el padre de uno de los descubridores. Al escuchar la historia, visit\\xc3\\xb3 la cavidad en persona y alert\\xc3\\xb3 a las autoridades sobre la importancia de estas pinturas. Entonces en Euskadi solamente se conoc\\xc3\\xadan los grabados de Ventalaperra y la comunidad cient\\xc3\\xadfica acababa de reconocer la autenticidad de Altamira. Los \\xc3\\xbaltimos estudios indican que Santimami\\xc3\\xb1e contiene 51 figuras paleol\\xc3\\xadticas, la mayor\\xc3\\xada bisontes, adem\\xc3\\xa1s de numerosos motivos abstractos, como l\\xc3\\xadneas sueltas y manchas de color. Desgraciadamente, parte de las pintura ha desaparecido o resulta ilegible debido a la afluencia masiva de visitantes, los destrozos de las obras para el acondicionamiento tur\\xc3\\xadstico, el vandalismo y los procesos naturales de la roca. A pesar de todo, los magn\\xc3\\xadficos dibujos de Santimami\\xc3\\xb1e han permitido  alumbrar un pasado que permaneci\\xc3\\xb3 olvidado durante siglos. Las grandes estafas del arte rupestre De todas las falsificaciones conocidas en Espa\\xc3\\xb1a, solo hay  dos casos a los que se les atribuyen intenciones sospechosas : la cueva de Cueto de Lled\\xc3\\xadas (Llanes) y Zubialde (\\xc3\\x81lava). La primera se encuentra en una localidad cercana a Llanes. Ces\\xc3\\xa1reo Card\\xc3\\xadn, un artista local que ayudaba al Conde de la Vega del Sella en sus exploraciones arqueol\\xc3\\xb3gicas, \\xe2\\x80\\x98descubri\\xc3\\xb3\\xe2\\x80\\x99 un impresionante santuario rupestre a pocos metros de su casa. Las pinturas fueron consideradas verdaderas durante mucho tiempo, pero la comunidad cient\\xc3\\xadfica acab\\xc3\\xb3 por descartarlas. La familia del descubridor mantuvo la cueva abierta al p\\xc3\\xbablico igualmente, ofreciendo gu\\xc3\\xadas tur\\xc3\\xadsticas por \\xe2\\x80\\x9c200 pesetas\\xe2\\x80\\x9d. En 2001 el Ayuntamiento de Llanes compr\\xc3\\xb3 la propiedad familiar por 120.000 euros, seg\\xc3\\xban la prensa local.. Los vecinos piden ahora que las autoridades restauren la zona. \\xe2\\x80\\x9c Nosotros ya sab\\xc3\\xadamos que eran falsas, pero es una pena que el sitio est\\xc3\\xa9 tan abandonado . Podr\\xc3\\xada ser un bonito lugar de reuni\\xc3\\xb3n para el barrio\\xe2\\x80\\x9d, animan desde la asociaci\\xc3\\xb3n vecinal del G\\xc3\\xbcert\\xc3\\xadn. El rinoceronte falsificado de la cueva de Zubialde El segundo caso es seguramente  uno de los episodios m\\xc3\\xa1s escandalosos del arte rupestre nacional . A finales de 1990, un estudiante de Historia llamado Seraf\\xc3\\xadn Ruiz logr\\xc3\\xb3 que la Diputaci\\xc3\\xb3n de \\xc3\\x81lava le pagara doce millones y medio de pesetas por desvelar el emplazamiento de un santuario que \\xc3\\xa9l mismo hab\\xc3\\xada descubierto ocho meses antes. Escondida bajo las faldas del Gorbea, Zubialde albergaba todo tipo de signos y figuras, incluidos rinocerontes, mamuts y dibujos de manos. Las alarmas saltaron por primera vez cuando dos arque\\xc3\\xb3logos brit\\xc3\\xa1nicos observaron las fotograf\\xc3\\xadas reveladas por la prensa y aseguraron que se trataba de un fake. Diecisiete meses m\\xc3\\xa1s tarde, los tres cient\\xc3\\xadficos vascos encargados del estudio reconocieron su error inicial. La investigaci\\xc3\\xb3n demostr\\xc3\\xb3 que las pinturas conten\\xc3\\xadan restos de estropajo \\'Scotchbrite\\' y \\'Vileda\\' y que las diapositivas presentadas por el descubridor retrataban  figuras sobre las que el estafador hab\\xc3\\xada a\\xc3\\xb1adido trazos a posteriori.  Adem\\xc3\\xa1s, el estilo del conjunto era muy poco cre\\xc3\\xadble (inclu\\xc3\\xada fallos anat\\xc3\\xb3micos y formalismos de cronolog\\xc3\\xadas y regiones totalmente dispares). La investigaci\\xc3\\xb3n demostr\\xc3\\xb3 que las pinturas conten\\xc3\\xadan restos de estropajo \\'Scotchbrite\\' y \\'Vileda\\'  Las autoridades no imputaron a Seraf\\xc3\\xadn, que se declar\\xc3\\xb3 inocente, pues no hab\\xc3\\xada pruebas determinantes, pero  le obligaron a devolver el dinero . Este antiguo espele\\xc3\\xb3logo volvi\\xc3\\xb3 a cruzarse con la justicia en 2006, cuando la empresa en la que trabajaba como encargado de contabilidad lo acus\\xc3\\xb3 de haber defraudado alrededor de 175.000 euros. Un auto al que ha tenido acceso este peri\\xc3\\xb3dico indica que ambas partes alcanzaron un acuerdo antes de llegar al juicio, por lo que probablemente devolviera el dinero con tal de evitar los cargos. Seraf\\xc3\\xadn se especializ\\xc3\\xb3 despu\\xc3\\xa9s en Biblioteconom\\xc3\\xada y Documentaci\\xc3\\xb3n y consigui\\xc3\\xb3 un puesto de funcionario en un peque\\xc3\\xb1o municipio al sur de Madrid. En 2017 public\\xc3\\xb3 su primera novela con una editorial madrile\\xc3\\xb1a, donde relataba la historia de una mujer fallecida que regresa del Limbo para hacer milagros en la Tierra. El libro estaba firmado \\xc3\\xbanicamente con su segundo apellido. A diferencia de Altamira, a cuyo descubridor tambi\\xc3\\xa9n acusaron de estafa, no parece que las pinturas encontradas en Zubialde vayan a cambiar la historia del arte rupestre. Lamentablemente, este tipo de falsificaciones suelen empa\\xc3\\xb1ar el imaginario colectivo y acaban cuestionando un patrimonio \\xc3\\xbanico y real. Se trata, ni m\\xc3\\xa1s ni menos, de  las primeras manifestaciones art\\xc3\\xadsticas de la humanidad.*****||*****\\r\\n'}"
            ]
          },
          "metadata": {
            "tags": []
          },
          "execution_count": 2
        }
      ]
    },
    {
      "cell_type": "code",
      "metadata": {
        "id": "tJuOaySho3Ti",
        "colab_type": "code",
        "outputId": "7e3c86d8-7620-4f96-b65e-9f7323cd1b03",
        "colab": {
          "base_uri": "https://localhost:8080/",
          "height": 34
        }
      },
      "source": [
        "try:\n",
        " # %tensorflow_version only exists in Colab.\n",
        " %tensorflow_version 2.x\n",
        "except Exception:\n",
        "  pass\n",
        "  \n",
        "import tensorflow as tf\n",
        "import tensorflow_datasets as tfds\n",
        "import keras\n",
        "from keras.layers import Input, Dense, concatenate\n",
        "from keras.models import Model\n",
        "import numpy as np"
      ],
      "execution_count": 0,
      "outputs": [
        {
          "output_type": "stream",
          "text": [
            "Using TensorFlow backend.\n"
          ],
          "name": "stderr"
        }
      ]
    },
    {
      "cell_type": "markdown",
      "metadata": {
        "id": "rkOHiElQFTFc",
        "colab_type": "text"
      },
      "source": [
        "<h1>Creación del modelo</h1>\n",
        "El clasificador de texto está compuesto de 2 modelos los cuales son el tokenizer y el clasificador\n",
        "<ul>\n",
        "<li> El tokenizer convierte las sequencias de texto en vectores y debe ser aprendido de la data</li>\n",
        "<li> El clasificador toma la salida del tokenizer para las inputs y outputs del modelo</li>"
      ]
    },
    {
      "cell_type": "code",
      "metadata": {
        "id": "bTb6nqar39hK",
        "colab_type": "code",
        "outputId": "91aac7bb-a633-4471-acf8-e2fc27bbdcd4",
        "colab": {
          "base_uri": "https://localhost:8080/",
          "height": 71
        }
      },
      "source": [
        "# Training the tokenizer\n",
        "lines_dataset = tf.data.TextLineDataset('./sample_text.txt')\n",
        "training_samples = 28\n",
        "INPUTS = ['seccion', 'title']\n",
        "INLEN = [255,500]\n",
        "OUTPUTS = ['tags']\n",
        "OUTLEN = [255]\n",
        "# Splitting the dataset\n",
        "def parsing(line):\n",
        "  \"\"\"\n",
        "  Parse the file and split by category\n",
        "  \"\"\"\n",
        "  splitted = tf.strings.split(line, sep='*****||*****', maxsplit=9) \n",
        "  #tags = tf.strings.split(splitted[4], '|')\n",
        "  return (splitted[1], splitted[3]), splitted[4]\n",
        "\n",
        "parsed_data = lines_dataset.map(parsing)\n",
        "\n",
        "# Creating the encoders\n",
        "tags_tokenizer = tf.keras.preprocessing.text.Tokenizer(num_words=255, split='|')\n",
        "section_tokenizer = tf.keras.preprocessing.text.Tokenizer(num_words=255)\n",
        "title_tokenizer = tf.keras.preprocessing.text.Tokenizer(num_words=500)\n",
        "\n",
        "tags_vocabulary_set = set()\n",
        "section_vocabulary_set = set()\n",
        "title_vocabulary_set = set()\n",
        "for (section, title), tags in parsed_data.skip(1).take(training_samples):\n",
        "  tags_vocabulary_set.update([tags.numpy().decode()])\n",
        "  section_vocabulary_set.update([section.numpy().decode()])\n",
        "  title_vocabulary_set.update([title.numpy().decode()])\n",
        "\n",
        "tags_tokenizer.fit_on_texts(list(tags_vocabulary_set))\n",
        "section_tokenizer.fit_on_texts(list(section_vocabulary_set))\n",
        "title_tokenizer.fit_on_texts(list(title_vocabulary_set))"
      ],
      "execution_count": 0,
      "outputs": [
        {
          "output_type": "stream",
          "text": [
            "WARNING:tensorflow:Entity <function parsing at 0x7f9ca0223840> could not be transformed and will be executed as-is. Please report this to the AutoGraph team. When filing the bug, set the verbosity to 10 (on Linux, `export AUTOGRAPH_VERBOSITY=10`) and attach the full output. Cause: module 'gast' has no attribute 'Num'\n",
            "WARNING: Entity <function parsing at 0x7f9ca0223840> could not be transformed and will be executed as-is. Please report this to the AutoGraph team. When filing the bug, set the verbosity to 10 (on Linux, `export AUTOGRAPH_VERBOSITY=10`) and attach the full output. Cause: module 'gast' has no attribute 'Num'\n"
          ],
          "name": "stdout"
        }
      ]
    },
    {
      "cell_type": "code",
      "metadata": {
        "id": "88Xiip2gGwD-",
        "colab_type": "code",
        "outputId": "2e572191-710d-4fe4-8b8c-f30cf584158b",
        "colab": {
          "base_uri": "https://localhost:8080/",
          "height": 71
        }
      },
      "source": [
        "# Preparing the data pipeline\n",
        "def encoder_data(text_tensor, label):\n",
        "  \"\"\"\n",
        "  Uses the trained encoder to convert the text sequences into arrays\n",
        "  Note: The tag array contain the labeled data\n",
        "  \"\"\"\n",
        "  section = section_tokenizer.texts_to_matrix([text_tensor[0].numpy().decode()])[0] \n",
        "  title = title_tokenizer.texts_to_matrix([text_tensor[1].numpy().decode()])[0]  \n",
        "  tag = tags_tokenizer.texts_to_matrix([label.numpy().decode()])[0]\n",
        "  return section, title, tag\n",
        "\n",
        "def encode_map_fn(text_tensor, label):\n",
        "  result = tf.py_function(encoder_data, inp=[text_tensor, label], Tout=(tf.int64, tf.int64, tf.int64))\n",
        "  return {'seccion': result[0], 'title':result[1]}, {'tags':result[2]}\n",
        "\n",
        "# Skipping the first line and using a batchsize of 14\n",
        "train_data = parsed_data.map(encode_map_fn).skip(1)\n",
        "train_data = train_data.take(training_samples).padded_batch(14, padded_shapes=({'seccion':[None], 'title':[None]},{'tags':[None]}))"
      ],
      "execution_count": 0,
      "outputs": [
        {
          "output_type": "stream",
          "text": [
            "WARNING:tensorflow:Entity <function encode_map_fn at 0x7f9ca0223620> could not be transformed and will be executed as-is. Please report this to the AutoGraph team. When filing the bug, set the verbosity to 10 (on Linux, `export AUTOGRAPH_VERBOSITY=10`) and attach the full output. Cause: module 'gast' has no attribute 'Num'\n",
            "WARNING: Entity <function encode_map_fn at 0x7f9ca0223620> could not be transformed and will be executed as-is. Please report this to the AutoGraph team. When filing the bug, set the verbosity to 10 (on Linux, `export AUTOGRAPH_VERBOSITY=10`) and attach the full output. Cause: module 'gast' has no attribute 'Num'\n"
          ],
          "name": "stdout"
        }
      ]
    },
    {
      "cell_type": "code",
      "metadata": {
        "id": "OeM11WKkvJRr",
        "colab_type": "code",
        "outputId": "946b18bc-6905-4284-eee9-25aedf76337c",
        "colab": {
          "base_uri": "https://localhost:8080/",
          "height": 51
        }
      },
      "source": [
        "for i in train_data:\n",
        "  print(i[0]['seccion'].shape, i[0]['title'].shape, i[1]['tags'].shape)"
      ],
      "execution_count": 0,
      "outputs": [
        {
          "output_type": "stream",
          "text": [
            "(14, 255) (14, 500) (14, 255)\n",
            "(14, 255) (14, 500) (14, 255)\n"
          ],
          "name": "stdout"
        }
      ]
    },
    {
      "cell_type": "code",
      "metadata": {
        "id": "qWVR7QTQO5M1",
        "colab_type": "code",
        "outputId": "bc2179c0-ea78-4c55-b844-c2507b445625",
        "colab": {
          "base_uri": "https://localhost:8080/",
          "height": 442
        }
      },
      "source": [
        "# Creating the model\n",
        "\n",
        "section_input = tf.keras.layers.Input(shape=(255,), name='seccion', dtype=tf.int64)\n",
        "title_input = tf.keras.layers.Input(shape=(500,), name='title', dtype=tf.int64)\n",
        "section_emb = tf.keras.layers.Embedding(1024,32)(section_input)\n",
        "title_emb = tf.keras.layers.Embedding(1024,32)(title_input)\n",
        "mixed = tf.keras.layers.concatenate([tf.keras.layers.Flatten()(section_emb), tf.keras.layers.Flatten()(title_emb)])\n",
        "out = tf.keras.layers.Dense(255, activation='sigmoid', name='tags')(mixed)\n",
        "model = tf.keras.models.Model([section_input,title_input], [out])\n",
        "model.summary()"
      ],
      "execution_count": 0,
      "outputs": [
        {
          "output_type": "stream",
          "text": [
            "Model: \"model\"\n",
            "__________________________________________________________________________________________________\n",
            "Layer (type)                    Output Shape         Param #     Connected to                     \n",
            "==================================================================================================\n",
            "seccion (InputLayer)            [(None, 255)]        0                                            \n",
            "__________________________________________________________________________________________________\n",
            "title (InputLayer)              [(None, 500)]        0                                            \n",
            "__________________________________________________________________________________________________\n",
            "embedding (Embedding)           (None, 255, 32)      32768       seccion[0][0]                    \n",
            "__________________________________________________________________________________________________\n",
            "embedding_1 (Embedding)         (None, 500, 32)      32768       title[0][0]                      \n",
            "__________________________________________________________________________________________________\n",
            "flatten (Flatten)               (None, 8160)         0           embedding[0][0]                  \n",
            "__________________________________________________________________________________________________\n",
            "flatten_1 (Flatten)             (None, 16000)        0           embedding_1[0][0]                \n",
            "__________________________________________________________________________________________________\n",
            "concatenate (Concatenate)       (None, 24160)        0           flatten[0][0]                    \n",
            "                                                                 flatten_1[0][0]                  \n",
            "__________________________________________________________________________________________________\n",
            "tags (Dense)                    (None, 255)          6161055     concatenate[0][0]                \n",
            "==================================================================================================\n",
            "Total params: 6,226,591\n",
            "Trainable params: 6,226,591\n",
            "Non-trainable params: 0\n",
            "__________________________________________________________________________________________________\n"
          ],
          "name": "stdout"
        }
      ]
    },
    {
      "cell_type": "code",
      "metadata": {
        "id": "957IFXNR3_qk",
        "colab_type": "code",
        "outputId": "db8a1572-c56a-4cce-b1fd-511fafb915ed",
        "colab": {
          "base_uri": "https://localhost:8080/",
          "height": 1000
        }
      },
      "source": [
        "model.compile(loss='binary_crossentropy')\n",
        "model.fit(train_data, epochs=100)"
      ],
      "execution_count": 0,
      "outputs": [
        {
          "output_type": "stream",
          "text": [
            "Epoch 1/100\n",
            "WARNING:tensorflow:From /tensorflow-2.0.0-rc1/python3.6/tensorflow_core/python/ops/nn_impl.py:183: where (from tensorflow.python.ops.array_ops) is deprecated and will be removed in a future version.\n",
            "Instructions for updating:\n",
            "Use tf.where in 2.0, which has the same broadcast rule as np.where\n",
            "WARNING:tensorflow:Entity <function Function._initialize_uninitialized_variables.<locals>.initialize_variables at 0x7f9ca005c510> could not be transformed and will be executed as-is. Please report this to the AutoGraph team. When filing the bug, set the verbosity to 10 (on Linux, `export AUTOGRAPH_VERBOSITY=10`) and attach the full output. Cause: module 'gast' has no attribute 'Num'\n",
            "WARNING: Entity <function Function._initialize_uninitialized_variables.<locals>.initialize_variables at 0x7f9ca005c510> could not be transformed and will be executed as-is. Please report this to the AutoGraph team. When filing the bug, set the verbosity to 10 (on Linux, `export AUTOGRAPH_VERBOSITY=10`) and attach the full output. Cause: module 'gast' has no attribute 'Num'\n",
            "2/2 [==============================] - 2s 816ms/step - loss: 0.4297\n",
            "Epoch 2/100\n",
            "2/2 [==============================] - 0s 50ms/step - loss: 0.1048\n",
            "Epoch 3/100\n",
            "2/2 [==============================] - 0s 47ms/step - loss: 0.0833\n",
            "Epoch 4/100\n",
            "2/2 [==============================] - 0s 46ms/step - loss: 0.0776\n",
            "Epoch 5/100\n",
            "2/2 [==============================] - 0s 47ms/step - loss: 0.0750\n",
            "Epoch 6/100\n",
            "2/2 [==============================] - 0s 48ms/step - loss: 0.0734\n",
            "Epoch 7/100\n",
            "2/2 [==============================] - 0s 47ms/step - loss: 0.0725\n",
            "Epoch 8/100\n",
            "2/2 [==============================] - 0s 50ms/step - loss: 0.0718\n",
            "Epoch 9/100\n",
            "2/2 [==============================] - 0s 51ms/step - loss: 0.0712\n",
            "Epoch 10/100\n",
            "2/2 [==============================] - 0s 54ms/step - loss: 0.0707\n",
            "Epoch 11/100\n",
            "2/2 [==============================] - 0s 47ms/step - loss: 0.0702\n",
            "Epoch 12/100\n",
            "2/2 [==============================] - 0s 49ms/step - loss: 0.0695\n",
            "Epoch 13/100\n",
            "2/2 [==============================] - 0s 46ms/step - loss: 0.0688\n",
            "Epoch 14/100\n",
            "2/2 [==============================] - 0s 46ms/step - loss: 0.0680\n",
            "Epoch 15/100\n",
            "2/2 [==============================] - 0s 48ms/step - loss: 0.0671\n",
            "Epoch 16/100\n",
            "2/2 [==============================] - 0s 53ms/step - loss: 0.0662\n",
            "Epoch 17/100\n",
            "2/2 [==============================] - 0s 47ms/step - loss: 0.0651\n",
            "Epoch 18/100\n",
            "2/2 [==============================] - 0s 51ms/step - loss: 0.0639\n",
            "Epoch 19/100\n",
            "2/2 [==============================] - 0s 48ms/step - loss: 0.0627\n",
            "Epoch 20/100\n",
            "2/2 [==============================] - 0s 51ms/step - loss: 0.0613\n",
            "Epoch 21/100\n",
            "2/2 [==============================] - 0s 47ms/step - loss: 0.0599\n",
            "Epoch 22/100\n",
            "2/2 [==============================] - 0s 47ms/step - loss: 0.0584\n",
            "Epoch 23/100\n",
            "2/2 [==============================] - 0s 46ms/step - loss: 0.0568\n",
            "Epoch 24/100\n",
            "2/2 [==============================] - 0s 46ms/step - loss: 0.0552\n",
            "Epoch 25/100\n",
            "2/2 [==============================] - 0s 49ms/step - loss: 0.0534\n",
            "Epoch 26/100\n",
            "2/2 [==============================] - 0s 47ms/step - loss: 0.0516\n",
            "Epoch 27/100\n",
            "2/2 [==============================] - 0s 46ms/step - loss: 0.0498\n",
            "Epoch 28/100\n",
            "2/2 [==============================] - 0s 51ms/step - loss: 0.0479\n",
            "Epoch 29/100\n",
            "2/2 [==============================] - 0s 48ms/step - loss: 0.0459\n",
            "Epoch 30/100\n",
            "2/2 [==============================] - 0s 51ms/step - loss: 0.0439\n",
            "Epoch 31/100\n",
            "2/2 [==============================] - 0s 53ms/step - loss: 0.0418\n",
            "Epoch 32/100\n",
            "2/2 [==============================] - 0s 48ms/step - loss: 0.0397\n",
            "Epoch 33/100\n",
            "2/2 [==============================] - 0s 48ms/step - loss: 0.0376\n",
            "Epoch 34/100\n",
            "2/2 [==============================] - 0s 45ms/step - loss: 0.0355\n",
            "Epoch 35/100\n",
            "2/2 [==============================] - 0s 47ms/step - loss: 0.0334\n",
            "Epoch 36/100\n",
            "2/2 [==============================] - 0s 49ms/step - loss: 0.0314\n",
            "Epoch 37/100\n",
            "2/2 [==============================] - 0s 49ms/step - loss: 0.0294\n",
            "Epoch 38/100\n",
            "2/2 [==============================] - 0s 48ms/step - loss: 0.0274\n",
            "Epoch 39/100\n",
            "2/2 [==============================] - 0s 48ms/step - loss: 0.0255\n",
            "Epoch 40/100\n",
            "2/2 [==============================] - 0s 47ms/step - loss: 0.0237\n",
            "Epoch 41/100\n",
            "2/2 [==============================] - 0s 52ms/step - loss: 0.0220\n",
            "Epoch 42/100\n",
            "2/2 [==============================] - 0s 50ms/step - loss: 0.0203\n",
            "Epoch 43/100\n",
            "2/2 [==============================] - 0s 44ms/step - loss: 0.0187\n",
            "Epoch 44/100\n",
            "2/2 [==============================] - 0s 47ms/step - loss: 0.0172\n",
            "Epoch 45/100\n",
            "2/2 [==============================] - 0s 49ms/step - loss: 0.0159\n",
            "Epoch 46/100\n",
            "2/2 [==============================] - 0s 48ms/step - loss: 0.0146\n",
            "Epoch 47/100\n",
            "2/2 [==============================] - 0s 47ms/step - loss: 0.0134\n",
            "Epoch 48/100\n",
            "2/2 [==============================] - 0s 46ms/step - loss: 0.0123\n",
            "Epoch 49/100\n",
            "2/2 [==============================] - 0s 46ms/step - loss: 0.0112\n",
            "Epoch 50/100\n",
            "2/2 [==============================] - 0s 47ms/step - loss: 0.0103\n",
            "Epoch 51/100\n",
            "2/2 [==============================] - 0s 48ms/step - loss: 0.0094\n",
            "Epoch 52/100\n",
            "2/2 [==============================] - 0s 52ms/step - loss: 0.0086\n",
            "Epoch 53/100\n",
            "2/2 [==============================] - 0s 47ms/step - loss: 0.0079\n",
            "Epoch 54/100\n",
            "2/2 [==============================] - 0s 48ms/step - loss: 0.0072\n",
            "Epoch 55/100\n",
            "2/2 [==============================] - 0s 49ms/step - loss: 0.0066\n",
            "Epoch 56/100\n",
            "2/2 [==============================] - 0s 51ms/step - loss: 0.0060\n",
            "Epoch 57/100\n",
            "2/2 [==============================] - 0s 50ms/step - loss: 0.0055\n",
            "Epoch 58/100\n",
            "2/2 [==============================] - 0s 48ms/step - loss: 0.0050\n",
            "Epoch 59/100\n",
            "2/2 [==============================] - 0s 49ms/step - loss: 0.0046\n",
            "Epoch 60/100\n",
            "2/2 [==============================] - 0s 47ms/step - loss: 0.0042\n",
            "Epoch 61/100\n",
            "2/2 [==============================] - 0s 50ms/step - loss: 0.0038\n",
            "Epoch 62/100\n",
            "2/2 [==============================] - 0s 57ms/step - loss: 0.0035\n",
            "Epoch 63/100\n",
            "2/2 [==============================] - 0s 50ms/step - loss: 0.0033\n",
            "Epoch 64/100\n",
            "2/2 [==============================] - 0s 46ms/step - loss: 0.0031\n",
            "Epoch 65/100\n",
            "2/2 [==============================] - 0s 47ms/step - loss: 0.0028\n",
            "Epoch 66/100\n",
            "2/2 [==============================] - 0s 52ms/step - loss: 0.0025\n",
            "Epoch 67/100\n",
            "2/2 [==============================] - 0s 46ms/step - loss: 0.0023\n",
            "Epoch 68/100\n",
            "2/2 [==============================] - 0s 47ms/step - loss: 0.0021\n",
            "Epoch 69/100\n",
            "2/2 [==============================] - 0s 47ms/step - loss: 0.0019\n",
            "Epoch 70/100\n",
            "2/2 [==============================] - 0s 47ms/step - loss: 0.0018\n",
            "Epoch 71/100\n",
            "2/2 [==============================] - 0s 49ms/step - loss: 0.0016\n",
            "Epoch 72/100\n",
            "2/2 [==============================] - 0s 53ms/step - loss: 0.0015\n",
            "Epoch 73/100\n",
            "2/2 [==============================] - 0s 46ms/step - loss: 0.0014\n",
            "Epoch 74/100\n",
            "2/2 [==============================] - 0s 48ms/step - loss: 0.0013\n",
            "Epoch 75/100\n",
            "2/2 [==============================] - 0s 46ms/step - loss: 0.0012\n",
            "Epoch 76/100\n",
            "2/2 [==============================] - 0s 46ms/step - loss: 0.0011\n",
            "Epoch 77/100\n",
            "2/2 [==============================] - 0s 48ms/step - loss: 0.0010\n",
            "Epoch 78/100\n",
            "2/2 [==============================] - 0s 48ms/step - loss: 9.6082e-04\n",
            "Epoch 79/100\n",
            "2/2 [==============================] - 0s 48ms/step - loss: 8.9476e-04\n",
            "Epoch 80/100\n",
            "2/2 [==============================] - 0s 48ms/step - loss: 8.3414e-04\n",
            "Epoch 81/100\n",
            "2/2 [==============================] - 0s 48ms/step - loss: 7.7843e-04\n",
            "Epoch 82/100\n",
            "2/2 [==============================] - 0s 52ms/step - loss: 7.2732e-04\n",
            "Epoch 83/100\n",
            "2/2 [==============================] - 0s 49ms/step - loss: 6.8054e-04\n",
            "Epoch 84/100\n",
            "2/2 [==============================] - 0s 47ms/step - loss: 6.3667e-04\n",
            "Epoch 85/100\n",
            "2/2 [==============================] - 0s 47ms/step - loss: 5.9626e-04\n",
            "Epoch 86/100\n",
            "2/2 [==============================] - 0s 48ms/step - loss: 5.5985e-04\n",
            "Epoch 87/100\n",
            "2/2 [==============================] - 0s 47ms/step - loss: 5.2644e-04\n",
            "Epoch 88/100\n",
            "2/2 [==============================] - 0s 47ms/step - loss: 4.9585e-04\n",
            "Epoch 89/100\n",
            "2/2 [==============================] - 0s 46ms/step - loss: 4.6774e-04\n",
            "Epoch 90/100\n",
            "2/2 [==============================] - 0s 50ms/step - loss: 4.4200e-04\n",
            "Epoch 91/100\n",
            "2/2 [==============================] - 0s 57ms/step - loss: 4.1788e-04\n",
            "Epoch 92/100\n",
            "2/2 [==============================] - 0s 50ms/step - loss: 3.9532e-04\n",
            "Epoch 93/100\n",
            "2/2 [==============================] - 0s 48ms/step - loss: 3.7479e-04\n",
            "Epoch 94/100\n",
            "2/2 [==============================] - 0s 46ms/step - loss: 3.5569e-04\n",
            "Epoch 95/100\n",
            "2/2 [==============================] - 0s 47ms/step - loss: 3.3769e-04\n",
            "Epoch 96/100\n",
            "2/2 [==============================] - 0s 48ms/step - loss: 3.2113e-04\n",
            "Epoch 97/100\n",
            "2/2 [==============================] - 0s 45ms/step - loss: 3.0594e-04\n",
            "Epoch 98/100\n",
            "2/2 [==============================] - 0s 46ms/step - loss: 2.9192e-04\n",
            "Epoch 99/100\n",
            "2/2 [==============================] - 0s 47ms/step - loss: 2.7892e-04\n",
            "Epoch 100/100\n",
            "2/2 [==============================] - 0s 46ms/step - loss: 2.6684e-04\n"
          ],
          "name": "stdout"
        },
        {
          "output_type": "execute_result",
          "data": {
            "text/plain": [
              "<tensorflow.python.keras.callbacks.History at 0x7f9ca021f2b0>"
            ]
          },
          "metadata": {
            "tags": []
          },
          "execution_count": 12
        }
      ]
    },
    {
      "cell_type": "code",
      "metadata": {
        "id": "Tf0Ehd0roSgD",
        "colab_type": "code",
        "colab": {}
      },
      "source": [
        "class MyWordEmbeddingLayerLayer(tf.keras.layers.Layer):\n",
        "  def __init__(self, tokenizer, output_size=255):\n",
        "    super(MyWordEmbeddingLayerLayer, self).__init__()\n",
        "    key_values = tf.lookup.KeyValueTensorInitializer(list(tokenizer.word_index.keys()),\n",
        "                                                     list(tokenizer.word_index.values()),\n",
        "                                                     key_dtype=tf.string, value_dtype=tf.int64)\n",
        "    self.table = tf.lookup.StaticVocabularyTable(key_values,10)\n",
        "    self.lookup = tf.function(self.table.lookup)\n",
        "    self.output_size = output_size\n",
        "\n",
        "  def call(self, input_string):\n",
        "    queries = tf.ragged.map_flat_values(tf.strings.split, input_string)\n",
        "    word_embeddings = tf.ragged.map_flat_values(lambda x: self.lookup(x), queries).to_tensor(default_value=0)\n",
        "    word_embeddings = tf.pad(word_embeddings, [[0,0],[0,0], [0,self.output_size]], 'CONSTANT')[:,:,:self.output_size]\n",
        "    return tf.reshape(word_embeddings, [queries.nrows(), self.output_size])"
      ],
      "execution_count": 0,
      "outputs": []
    },
    {
      "cell_type": "code",
      "metadata": {
        "id": "dS3LYHJ_BSnP",
        "colab_type": "code",
        "outputId": "4c23995d-8512-4f75-ec7f-86d2b01b3364",
        "colab": {
          "base_uri": "https://localhost:8080/",
          "height": 462
        }
      },
      "source": [
        "section_input = tf.keras.layers.Input(shape=(1,), name='seccion', dtype=tf.string)\n",
        "title_input = tf.keras.layers.Input(shape=(1,), name='title', dtype=tf.string)\n",
        "section_encode = MyWordEmbeddingLayerLayer(section_tokenizer)(section_input)\n",
        "title_encode = MyWordEmbeddingLayerLayer(title_tokenizer, 500)(title_input)\n",
        "#test_model = tf.keras.models.Model([section_input, title_input], [section_encode, title_encode])\n",
        "#test_model.summary()\n",
        "#test_model.predict([['mundo'],['la socialdemocracia']])[0].shape, test_model.predict([['mundo'],['la socialdemocracia']])[1].shape"
      ],
      "execution_count": 0,
      "outputs": [
        {
          "output_type": "stream",
          "text": [
            "WARNING:tensorflow:Entity <bound method MyWordEmbeddingLayerLayer.call of <__main__.MyWordEmbeddingLayerLayer object at 0x7f9ca0168b00>> could not be transformed and will be executed as-is. Please report this to the AutoGraph team. When filing the bug, set the verbosity to 10 (on Linux, `export AUTOGRAPH_VERBOSITY=10`) and attach the full output. Cause: Bad argument number for Name: 3, expecting 4\n",
            "WARNING: Entity <bound method MyWordEmbeddingLayerLayer.call of <__main__.MyWordEmbeddingLayerLayer object at 0x7f9ca0168b00>> could not be transformed and will be executed as-is. Please report this to the AutoGraph team. When filing the bug, set the verbosity to 10 (on Linux, `export AUTOGRAPH_VERBOSITY=10`) and attach the full output. Cause: Bad argument number for Name: 3, expecting 4\n",
            "WARNING:tensorflow:Entity <bound method StaticVocabularyTable.lookup of <tensorflow.python.ops.lookup_ops.StaticVocabularyTable object at 0x7f9c5a028780>> could not be transformed and will be executed as-is. Please report this to the AutoGraph team. When filing the bug, set the verbosity to 10 (on Linux, `export AUTOGRAPH_VERBOSITY=10`) and attach the full output. Cause: Bad argument number for Name: 3, expecting 4\n",
            "WARNING: Entity <bound method StaticVocabularyTable.lookup of <tensorflow.python.ops.lookup_ops.StaticVocabularyTable object at 0x7f9c5a028780>> could not be transformed and will be executed as-is. Please report this to the AutoGraph team. When filing the bug, set the verbosity to 10 (on Linux, `export AUTOGRAPH_VERBOSITY=10`) and attach the full output. Cause: Bad argument number for Name: 3, expecting 4\n",
            "WARNING:tensorflow:Entity <bound method MyWordEmbeddingLayerLayer.call of <__main__.MyWordEmbeddingLayerLayer object at 0x7f9c5a028ba8>> could not be transformed and will be executed as-is. Please report this to the AutoGraph team. When filing the bug, set the verbosity to 10 (on Linux, `export AUTOGRAPH_VERBOSITY=10`) and attach the full output. Cause: Bad argument number for Name: 3, expecting 4\n",
            "WARNING: Entity <bound method MyWordEmbeddingLayerLayer.call of <__main__.MyWordEmbeddingLayerLayer object at 0x7f9c5a028ba8>> could not be transformed and will be executed as-is. Please report this to the AutoGraph team. When filing the bug, set the verbosity to 10 (on Linux, `export AUTOGRAPH_VERBOSITY=10`) and attach the full output. Cause: Bad argument number for Name: 3, expecting 4\n",
            "WARNING:tensorflow:Entity <bound method StaticVocabularyTable.lookup of <tensorflow.python.ops.lookup_ops.StaticVocabularyTable object at 0x7f9c5a02f160>> could not be transformed and will be executed as-is. Please report this to the AutoGraph team. When filing the bug, set the verbosity to 10 (on Linux, `export AUTOGRAPH_VERBOSITY=10`) and attach the full output. Cause: Bad argument number for Name: 3, expecting 4\n",
            "WARNING: Entity <bound method StaticVocabularyTable.lookup of <tensorflow.python.ops.lookup_ops.StaticVocabularyTable object at 0x7f9c5a02f160>> could not be transformed and will be executed as-is. Please report this to the AutoGraph team. When filing the bug, set the verbosity to 10 (on Linux, `export AUTOGRAPH_VERBOSITY=10`) and attach the full output. Cause: Bad argument number for Name: 3, expecting 4\n",
            "Model: \"model_1\"\n",
            "__________________________________________________________________________________________________\n",
            "Layer (type)                    Output Shape         Param #     Connected to                     \n",
            "==================================================================================================\n",
            "seccion (InputLayer)            [(None, 1)]          0                                            \n",
            "__________________________________________________________________________________________________\n",
            "title (InputLayer)              [(None, 1)]          0                                            \n",
            "__________________________________________________________________________________________________\n",
            "my_word_embedding_layer_layer ( (None, 255)          0           seccion[0][0]                    \n",
            "__________________________________________________________________________________________________\n",
            "my_word_embedding_layer_layer_1 (None, 500)          0           title[0][0]                      \n",
            "==================================================================================================\n",
            "Total params: 0\n",
            "Trainable params: 0\n",
            "Non-trainable params: 0\n",
            "__________________________________________________________________________________________________\n"
          ],
          "name": "stdout"
        },
        {
          "output_type": "execute_result",
          "data": {
            "text/plain": [
              "((1, 255), (1, 500))"
            ]
          },
          "metadata": {
            "tags": []
          },
          "execution_count": 14
        }
      ]
    },
    {
      "cell_type": "code",
      "metadata": {
        "id": "SIXfaB6xyp4G",
        "colab_type": "code",
        "outputId": "d96c1b0a-af6a-42f0-84ec-1ad798fa3b6b",
        "colab": {
          "base_uri": "https://localhost:8080/",
          "height": 1000
        }
      },
      "source": [
        "new_outputs = model({'seccion':section_encode, 'title':title_encode})\n",
        "new_model = tf.keras.models.Model(inputs={'seccion':section_input, 'title':title_input}, outputs={'tags':new_outputs})\n",
        "new_model.summary()\n",
        "new_model.predict([['mundo'],['la socialdemocracia']])"
      ],
      "execution_count": 0,
      "outputs": [
        {
          "output_type": "stream",
          "text": [
            "Model: \"model_3\"\n",
            "__________________________________________________________________________________________________\n",
            "Layer (type)                    Output Shape         Param #     Connected to                     \n",
            "==================================================================================================\n",
            "seccion (InputLayer)            [(None, 1)]          0                                            \n",
            "__________________________________________________________________________________________________\n",
            "title (InputLayer)              [(None, 1)]          0                                            \n",
            "__________________________________________________________________________________________________\n",
            "my_word_embedding_layer_layer ( (None, 255)          0           seccion[0][0]                    \n",
            "__________________________________________________________________________________________________\n",
            "my_word_embedding_layer_layer_1 (None, 500)          0           title[0][0]                      \n",
            "__________________________________________________________________________________________________\n",
            "model (Model)                   (None, 255)          6226591     my_word_embedding_layer_layer[0][\n",
            "                                                                 my_word_embedding_layer_layer_1[0\n",
            "==================================================================================================\n",
            "Total params: 6,226,591\n",
            "Trainable params: 6,226,591\n",
            "Non-trainable params: 0\n",
            "__________________________________________________________________________________________________\n"
          ],
          "name": "stdout"
        },
        {
          "output_type": "execute_result",
          "data": {
            "text/plain": [
              "array([[0.00000000e+00, 1.17221475e-03, 1.20845437e-03, 1.14375353e-03,\n",
              "        1.19748712e-03, 6.42240047e-05, 3.40580940e-04, 3.60280275e-04,\n",
              "        3.54647636e-04, 3.60876322e-04, 6.18755817e-04, 6.18278980e-04,\n",
              "        6.27845526e-04, 6.29752874e-04, 6.05225563e-04, 6.46203756e-04,\n",
              "        6.31809235e-04, 6.15864992e-04, 4.49329615e-04, 4.24474478e-04,\n",
              "        4.41044569e-04, 4.53263521e-04, 3.36766243e-05, 3.36170197e-05,\n",
              "        6.01023436e-04, 1.21742487e-04, 1.33097172e-04, 1.28984451e-04,\n",
              "        1.31040812e-04, 1.28984451e-04, 1.22338533e-04, 1.31577253e-04,\n",
              "        1.28120184e-04, 1.32560730e-04, 1.23292208e-04, 1.26123428e-04,\n",
              "        1.29342079e-04, 1.30087137e-04, 1.12026930e-04, 1.04367733e-04,\n",
              "        1.07437372e-04, 7.15851784e-05, 7.65740871e-04, 1.55162811e-03,\n",
              "        1.62097812e-03, 1.52927637e-03, 6.37650490e-04, 6.25163317e-04,\n",
              "        5.96225262e-04, 3.56703997e-04, 3.41713428e-04, 3.49074602e-04,\n",
              "        3.31014395e-04, 3.50326300e-04, 3.33040953e-04, 3.51876020e-04,\n",
              "        3.58015299e-04, 3.51130962e-04, 3.42041254e-04, 5.25236130e-04,\n",
              "        5.54323196e-04, 5.19335270e-04, 5.19394875e-04, 5.37991524e-04,\n",
              "        5.15788794e-04, 5.11527061e-04, 5.25653362e-04, 5.35368919e-04,\n",
              "        5.37008047e-04, 1.17868185e-04, 1.17987394e-04, 1.13099813e-04,\n",
              "        1.14798546e-04, 1.16378069e-04, 3.28302383e-04, 3.31759453e-04,\n",
              "        3.44038010e-04, 3.31044197e-04, 3.33309174e-04, 3.36021185e-04,\n",
              "        5.65224886e-03, 5.92288375e-03, 5.95203042e-03, 4.20749187e-04,\n",
              "        3.63469124e-04, 2.03043222e-04, 2.04086304e-04, 1.96993351e-04,\n",
              "        2.04741955e-04, 2.06321478e-04, 4.11212444e-04, 4.01228666e-04,\n",
              "        3.85433435e-04, 8.07911158e-04, 8.35567713e-04, 8.76963139e-04,\n",
              "        2.17407942e-04, 2.29537487e-04, 2.33143568e-04, 2.25067139e-04,\n",
              "        6.33448362e-04, 6.53803349e-04, 6.27815723e-04, 6.78658485e-04,\n",
              "        1.48642063e-03, 1.52525306e-03, 1.50898099e-03, 1.53586268e-03,\n",
              "        1.47503614e-03, 0.00000000e+00, 0.00000000e+00, 0.00000000e+00,\n",
              "        0.00000000e+00, 0.00000000e+00, 0.00000000e+00, 0.00000000e+00,\n",
              "        0.00000000e+00, 0.00000000e+00, 0.00000000e+00, 0.00000000e+00,\n",
              "        0.00000000e+00, 0.00000000e+00, 0.00000000e+00, 0.00000000e+00,\n",
              "        0.00000000e+00, 0.00000000e+00, 0.00000000e+00, 0.00000000e+00,\n",
              "        0.00000000e+00, 0.00000000e+00, 0.00000000e+00, 0.00000000e+00,\n",
              "        0.00000000e+00, 0.00000000e+00, 0.00000000e+00, 0.00000000e+00,\n",
              "        0.00000000e+00, 0.00000000e+00, 0.00000000e+00, 0.00000000e+00,\n",
              "        0.00000000e+00, 0.00000000e+00, 0.00000000e+00, 0.00000000e+00,\n",
              "        0.00000000e+00, 0.00000000e+00, 0.00000000e+00, 0.00000000e+00,\n",
              "        0.00000000e+00, 0.00000000e+00, 0.00000000e+00, 0.00000000e+00,\n",
              "        0.00000000e+00, 0.00000000e+00, 0.00000000e+00, 0.00000000e+00,\n",
              "        0.00000000e+00, 0.00000000e+00, 0.00000000e+00, 0.00000000e+00,\n",
              "        0.00000000e+00, 0.00000000e+00, 0.00000000e+00, 0.00000000e+00,\n",
              "        0.00000000e+00, 0.00000000e+00, 0.00000000e+00, 0.00000000e+00,\n",
              "        0.00000000e+00, 0.00000000e+00, 0.00000000e+00, 0.00000000e+00,\n",
              "        0.00000000e+00, 0.00000000e+00, 0.00000000e+00, 0.00000000e+00,\n",
              "        0.00000000e+00, 0.00000000e+00, 0.00000000e+00, 0.00000000e+00,\n",
              "        0.00000000e+00, 0.00000000e+00, 0.00000000e+00, 0.00000000e+00,\n",
              "        0.00000000e+00, 0.00000000e+00, 0.00000000e+00, 0.00000000e+00,\n",
              "        0.00000000e+00, 0.00000000e+00, 0.00000000e+00, 0.00000000e+00,\n",
              "        0.00000000e+00, 0.00000000e+00, 0.00000000e+00, 0.00000000e+00,\n",
              "        0.00000000e+00, 0.00000000e+00, 0.00000000e+00, 0.00000000e+00,\n",
              "        0.00000000e+00, 0.00000000e+00, 0.00000000e+00, 0.00000000e+00,\n",
              "        0.00000000e+00, 0.00000000e+00, 0.00000000e+00, 0.00000000e+00,\n",
              "        0.00000000e+00, 0.00000000e+00, 0.00000000e+00, 0.00000000e+00,\n",
              "        0.00000000e+00, 0.00000000e+00, 0.00000000e+00, 0.00000000e+00,\n",
              "        0.00000000e+00, 0.00000000e+00, 0.00000000e+00, 0.00000000e+00,\n",
              "        0.00000000e+00, 0.00000000e+00, 0.00000000e+00, 0.00000000e+00,\n",
              "        0.00000000e+00, 0.00000000e+00, 0.00000000e+00, 0.00000000e+00,\n",
              "        0.00000000e+00, 0.00000000e+00, 0.00000000e+00, 0.00000000e+00,\n",
              "        0.00000000e+00, 0.00000000e+00, 0.00000000e+00, 0.00000000e+00,\n",
              "        0.00000000e+00, 0.00000000e+00, 0.00000000e+00, 0.00000000e+00,\n",
              "        0.00000000e+00, 0.00000000e+00, 0.00000000e+00, 0.00000000e+00,\n",
              "        0.00000000e+00, 0.00000000e+00, 0.00000000e+00, 0.00000000e+00,\n",
              "        0.00000000e+00, 0.00000000e+00, 0.00000000e+00, 0.00000000e+00,\n",
              "        0.00000000e+00, 0.00000000e+00, 0.00000000e+00]], dtype=float32)"
            ]
          },
          "metadata": {
            "tags": []
          },
          "execution_count": 17
        }
      ]
    },
    {
      "cell_type": "code",
      "metadata": {
        "id": "ptw-8xwsD46r",
        "colab_type": "code",
        "colab": {}
      },
      "source": [
        ""
      ],
      "execution_count": 0,
      "outputs": []
    },
    {
      "cell_type": "code",
      "metadata": {
        "id": "-mq2FTitlmtx",
        "colab_type": "code",
        "outputId": "c6cc2398-da4b-4fa3-e8c6-ccd7bb2d6061",
        "colab": {
          "base_uri": "https://localhost:8080/",
          "height": 1000
        }
      },
      "source": [
        "import pickle \n",
        "tf.saved_model.save(new_model, \"./textclassifier/1\")\n",
        "\n",
        "# saving the tokenizers\n",
        "with open('section_tokenizer.pickle', 'wb') as handle:\n",
        "    pickle.dump(section_tokenizer, handle, protocol=pickle.HIGHEST_PROTOCOL)\n",
        "\n",
        "with open('title_tokenizer.pickle', 'wb') as handle:\n",
        "    pickle.dump(title_tokenizer, handle, protocol=pickle.HIGHEST_PROTOCOL)\n",
        "\n",
        "with open('tags_tokenizer.pickle', 'wb') as handle:\n",
        "    pickle.dump(tags_tokenizer, handle, protocol=pickle.HIGHEST_PROTOCOL)"
      ],
      "execution_count": 0,
      "outputs": [
        {
          "output_type": "stream",
          "text": [
            "WARNING:tensorflow:Entity <function Function._initialize_uninitialized_variables.<locals>.initialize_variables at 0x7f9c566c4e18> could not be transformed and will be executed as-is. Please report this to the AutoGraph team. When filing the bug, set the verbosity to 10 (on Linux, `export AUTOGRAPH_VERBOSITY=10`) and attach the full output. Cause: module 'gast' has no attribute 'Num'\n",
            "WARNING: Entity <function Function._initialize_uninitialized_variables.<locals>.initialize_variables at 0x7f9c566c4e18> could not be transformed and will be executed as-is. Please report this to the AutoGraph team. When filing the bug, set the verbosity to 10 (on Linux, `export AUTOGRAPH_VERBOSITY=10`) and attach the full output. Cause: module 'gast' has no attribute 'Num'\n",
            "WARNING:tensorflow:Entity <function Function._initialize_uninitialized_variables.<locals>.initialize_variables at 0x7f9c56105048> could not be transformed and will be executed as-is. Please report this to the AutoGraph team. When filing the bug, set the verbosity to 10 (on Linux, `export AUTOGRAPH_VERBOSITY=10`) and attach the full output. Cause: module 'gast' has no attribute 'Num'\n",
            "WARNING: Entity <function Function._initialize_uninitialized_variables.<locals>.initialize_variables at 0x7f9c56105048> could not be transformed and will be executed as-is. Please report this to the AutoGraph team. When filing the bug, set the verbosity to 10 (on Linux, `export AUTOGRAPH_VERBOSITY=10`) and attach the full output. Cause: module 'gast' has no attribute 'Num'\n",
            "WARNING:tensorflow:Entity <function Function._initialize_uninitialized_variables.<locals>.initialize_variables at 0x7f9c56105ea0> could not be transformed and will be executed as-is. Please report this to the AutoGraph team. When filing the bug, set the verbosity to 10 (on Linux, `export AUTOGRAPH_VERBOSITY=10`) and attach the full output. Cause: module 'gast' has no attribute 'Num'\n",
            "WARNING: Entity <function Function._initialize_uninitialized_variables.<locals>.initialize_variables at 0x7f9c56105ea0> could not be transformed and will be executed as-is. Please report this to the AutoGraph team. When filing the bug, set the verbosity to 10 (on Linux, `export AUTOGRAPH_VERBOSITY=10`) and attach the full output. Cause: module 'gast' has no attribute 'Num'\n",
            "WARNING:tensorflow:Entity <function Function._initialize_uninitialized_variables.<locals>.initialize_variables at 0x7f9c560c08c8> could not be transformed and will be executed as-is. Please report this to the AutoGraph team. When filing the bug, set the verbosity to 10 (on Linux, `export AUTOGRAPH_VERBOSITY=10`) and attach the full output. Cause: module 'gast' has no attribute 'Num'\n",
            "WARNING: Entity <function Function._initialize_uninitialized_variables.<locals>.initialize_variables at 0x7f9c560c08c8> could not be transformed and will be executed as-is. Please report this to the AutoGraph team. When filing the bug, set the verbosity to 10 (on Linux, `export AUTOGRAPH_VERBOSITY=10`) and attach the full output. Cause: module 'gast' has no attribute 'Num'\n",
            "WARNING:tensorflow:Entity <function Function._initialize_uninitialized_variables.<locals>.initialize_variables at 0x7f9c560f12f0> could not be transformed and will be executed as-is. Please report this to the AutoGraph team. When filing the bug, set the verbosity to 10 (on Linux, `export AUTOGRAPH_VERBOSITY=10`) and attach the full output. Cause: module 'gast' has no attribute 'Num'\n",
            "WARNING: Entity <function Function._initialize_uninitialized_variables.<locals>.initialize_variables at 0x7f9c560f12f0> could not be transformed and will be executed as-is. Please report this to the AutoGraph team. When filing the bug, set the verbosity to 10 (on Linux, `export AUTOGRAPH_VERBOSITY=10`) and attach the full output. Cause: module 'gast' has no attribute 'Num'\n",
            "WARNING:tensorflow:Entity <function Function._initialize_uninitialized_variables.<locals>.initialize_variables at 0x7f9c561059d8> could not be transformed and will be executed as-is. Please report this to the AutoGraph team. When filing the bug, set the verbosity to 10 (on Linux, `export AUTOGRAPH_VERBOSITY=10`) and attach the full output. Cause: module 'gast' has no attribute 'Num'\n",
            "WARNING: Entity <function Function._initialize_uninitialized_variables.<locals>.initialize_variables at 0x7f9c561059d8> could not be transformed and will be executed as-is. Please report this to the AutoGraph team. When filing the bug, set the verbosity to 10 (on Linux, `export AUTOGRAPH_VERBOSITY=10`) and attach the full output. Cause: module 'gast' has no attribute 'Num'\n",
            "WARNING:tensorflow:Entity <function Function._initialize_uninitialized_variables.<locals>.initialize_variables at 0x7f9c5609abf8> could not be transformed and will be executed as-is. Please report this to the AutoGraph team. When filing the bug, set the verbosity to 10 (on Linux, `export AUTOGRAPH_VERBOSITY=10`) and attach the full output. Cause: module 'gast' has no attribute 'Num'\n",
            "WARNING: Entity <function Function._initialize_uninitialized_variables.<locals>.initialize_variables at 0x7f9c5609abf8> could not be transformed and will be executed as-is. Please report this to the AutoGraph team. When filing the bug, set the verbosity to 10 (on Linux, `export AUTOGRAPH_VERBOSITY=10`) and attach the full output. Cause: module 'gast' has no attribute 'Num'\n",
            "WARNING:tensorflow:Entity <function Function._initialize_uninitialized_variables.<locals>.initialize_variables at 0x7f9c560b0510> could not be transformed and will be executed as-is. Please report this to the AutoGraph team. When filing the bug, set the verbosity to 10 (on Linux, `export AUTOGRAPH_VERBOSITY=10`) and attach the full output. Cause: module 'gast' has no attribute 'Num'\n",
            "WARNING: Entity <function Function._initialize_uninitialized_variables.<locals>.initialize_variables at 0x7f9c560b0510> could not be transformed and will be executed as-is. Please report this to the AutoGraph team. When filing the bug, set the verbosity to 10 (on Linux, `export AUTOGRAPH_VERBOSITY=10`) and attach the full output. Cause: module 'gast' has no attribute 'Num'\n",
            "WARNING:tensorflow:Entity <function Function._initialize_uninitialized_variables.<locals>.initialize_variables at 0x7f9c5605d510> could not be transformed and will be executed as-is. Please report this to the AutoGraph team. When filing the bug, set the verbosity to 10 (on Linux, `export AUTOGRAPH_VERBOSITY=10`) and attach the full output. Cause: module 'gast' has no attribute 'Num'\n",
            "WARNING: Entity <function Function._initialize_uninitialized_variables.<locals>.initialize_variables at 0x7f9c5605d510> could not be transformed and will be executed as-is. Please report this to the AutoGraph team. When filing the bug, set the verbosity to 10 (on Linux, `export AUTOGRAPH_VERBOSITY=10`) and attach the full output. Cause: module 'gast' has no attribute 'Num'\n",
            "WARNING:tensorflow:Entity <function Function._initialize_uninitialized_variables.<locals>.initialize_variables at 0x7f9c55ffa158> could not be transformed and will be executed as-is. Please report this to the AutoGraph team. When filing the bug, set the verbosity to 10 (on Linux, `export AUTOGRAPH_VERBOSITY=10`) and attach the full output. Cause: module 'gast' has no attribute 'Num'\n",
            "WARNING: Entity <function Function._initialize_uninitialized_variables.<locals>.initialize_variables at 0x7f9c55ffa158> could not be transformed and will be executed as-is. Please report this to the AutoGraph team. When filing the bug, set the verbosity to 10 (on Linux, `export AUTOGRAPH_VERBOSITY=10`) and attach the full output. Cause: module 'gast' has no attribute 'Num'\n",
            "WARNING:tensorflow:Entity <function Function._initialize_uninitialized_variables.<locals>.initialize_variables at 0x7f9c5601f048> could not be transformed and will be executed as-is. Please report this to the AutoGraph team. When filing the bug, set the verbosity to 10 (on Linux, `export AUTOGRAPH_VERBOSITY=10`) and attach the full output. Cause: module 'gast' has no attribute 'Num'\n",
            "WARNING: Entity <function Function._initialize_uninitialized_variables.<locals>.initialize_variables at 0x7f9c5601f048> could not be transformed and will be executed as-is. Please report this to the AutoGraph team. When filing the bug, set the verbosity to 10 (on Linux, `export AUTOGRAPH_VERBOSITY=10`) and attach the full output. Cause: module 'gast' has no attribute 'Num'\n",
            "WARNING:tensorflow:Entity <function Function._initialize_uninitialized_variables.<locals>.initialize_variables at 0x7f9c5601fd08> could not be transformed and will be executed as-is. Please report this to the AutoGraph team. When filing the bug, set the verbosity to 10 (on Linux, `export AUTOGRAPH_VERBOSITY=10`) and attach the full output. Cause: module 'gast' has no attribute 'Num'\n",
            "WARNING: Entity <function Function._initialize_uninitialized_variables.<locals>.initialize_variables at 0x7f9c5601fd08> could not be transformed and will be executed as-is. Please report this to the AutoGraph team. When filing the bug, set the verbosity to 10 (on Linux, `export AUTOGRAPH_VERBOSITY=10`) and attach the full output. Cause: module 'gast' has no attribute 'Num'\n",
            "WARNING:tensorflow:Entity <function Function._initialize_uninitialized_variables.<locals>.initialize_variables at 0x7f9c55ffaae8> could not be transformed and will be executed as-is. Please report this to the AutoGraph team. When filing the bug, set the verbosity to 10 (on Linux, `export AUTOGRAPH_VERBOSITY=10`) and attach the full output. Cause: module 'gast' has no attribute 'Num'\n",
            "WARNING: Entity <function Function._initialize_uninitialized_variables.<locals>.initialize_variables at 0x7f9c55ffaae8> could not be transformed and will be executed as-is. Please report this to the AutoGraph team. When filing the bug, set the verbosity to 10 (on Linux, `export AUTOGRAPH_VERBOSITY=10`) and attach the full output. Cause: module 'gast' has no attribute 'Num'\n",
            "WARNING:tensorflow:Entity <function Function._initialize_uninitialized_variables.<locals>.initialize_variables at 0x7f9c56169510> could not be transformed and will be executed as-is. Please report this to the AutoGraph team. When filing the bug, set the verbosity to 10 (on Linux, `export AUTOGRAPH_VERBOSITY=10`) and attach the full output. Cause: module 'gast' has no attribute 'Num'\n",
            "WARNING: Entity <function Function._initialize_uninitialized_variables.<locals>.initialize_variables at 0x7f9c56169510> could not be transformed and will be executed as-is. Please report this to the AutoGraph team. When filing the bug, set the verbosity to 10 (on Linux, `export AUTOGRAPH_VERBOSITY=10`) and attach the full output. Cause: module 'gast' has no attribute 'Num'\n",
            "WARNING:tensorflow:Entity <function Function._initialize_uninitialized_variables.<locals>.initialize_variables at 0x7f9c55fd1d90> could not be transformed and will be executed as-is. Please report this to the AutoGraph team. When filing the bug, set the verbosity to 10 (on Linux, `export AUTOGRAPH_VERBOSITY=10`) and attach the full output. Cause: module 'gast' has no attribute 'Num'\n",
            "WARNING: Entity <function Function._initialize_uninitialized_variables.<locals>.initialize_variables at 0x7f9c55fd1d90> could not be transformed and will be executed as-is. Please report this to the AutoGraph team. When filing the bug, set the verbosity to 10 (on Linux, `export AUTOGRAPH_VERBOSITY=10`) and attach the full output. Cause: module 'gast' has no attribute 'Num'\n",
            "WARNING:tensorflow:Entity <function Function._initialize_uninitialized_variables.<locals>.initialize_variables at 0x7f9c55f2fd08> could not be transformed and will be executed as-is. Please report this to the AutoGraph team. When filing the bug, set the verbosity to 10 (on Linux, `export AUTOGRAPH_VERBOSITY=10`) and attach the full output. Cause: module 'gast' has no attribute 'Num'\n",
            "WARNING: Entity <function Function._initialize_uninitialized_variables.<locals>.initialize_variables at 0x7f9c55f2fd08> could not be transformed and will be executed as-is. Please report this to the AutoGraph team. When filing the bug, set the verbosity to 10 (on Linux, `export AUTOGRAPH_VERBOSITY=10`) and attach the full output. Cause: module 'gast' has no attribute 'Num'\n",
            "WARNING:tensorflow:Entity <function Function._initialize_uninitialized_variables.<locals>.initialize_variables at 0x7f9c55c41b70> could not be transformed and will be executed as-is. Please report this to the AutoGraph team. When filing the bug, set the verbosity to 10 (on Linux, `export AUTOGRAPH_VERBOSITY=10`) and attach the full output. Cause: module 'gast' has no attribute 'Num'\n",
            "WARNING: Entity <function Function._initialize_uninitialized_variables.<locals>.initialize_variables at 0x7f9c55c41b70> could not be transformed and will be executed as-is. Please report this to the AutoGraph team. When filing the bug, set the verbosity to 10 (on Linux, `export AUTOGRAPH_VERBOSITY=10`) and attach the full output. Cause: module 'gast' has no attribute 'Num'\n",
            "WARNING:tensorflow:Entity <function Function._initialize_uninitialized_variables.<locals>.initialize_variables at 0x7f9c55c5ed08> could not be transformed and will be executed as-is. Please report this to the AutoGraph team. When filing the bug, set the verbosity to 10 (on Linux, `export AUTOGRAPH_VERBOSITY=10`) and attach the full output. Cause: module 'gast' has no attribute 'Num'\n",
            "WARNING: Entity <function Function._initialize_uninitialized_variables.<locals>.initialize_variables at 0x7f9c55c5ed08> could not be transformed and will be executed as-is. Please report this to the AutoGraph team. When filing the bug, set the verbosity to 10 (on Linux, `export AUTOGRAPH_VERBOSITY=10`) and attach the full output. Cause: module 'gast' has no attribute 'Num'\n",
            "WARNING:tensorflow:Entity <function Function._initialize_uninitialized_variables.<locals>.initialize_variables at 0x7f9c559ec9d8> could not be transformed and will be executed as-is. Please report this to the AutoGraph team. When filing the bug, set the verbosity to 10 (on Linux, `export AUTOGRAPH_VERBOSITY=10`) and attach the full output. Cause: module 'gast' has no attribute 'Num'\n",
            "WARNING: Entity <function Function._initialize_uninitialized_variables.<locals>.initialize_variables at 0x7f9c559ec9d8> could not be transformed and will be executed as-is. Please report this to the AutoGraph team. When filing the bug, set the verbosity to 10 (on Linux, `export AUTOGRAPH_VERBOSITY=10`) and attach the full output. Cause: module 'gast' has no attribute 'Num'\n",
            "WARNING:tensorflow:Entity <function Function._initialize_uninitialized_variables.<locals>.initialize_variables at 0x7f9c55f9e950> could not be transformed and will be executed as-is. Please report this to the AutoGraph team. When filing the bug, set the verbosity to 10 (on Linux, `export AUTOGRAPH_VERBOSITY=10`) and attach the full output. Cause: module 'gast' has no attribute 'Num'\n",
            "WARNING: Entity <function Function._initialize_uninitialized_variables.<locals>.initialize_variables at 0x7f9c55f9e950> could not be transformed and will be executed as-is. Please report this to the AutoGraph team. When filing the bug, set the verbosity to 10 (on Linux, `export AUTOGRAPH_VERBOSITY=10`) and attach the full output. Cause: module 'gast' has no attribute 'Num'\n",
            "WARNING:tensorflow:Entity <function Function._initialize_uninitialized_variables.<locals>.initialize_variables at 0x7f9c558502f0> could not be transformed and will be executed as-is. Please report this to the AutoGraph team. When filing the bug, set the verbosity to 10 (on Linux, `export AUTOGRAPH_VERBOSITY=10`) and attach the full output. Cause: module 'gast' has no attribute 'Num'\n",
            "WARNING: Entity <function Function._initialize_uninitialized_variables.<locals>.initialize_variables at 0x7f9c558502f0> could not be transformed and will be executed as-is. Please report this to the AutoGraph team. When filing the bug, set the verbosity to 10 (on Linux, `export AUTOGRAPH_VERBOSITY=10`) and attach the full output. Cause: module 'gast' has no attribute 'Num'\n",
            "WARNING:tensorflow:Entity <function canonicalize_signatures.<locals>.signature_wrapper at 0x7f9c56157488> could not be transformed and will be executed as-is. Please report this to the AutoGraph team. When filing the bug, set the verbosity to 10 (on Linux, `export AUTOGRAPH_VERBOSITY=10`) and attach the full output. Cause: Bad argument number for Name: 3, expecting 4\n",
            "WARNING: Entity <function canonicalize_signatures.<locals>.signature_wrapper at 0x7f9c56157488> could not be transformed and will be executed as-is. Please report this to the AutoGraph team. When filing the bug, set the verbosity to 10 (on Linux, `export AUTOGRAPH_VERBOSITY=10`) and attach the full output. Cause: Bad argument number for Name: 3, expecting 4\n",
            "WARNING:tensorflow:Entity <function Function._initialize_uninitialized_variables.<locals>.initialize_variables at 0x7f9c557b7e18> could not be transformed and will be executed as-is. Please report this to the AutoGraph team. When filing the bug, set the verbosity to 10 (on Linux, `export AUTOGRAPH_VERBOSITY=10`) and attach the full output. Cause: module 'gast' has no attribute 'Num'\n",
            "WARNING: Entity <function Function._initialize_uninitialized_variables.<locals>.initialize_variables at 0x7f9c557b7e18> could not be transformed and will be executed as-is. Please report this to the AutoGraph team. When filing the bug, set the verbosity to 10 (on Linux, `export AUTOGRAPH_VERBOSITY=10`) and attach the full output. Cause: module 'gast' has no attribute 'Num'\n",
            "WARNING:tensorflow:Entity <bound method MyWordEmbeddingLayerLayer.call of <__main__.MyWordEmbeddingLayerLayer object at 0x7f9ca0168b00>> could not be transformed and will be executed as-is. Please report this to the AutoGraph team. When filing the bug, set the verbosity to 10 (on Linux, `export AUTOGRAPH_VERBOSITY=10`) and attach the full output. Cause: Bad argument number for Name: 3, expecting 4\n",
            "WARNING: Entity <bound method MyWordEmbeddingLayerLayer.call of <__main__.MyWordEmbeddingLayerLayer object at 0x7f9ca0168b00>> could not be transformed and will be executed as-is. Please report this to the AutoGraph team. When filing the bug, set the verbosity to 10 (on Linux, `export AUTOGRAPH_VERBOSITY=10`) and attach the full output. Cause: Bad argument number for Name: 3, expecting 4\n",
            "WARNING:tensorflow:Entity <bound method MyWordEmbeddingLayerLayer.call of <__main__.MyWordEmbeddingLayerLayer object at 0x7f9c5a028ba8>> could not be transformed and will be executed as-is. Please report this to the AutoGraph team. When filing the bug, set the verbosity to 10 (on Linux, `export AUTOGRAPH_VERBOSITY=10`) and attach the full output. Cause: Bad argument number for Name: 3, expecting 4\n",
            "WARNING: Entity <bound method MyWordEmbeddingLayerLayer.call of <__main__.MyWordEmbeddingLayerLayer object at 0x7f9c5a028ba8>> could not be transformed and will be executed as-is. Please report this to the AutoGraph team. When filing the bug, set the verbosity to 10 (on Linux, `export AUTOGRAPH_VERBOSITY=10`) and attach the full output. Cause: Bad argument number for Name: 3, expecting 4\n",
            "WARNING:tensorflow:Entity <function Function._initialize_uninitialized_variables.<locals>.initialize_variables at 0x7f9c54837488> could not be transformed and will be executed as-is. Please report this to the AutoGraph team. When filing the bug, set the verbosity to 10 (on Linux, `export AUTOGRAPH_VERBOSITY=10`) and attach the full output. Cause: module 'gast' has no attribute 'Num'\n",
            "WARNING: Entity <function Function._initialize_uninitialized_variables.<locals>.initialize_variables at 0x7f9c54837488> could not be transformed and will be executed as-is. Please report this to the AutoGraph team. When filing the bug, set the verbosity to 10 (on Linux, `export AUTOGRAPH_VERBOSITY=10`) and attach the full output. Cause: module 'gast' has no attribute 'Num'\n",
            "WARNING:tensorflow:Entity <function Function._initialize_uninitialized_variables.<locals>.initialize_variables at 0x7f9c54837e18> could not be transformed and will be executed as-is. Please report this to the AutoGraph team. When filing the bug, set the verbosity to 10 (on Linux, `export AUTOGRAPH_VERBOSITY=10`) and attach the full output. Cause: module 'gast' has no attribute 'Num'\n",
            "WARNING: Entity <function Function._initialize_uninitialized_variables.<locals>.initialize_variables at 0x7f9c54837e18> could not be transformed and will be executed as-is. Please report this to the AutoGraph team. When filing the bug, set the verbosity to 10 (on Linux, `export AUTOGRAPH_VERBOSITY=10`) and attach the full output. Cause: module 'gast' has no attribute 'Num'\n",
            "WARNING:tensorflow:Entity <function Function._initialize_uninitialized_variables.<locals>.initialize_variables at 0x7f9c548566a8> could not be transformed and will be executed as-is. Please report this to the AutoGraph team. When filing the bug, set the verbosity to 10 (on Linux, `export AUTOGRAPH_VERBOSITY=10`) and attach the full output. Cause: module 'gast' has no attribute 'Num'\n",
            "WARNING: Entity <function Function._initialize_uninitialized_variables.<locals>.initialize_variables at 0x7f9c548566a8> could not be transformed and will be executed as-is. Please report this to the AutoGraph team. When filing the bug, set the verbosity to 10 (on Linux, `export AUTOGRAPH_VERBOSITY=10`) and attach the full output. Cause: module 'gast' has no attribute 'Num'\n",
            "WARNING:tensorflow:Entity <function Function._initialize_uninitialized_variables.<locals>.initialize_variables at 0x7f9c547f3e18> could not be transformed and will be executed as-is. Please report this to the AutoGraph team. When filing the bug, set the verbosity to 10 (on Linux, `export AUTOGRAPH_VERBOSITY=10`) and attach the full output. Cause: module 'gast' has no attribute 'Num'\n",
            "WARNING: Entity <function Function._initialize_uninitialized_variables.<locals>.initialize_variables at 0x7f9c547f3e18> could not be transformed and will be executed as-is. Please report this to the AutoGraph team. When filing the bug, set the verbosity to 10 (on Linux, `export AUTOGRAPH_VERBOSITY=10`) and attach the full output. Cause: module 'gast' has no attribute 'Num'\n",
            "WARNING:tensorflow:Entity <function Function._initialize_uninitialized_variables.<locals>.initialize_variables at 0x7f9c5480d9d8> could not be transformed and will be executed as-is. Please report this to the AutoGraph team. When filing the bug, set the verbosity to 10 (on Linux, `export AUTOGRAPH_VERBOSITY=10`) and attach the full output. Cause: module 'gast' has no attribute 'Num'\n",
            "WARNING: Entity <function Function._initialize_uninitialized_variables.<locals>.initialize_variables at 0x7f9c5480d9d8> could not be transformed and will be executed as-is. Please report this to the AutoGraph team. When filing the bug, set the verbosity to 10 (on Linux, `export AUTOGRAPH_VERBOSITY=10`) and attach the full output. Cause: module 'gast' has no attribute 'Num'\n",
            "WARNING:tensorflow:Entity <function Function._initialize_uninitialized_variables.<locals>.initialize_variables at 0x7f9c548262f0> could not be transformed and will be executed as-is. Please report this to the AutoGraph team. When filing the bug, set the verbosity to 10 (on Linux, `export AUTOGRAPH_VERBOSITY=10`) and attach the full output. Cause: module 'gast' has no attribute 'Num'\n",
            "WARNING: Entity <function Function._initialize_uninitialized_variables.<locals>.initialize_variables at 0x7f9c548262f0> could not be transformed and will be executed as-is. Please report this to the AutoGraph team. When filing the bug, set the verbosity to 10 (on Linux, `export AUTOGRAPH_VERBOSITY=10`) and attach the full output. Cause: module 'gast' has no attribute 'Num'\n",
            "WARNING:tensorflow:Entity <function _trace_resource_initializers.<locals>._wrap_obj_initializer.<locals>.<lambda> at 0x7f9c547f3510> could not be transformed and will be executed as-is. Please report this to the AutoGraph team. When filing the bug, set the verbosity to 10 (on Linux, `export AUTOGRAPH_VERBOSITY=10`) and attach the full output. Cause: module 'gast' has no attribute 'Str'\n",
            "WARNING: Entity <function _trace_resource_initializers.<locals>._wrap_obj_initializer.<locals>.<lambda> at 0x7f9c547f3510> could not be transformed and will be executed as-is. Please report this to the AutoGraph team. When filing the bug, set the verbosity to 10 (on Linux, `export AUTOGRAPH_VERBOSITY=10`) and attach the full output. Cause: module 'gast' has no attribute 'Str'\n",
            "WARNING:tensorflow:Entity <function Function._initialize_uninitialized_variables.<locals>.initialize_variables at 0x7f9c546b9d90> could not be transformed and will be executed as-is. Please report this to the AutoGraph team. When filing the bug, set the verbosity to 10 (on Linux, `export AUTOGRAPH_VERBOSITY=10`) and attach the full output. Cause: module 'gast' has no attribute 'Num'\n",
            "WARNING: Entity <function Function._initialize_uninitialized_variables.<locals>.initialize_variables at 0x7f9c546b9d90> could not be transformed and will be executed as-is. Please report this to the AutoGraph team. When filing the bug, set the verbosity to 10 (on Linux, `export AUTOGRAPH_VERBOSITY=10`) and attach the full output. Cause: module 'gast' has no attribute 'Num'\n",
            "WARNING:tensorflow:Entity <function _trace_resource_initializers.<locals>._wrap_obj_initializer.<locals>.<lambda> at 0x7f9c54837b70> could not be transformed and will be executed as-is. Please report this to the AutoGraph team. When filing the bug, set the verbosity to 10 (on Linux, `export AUTOGRAPH_VERBOSITY=10`) and attach the full output. Cause: module 'gast' has no attribute 'Str'\n",
            "WARNING: Entity <function _trace_resource_initializers.<locals>._wrap_obj_initializer.<locals>.<lambda> at 0x7f9c54837b70> could not be transformed and will be executed as-is. Please report this to the AutoGraph team. When filing the bug, set the verbosity to 10 (on Linux, `export AUTOGRAPH_VERBOSITY=10`) and attach the full output. Cause: module 'gast' has no attribute 'Str'\n",
            "WARNING:tensorflow:Entity <function Function._initialize_uninitialized_variables.<locals>.initialize_variables at 0x7f9c546b9d90> could not be transformed and will be executed as-is. Please report this to the AutoGraph team. When filing the bug, set the verbosity to 10 (on Linux, `export AUTOGRAPH_VERBOSITY=10`) and attach the full output. Cause: module 'gast' has no attribute 'Num'\n",
            "WARNING: Entity <function Function._initialize_uninitialized_variables.<locals>.initialize_variables at 0x7f9c546b9d90> could not be transformed and will be executed as-is. Please report this to the AutoGraph team. When filing the bug, set the verbosity to 10 (on Linux, `export AUTOGRAPH_VERBOSITY=10`) and attach the full output. Cause: module 'gast' has no attribute 'Num'\n",
            "WARNING:tensorflow:From /tensorflow-2.0.0-rc1/python3.6/tensorflow_core/python/ops/resource_variable_ops.py:1781: calling BaseResourceVariable.__init__ (from tensorflow.python.ops.resource_variable_ops) with constraint is deprecated and will be removed in a future version.\n",
            "Instructions for updating:\n",
            "If using Keras pass *_constraint arguments to layers.\n",
            "INFO:tensorflow:Assets written to: ./textclassifier/1/assets\n"
          ],
          "name": "stdout"
        }
      ]
    },
    {
      "cell_type": "markdown",
      "metadata": {
        "id": "W0GOfYr7rNMe",
        "colab_type": "text"
      },
      "source": [
        "<h1>Lanzado el servidor</h1>\n",
        "A través del tesorflow_model_server se crea un proceso administrado por tf.serving que permite hacer una predicción usando el modelo inception cargado previamente.\n",
        "(Reiniciar el collab en este paso)"
      ]
    },
    {
      "cell_type": "code",
      "metadata": {
        "id": "8M-armNCaZ4z",
        "colab_type": "code",
        "colab": {}
      },
      "source": [
        "import requests"
      ],
      "execution_count": 0,
      "outputs": []
    },
    {
      "cell_type": "code",
      "metadata": {
        "id": "sv-IKy0d6JnR",
        "colab_type": "code",
        "outputId": "30a051b9-a44b-4e2e-d163-74632d957fb3",
        "colab": {
          "base_uri": "https://localhost:8080/",
          "height": 34
        }
      },
      "source": [
        "%%bash --bg\n",
        "nohup tensorflow_model_server --port=8502 --rest_api_port=8503 --model_name=text --model_base_path=`realpath textclassifier` > server.log 2>&1"
      ],
      "execution_count": 0,
      "outputs": [
        {
          "output_type": "stream",
          "text": [
            "Starting job # 0 in a separate thread.\n"
          ],
          "name": "stdout"
        }
      ]
    },
    {
      "cell_type": "code",
      "metadata": {
        "id": "BwEG1H68lFjS",
        "colab_type": "code",
        "colab": {}
      },
      "source": [
        ""
      ],
      "execution_count": 0,
      "outputs": []
    },
    {
      "cell_type": "code",
      "metadata": {
        "id": "5zz5INxJrrOn",
        "colab_type": "code",
        "outputId": "f762c6f5-9fc5-40ae-eb0b-255c692697c4",
        "colab": {
          "base_uri": "https://localhost:8080/",
          "height": 238
        }
      },
      "source": [
        "try:\n",
        "  print(requests.get('http://localhost:8503/v1/models/text').content.decode())\n",
        "except:\n",
        "  pass"
      ],
      "execution_count": 0,
      "outputs": [
        {
          "output_type": "stream",
          "text": [
            "{\n",
            " \"model_version_status\": [\n",
            "  {\n",
            "   \"version\": \"1\",\n",
            "   \"state\": \"AVAILABLE\",\n",
            "   \"status\": {\n",
            "    \"error_code\": \"OK\",\n",
            "    \"error_message\": \"\"\n",
            "   }\n",
            "  }\n",
            " ]\n",
            "}\n",
            "\n"
          ],
          "name": "stdout"
        }
      ]
    },
    {
      "cell_type": "markdown",
      "metadata": {
        "id": "3DvaB_H8rXhX",
        "colab_type": "text"
      },
      "source": [
        "<h1>Evaluacion del modelo</h1>\n",
        "<p>El modelo se evalua con la primera entrada del texto cuyos tags son: <br>Socialdemocracia|Movimiento 5 Estrellas</p>"
      ]
    },
    {
      "cell_type": "code",
      "metadata": {
        "id": "2_VYbDCWrUol",
        "colab_type": "code",
        "colab": {}
      },
      "source": [
        "import json\n",
        "import numpy as np"
      ],
      "execution_count": 0,
      "outputs": []
    },
    {
      "cell_type": "code",
      "metadata": {
        "id": "sdsuhzulgMwB",
        "colab_type": "code",
        "outputId": "5a47dc75-53aa-4688-fac0-709241780888",
        "colab": {
          "base_uri": "https://localhost:8080/",
          "height": 34
        }
      },
      "source": [
        "title = 'Las bases del M5S apoyan por mayoría la coalición de gobierno en Italia con el PD'\n",
        "section = 'mundo'\n",
        "instances = [{\"seccion\":[section], \"title\":[title]}]\n",
        "data = json.dumps({\"signature_name\": \"serving_default\", 'examples':instances})\n",
        "requests.post('http://localhost:8503/v1/models/text:classify', data=data).content"
      ],
      "execution_count": 0,
      "outputs": [
        {
          "output_type": "execute_result",
          "data": {
            "text/plain": [
              "b'{ \"error\": \"Expected classification signature method_name to be tensorflow/serving/classify. Was: tensorflow/serving/predict\" }'"
            ]
          },
          "metadata": {
            "tags": []
          },
          "execution_count": 27
        }
      ]
    },
    {
      "cell_type": "code",
      "metadata": {
        "id": "5Vpy8fSVWzbZ",
        "colab_type": "code",
        "colab": {}
      },
      "source": [
        "{'socialdemocracia': 0.5, 'otra': 0.2,... }"
      ],
      "execution_count": 0,
      "outputs": []
    },
    {
      "cell_type": "markdown",
      "metadata": {
        "id": "euMKPtzkeUri",
        "colab_type": "text"
      },
      "source": [
        ""
      ]
    },
    {
      "cell_type": "code",
      "metadata": {
        "id": "0lQe7Y9Ah7Dw",
        "colab_type": "code",
        "outputId": "e853442b-0704-448b-c80c-522670ef9976",
        "colab": {
          "base_uri": "https://localhost:8080/",
          "height": 231
        }
      },
      "source": [
        "with open('tags_tokenizer.pickle', 'rb') as handle:\n",
        "    tags_tokenizer = pickle.load(handle)\n",
        "\n",
        "_, seq = np.where(np.array(json.loads(predictions)['predictions']) > 0.5)\n",
        "for tag in seq:\n",
        "  print(tags_tokenizer.sequences_to_texts([[tag]]))"
      ],
      "execution_count": 0,
      "outputs": [
        {
          "output_type": "error",
          "ename": "FileNotFoundError",
          "evalue": "ignored",
          "traceback": [
            "\u001b[0;31m---------------------------------------------------------------------------\u001b[0m",
            "\u001b[0;31mFileNotFoundError\u001b[0m                         Traceback (most recent call last)",
            "\u001b[0;32m<ipython-input-27-a30fb4d55c47>\u001b[0m in \u001b[0;36m<module>\u001b[0;34m()\u001b[0m\n\u001b[0;32m----> 1\u001b[0;31m \u001b[0;32mwith\u001b[0m \u001b[0mopen\u001b[0m\u001b[0;34m(\u001b[0m\u001b[0;34m'tags_tokenizer.pickle'\u001b[0m\u001b[0;34m,\u001b[0m \u001b[0;34m'rb'\u001b[0m\u001b[0;34m)\u001b[0m \u001b[0;32mas\u001b[0m \u001b[0mhandle\u001b[0m\u001b[0;34m:\u001b[0m\u001b[0;34m\u001b[0m\u001b[0;34m\u001b[0m\u001b[0m\n\u001b[0m\u001b[1;32m      2\u001b[0m     \u001b[0mtags_tokenizer\u001b[0m \u001b[0;34m=\u001b[0m \u001b[0mpickle\u001b[0m\u001b[0;34m.\u001b[0m\u001b[0mload\u001b[0m\u001b[0;34m(\u001b[0m\u001b[0mhandle\u001b[0m\u001b[0;34m)\u001b[0m\u001b[0;34m\u001b[0m\u001b[0;34m\u001b[0m\u001b[0m\n\u001b[1;32m      3\u001b[0m \u001b[0;34m\u001b[0m\u001b[0m\n\u001b[1;32m      4\u001b[0m \u001b[0m_\u001b[0m\u001b[0;34m,\u001b[0m \u001b[0mseq\u001b[0m \u001b[0;34m=\u001b[0m \u001b[0mnp\u001b[0m\u001b[0;34m.\u001b[0m\u001b[0mwhere\u001b[0m\u001b[0;34m(\u001b[0m\u001b[0mnp\u001b[0m\u001b[0;34m.\u001b[0m\u001b[0marray\u001b[0m\u001b[0;34m(\u001b[0m\u001b[0mjson\u001b[0m\u001b[0;34m.\u001b[0m\u001b[0mloads\u001b[0m\u001b[0;34m(\u001b[0m\u001b[0mpredictions\u001b[0m\u001b[0;34m)\u001b[0m\u001b[0;34m[\u001b[0m\u001b[0;34m'predictions'\u001b[0m\u001b[0;34m]\u001b[0m\u001b[0;34m)\u001b[0m \u001b[0;34m>\u001b[0m \u001b[0;36m0.5\u001b[0m\u001b[0;34m)\u001b[0m\u001b[0;34m\u001b[0m\u001b[0;34m\u001b[0m\u001b[0m\n\u001b[1;32m      5\u001b[0m \u001b[0;32mfor\u001b[0m \u001b[0mtag\u001b[0m \u001b[0;32min\u001b[0m \u001b[0mseq\u001b[0m\u001b[0;34m:\u001b[0m\u001b[0;34m\u001b[0m\u001b[0;34m\u001b[0m\u001b[0m\n",
            "\u001b[0;31mFileNotFoundError\u001b[0m: [Errno 2] No such file or directory: 'tags_tokenizer.pickle'"
          ]
        }
      ]
    },
    {
      "cell_type": "code",
      "metadata": {
        "id": "PdXrxx_DHldj",
        "colab_type": "code",
        "outputId": "23febd0b-8c91-4ddb-e2aa-5aa38c1dfa1e",
        "colab": {
          "base_uri": "https://localhost:8080/",
          "height": 34
        }
      },
      "source": [
        ""
      ],
      "execution_count": 0,
      "outputs": [
        {
          "output_type": "execute_result",
          "data": {
            "text/plain": [
              "<tensorflow.python.keras.engine.training.Model at 0x7f9c56669160>"
            ]
          },
          "metadata": {
            "tags": []
          },
          "execution_count": 28
        }
      ]
    },
    {
      "cell_type": "code",
      "metadata": {
        "id": "zWblpLG8Hnms",
        "colab_type": "code",
        "outputId": "49e3aa86-9f8d-47e4-e588-b4afd612c3c3",
        "colab": {
          "base_uri": "https://localhost:8080/",
          "height": 272
        }
      },
      "source": [
        "!saved_model_cli show --dir textclassifier/1 --tag_set serve --signature_def serving_default"
      ],
      "execution_count": 0,
      "outputs": [
        {
          "output_type": "stream",
          "text": [
            "The given SavedModel SignatureDef contains the following input(s):\n",
            "  inputs['seccion'] tensor_info:\n",
            "      dtype: DT_STRING\n",
            "      shape: (-1, 1)\n",
            "      name: serving_default_seccion:0\n",
            "  inputs['title'] tensor_info:\n",
            "      dtype: DT_STRING\n",
            "      shape: (-1, 1)\n",
            "      name: serving_default_title:0\n",
            "The given SavedModel SignatureDef contains the following output(s):\n",
            "  outputs['model'] tensor_info:\n",
            "      dtype: DT_FLOAT\n",
            "      shape: (-1, 255)\n",
            "      name: StatefulPartitionedCall_2:0\n",
            "Method name is: tensorflow/serving/predict\n"
          ],
          "name": "stdout"
        }
      ]
    },
    {
      "cell_type": "code",
      "metadata": {
        "id": "EX0WJRGaRADK",
        "colab_type": "code",
        "colab": {}
      },
      "source": [
        "class MyModule(tf.Module):\n",
        "  def __init__(self, model):\n",
        "    self.model = model\n",
        "\n",
        "  @tf.function(input_signature=[{'seccion':tf.TensorSpec(shape=(), dtype=tf.string),\n",
        "                                'title': tf.TensorSpec(shape=(), dtype=tf.string)}])\n",
        "  def score(self, string_inputs):\n",
        "    result = self.model(string_inputs)\n",
        "    return { \"scores\": results }\n",
        "modulemodel = MyModule(new_model)"
      ],
      "execution_count": 0,
      "outputs": []
    },
    {
      "cell_type": "code",
      "metadata": {
        "id": "BEVkJKRGchRF",
        "colab_type": "code",
        "outputId": "b5a2a64a-f28d-4930-f816-c0705e538778",
        "colab": {
          "base_uri": "https://localhost:8080/",
          "height": 989
        }
      },
      "source": [
        "modulemodel.score({'seccion':['mundo'], 'title':['la socialdemocracia']})"
      ],
      "execution_count": 0,
      "outputs": [
        {
          "output_type": "error",
          "ename": "ValueError",
          "evalue": "ignored",
          "traceback": [
            "\u001b[0;31m---------------------------------------------------------------------------\u001b[0m",
            "\u001b[0;31mValueError\u001b[0m                                Traceback (most recent call last)",
            "\u001b[0;32m<ipython-input-69-8e16928ec311>\u001b[0m in \u001b[0;36m<module>\u001b[0;34m()\u001b[0m\n\u001b[0;32m----> 1\u001b[0;31m \u001b[0mmodulemodel\u001b[0m\u001b[0;34m.\u001b[0m\u001b[0mscore\u001b[0m\u001b[0;34m(\u001b[0m\u001b[0;34m{\u001b[0m\u001b[0;34m'seccion'\u001b[0m\u001b[0;34m:\u001b[0m\u001b[0;34m[\u001b[0m\u001b[0;34m'mundo'\u001b[0m\u001b[0;34m]\u001b[0m\u001b[0;34m,\u001b[0m \u001b[0;34m'title'\u001b[0m\u001b[0;34m:\u001b[0m\u001b[0;34m[\u001b[0m\u001b[0;34m'la socialdemocracia'\u001b[0m\u001b[0;34m]\u001b[0m\u001b[0;34m}\u001b[0m\u001b[0;34m)\u001b[0m\u001b[0;34m\u001b[0m\u001b[0;34m\u001b[0m\u001b[0m\n\u001b[0m",
            "\u001b[0;32m/tensorflow-2.0.0-rc1/python3.6/tensorflow_core/python/eager/def_function.py\u001b[0m in \u001b[0;36m__call__\u001b[0;34m(self, *args, **kwds)\u001b[0m\n\u001b[1;32m    455\u001b[0m \u001b[0;34m\u001b[0m\u001b[0m\n\u001b[1;32m    456\u001b[0m     \u001b[0mtracing_count\u001b[0m \u001b[0;34m=\u001b[0m \u001b[0mself\u001b[0m\u001b[0;34m.\u001b[0m\u001b[0m_get_tracing_count\u001b[0m\u001b[0;34m(\u001b[0m\u001b[0;34m)\u001b[0m\u001b[0;34m\u001b[0m\u001b[0;34m\u001b[0m\u001b[0m\n\u001b[0;32m--> 457\u001b[0;31m     \u001b[0mresult\u001b[0m \u001b[0;34m=\u001b[0m \u001b[0mself\u001b[0m\u001b[0;34m.\u001b[0m\u001b[0m_call\u001b[0m\u001b[0;34m(\u001b[0m\u001b[0;34m*\u001b[0m\u001b[0margs\u001b[0m\u001b[0;34m,\u001b[0m \u001b[0;34m**\u001b[0m\u001b[0mkwds\u001b[0m\u001b[0;34m)\u001b[0m\u001b[0;34m\u001b[0m\u001b[0;34m\u001b[0m\u001b[0m\n\u001b[0m\u001b[1;32m    458\u001b[0m     \u001b[0;32mif\u001b[0m \u001b[0mtracing_count\u001b[0m \u001b[0;34m==\u001b[0m \u001b[0mself\u001b[0m\u001b[0;34m.\u001b[0m\u001b[0m_get_tracing_count\u001b[0m\u001b[0;34m(\u001b[0m\u001b[0;34m)\u001b[0m\u001b[0;34m:\u001b[0m\u001b[0;34m\u001b[0m\u001b[0;34m\u001b[0m\u001b[0m\n\u001b[1;32m    459\u001b[0m       \u001b[0mself\u001b[0m\u001b[0;34m.\u001b[0m\u001b[0m_call_counter\u001b[0m\u001b[0;34m.\u001b[0m\u001b[0mcalled_without_tracing\u001b[0m\u001b[0;34m(\u001b[0m\u001b[0;34m)\u001b[0m\u001b[0;34m\u001b[0m\u001b[0;34m\u001b[0m\u001b[0m\n",
            "\u001b[0;32m/tensorflow-2.0.0-rc1/python3.6/tensorflow_core/python/eager/def_function.py\u001b[0m in \u001b[0;36m_call\u001b[0;34m(self, *args, **kwds)\u001b[0m\n\u001b[1;32m    492\u001b[0m       \u001b[0;31m# In this case we have not created variables on the first call. So we can\u001b[0m\u001b[0;34m\u001b[0m\u001b[0;34m\u001b[0m\u001b[0;34m\u001b[0m\u001b[0m\n\u001b[1;32m    493\u001b[0m       \u001b[0;31m# run the first trace but we should fail if variables are created.\u001b[0m\u001b[0;34m\u001b[0m\u001b[0;34m\u001b[0m\u001b[0;34m\u001b[0m\u001b[0m\n\u001b[0;32m--> 494\u001b[0;31m       \u001b[0mresults\u001b[0m \u001b[0;34m=\u001b[0m \u001b[0mself\u001b[0m\u001b[0;34m.\u001b[0m\u001b[0m_stateful_fn\u001b[0m\u001b[0;34m(\u001b[0m\u001b[0;34m*\u001b[0m\u001b[0margs\u001b[0m\u001b[0;34m,\u001b[0m \u001b[0;34m**\u001b[0m\u001b[0mkwds\u001b[0m\u001b[0;34m)\u001b[0m\u001b[0;34m\u001b[0m\u001b[0;34m\u001b[0m\u001b[0m\n\u001b[0m\u001b[1;32m    495\u001b[0m       \u001b[0;32mif\u001b[0m \u001b[0mself\u001b[0m\u001b[0;34m.\u001b[0m\u001b[0m_created_variables\u001b[0m\u001b[0;34m:\u001b[0m\u001b[0;34m\u001b[0m\u001b[0;34m\u001b[0m\u001b[0m\n\u001b[1;32m    496\u001b[0m         raise ValueError(\"Creating variables on a non-first call to a function\"\n",
            "\u001b[0;32m/tensorflow-2.0.0-rc1/python3.6/tensorflow_core/python/eager/function.py\u001b[0m in \u001b[0;36m__call__\u001b[0;34m(self, *args, **kwargs)\u001b[0m\n\u001b[1;32m   1820\u001b[0m   \u001b[0;32mdef\u001b[0m \u001b[0m__call__\u001b[0m\u001b[0;34m(\u001b[0m\u001b[0mself\u001b[0m\u001b[0;34m,\u001b[0m \u001b[0;34m*\u001b[0m\u001b[0margs\u001b[0m\u001b[0;34m,\u001b[0m \u001b[0;34m**\u001b[0m\u001b[0mkwargs\u001b[0m\u001b[0;34m)\u001b[0m\u001b[0;34m:\u001b[0m\u001b[0;34m\u001b[0m\u001b[0;34m\u001b[0m\u001b[0m\n\u001b[1;32m   1821\u001b[0m     \u001b[0;34m\"\"\"Calls a graph function specialized to the inputs.\"\"\"\u001b[0m\u001b[0;34m\u001b[0m\u001b[0;34m\u001b[0m\u001b[0m\n\u001b[0;32m-> 1822\u001b[0;31m     \u001b[0mgraph_function\u001b[0m\u001b[0;34m,\u001b[0m \u001b[0margs\u001b[0m\u001b[0;34m,\u001b[0m \u001b[0mkwargs\u001b[0m \u001b[0;34m=\u001b[0m \u001b[0mself\u001b[0m\u001b[0;34m.\u001b[0m\u001b[0m_maybe_define_function\u001b[0m\u001b[0;34m(\u001b[0m\u001b[0margs\u001b[0m\u001b[0;34m,\u001b[0m \u001b[0mkwargs\u001b[0m\u001b[0;34m)\u001b[0m\u001b[0;34m\u001b[0m\u001b[0;34m\u001b[0m\u001b[0m\n\u001b[0m\u001b[1;32m   1823\u001b[0m     \u001b[0;32mreturn\u001b[0m \u001b[0mgraph_function\u001b[0m\u001b[0;34m.\u001b[0m\u001b[0m_filtered_call\u001b[0m\u001b[0;34m(\u001b[0m\u001b[0margs\u001b[0m\u001b[0;34m,\u001b[0m \u001b[0mkwargs\u001b[0m\u001b[0;34m)\u001b[0m  \u001b[0;31m# pylint: disable=protected-access\u001b[0m\u001b[0;34m\u001b[0m\u001b[0;34m\u001b[0m\u001b[0m\n\u001b[1;32m   1824\u001b[0m \u001b[0;34m\u001b[0m\u001b[0m\n",
            "\u001b[0;32m/tensorflow-2.0.0-rc1/python3.6/tensorflow_core/python/eager/function.py\u001b[0m in \u001b[0;36m_maybe_define_function\u001b[0;34m(self, args, kwargs)\u001b[0m\n\u001b[1;32m   2105\u001b[0m     \u001b[0;32mif\u001b[0m \u001b[0mself\u001b[0m\u001b[0;34m.\u001b[0m\u001b[0minput_signature\u001b[0m \u001b[0;32mis\u001b[0m \u001b[0;32mNone\u001b[0m \u001b[0;32mor\u001b[0m \u001b[0margs\u001b[0m \u001b[0;32mis\u001b[0m \u001b[0;32mnot\u001b[0m \u001b[0;32mNone\u001b[0m \u001b[0;32mor\u001b[0m \u001b[0mkwargs\u001b[0m \u001b[0;32mis\u001b[0m \u001b[0;32mnot\u001b[0m \u001b[0;32mNone\u001b[0m\u001b[0;34m:\u001b[0m\u001b[0;34m\u001b[0m\u001b[0;34m\u001b[0m\u001b[0m\n\u001b[1;32m   2106\u001b[0m       args, kwargs = self._function_spec.canonicalize_function_inputs(\n\u001b[0;32m-> 2107\u001b[0;31m           *args, **kwargs)\n\u001b[0m\u001b[1;32m   2108\u001b[0m \u001b[0;34m\u001b[0m\u001b[0m\n\u001b[1;32m   2109\u001b[0m     \u001b[0mcache_key\u001b[0m \u001b[0;34m=\u001b[0m \u001b[0mself\u001b[0m\u001b[0;34m.\u001b[0m\u001b[0m_cache_key\u001b[0m\u001b[0;34m(\u001b[0m\u001b[0margs\u001b[0m\u001b[0;34m,\u001b[0m \u001b[0mkwargs\u001b[0m\u001b[0;34m)\u001b[0m\u001b[0;34m\u001b[0m\u001b[0;34m\u001b[0m\u001b[0m\n",
            "\u001b[0;32m/tensorflow-2.0.0-rc1/python3.6/tensorflow_core/python/eager/function.py\u001b[0m in \u001b[0;36mcanonicalize_function_inputs\u001b[0;34m(self, *args, **kwargs)\u001b[0m\n\u001b[1;32m   1648\u001b[0m           \u001b[0minputs\u001b[0m\u001b[0;34m,\u001b[0m\u001b[0;34m\u001b[0m\u001b[0;34m\u001b[0m\u001b[0m\n\u001b[1;32m   1649\u001b[0m           \u001b[0mself\u001b[0m\u001b[0;34m.\u001b[0m\u001b[0m_input_signature\u001b[0m\u001b[0;34m,\u001b[0m\u001b[0;34m\u001b[0m\u001b[0;34m\u001b[0m\u001b[0m\n\u001b[0;32m-> 1650\u001b[0;31m           self._flat_input_signature)\n\u001b[0m\u001b[1;32m   1651\u001b[0m       \u001b[0;32mreturn\u001b[0m \u001b[0minputs\u001b[0m\u001b[0;34m,\u001b[0m \u001b[0;34m{\u001b[0m\u001b[0;34m}\u001b[0m\u001b[0;34m\u001b[0m\u001b[0;34m\u001b[0m\u001b[0m\n\u001b[1;32m   1652\u001b[0m \u001b[0;34m\u001b[0m\u001b[0m\n",
            "\u001b[0;32m/tensorflow-2.0.0-rc1/python3.6/tensorflow_core/python/eager/function.py\u001b[0m in \u001b[0;36m_convert_inputs_to_signature\u001b[0;34m(inputs, input_signature, flat_input_signature)\u001b[0m\n\u001b[1;32m   1714\u001b[0m       flatten_inputs)):\n\u001b[1;32m   1715\u001b[0m     raise ValueError(\"Python inputs incompatible with input_signature:\\n%s\" %\n\u001b[0;32m-> 1716\u001b[0;31m                      format_error_message(inputs, input_signature))\n\u001b[0m\u001b[1;32m   1717\u001b[0m \u001b[0;34m\u001b[0m\u001b[0m\n\u001b[1;32m   1718\u001b[0m   \u001b[0;32mif\u001b[0m \u001b[0mneed_packing\u001b[0m\u001b[0;34m:\u001b[0m\u001b[0;34m\u001b[0m\u001b[0;34m\u001b[0m\u001b[0m\n",
            "\u001b[0;31mValueError\u001b[0m: Python inputs incompatible with input_signature:\n  inputs: (\n    {'seccion': ['mundo'], 'title': ['la socialdemocracia']})\n  input_signature: (\n    {'seccion': TensorSpec(shape=(), dtype=tf.string, name=None), 'title': TensorSpec(shape=(), dtype=tf.string, name=None)})"
          ]
        }
      ]
    },
    {
      "cell_type": "code",
      "metadata": {
        "id": "TfrztfCNXQbu",
        "colab_type": "code",
        "outputId": "d9f4ce60-77e3-461f-bb21-f79248ea8b11",
        "colab": {
          "base_uri": "https://localhost:8080/",
          "height": 68
        }
      },
      "source": [
        "!saved_model_cli show --dir test/1 --tag_set serve"
      ],
      "execution_count": 0,
      "outputs": [
        {
          "output_type": "stream",
          "text": [
            "The given SavedModel MetaGraphDef contains SignatureDefs with the following keys:\n",
            "SignatureDef key: \"__saved_model_init_op\"\n",
            "SignatureDef key: \"serving_default\"\n"
          ],
          "name": "stdout"
        }
      ]
    },
    {
      "cell_type": "code",
      "metadata": {
        "id": "ZoBBlXEnJgnW",
        "colab_type": "code",
        "colab": {}
      },
      "source": [
        "load_model = tf.saved_model.load('textclassifier/1')"
      ],
      "execution_count": 0,
      "outputs": []
    },
    {
      "cell_type": "code",
      "metadata": {
        "id": "NEHzF4HFLjS0",
        "colab_type": "code",
        "outputId": "516aecfb-62e1-4008-87cb-cb6f2d636fbb",
        "colab": {
          "base_uri": "https://localhost:8080/",
          "height": 34
        }
      },
      "source": [
        "load_model.signatures['serving_default']"
      ],
      "execution_count": 0,
      "outputs": [
        {
          "output_type": "execute_result",
          "data": {
            "text/plain": [
              "<tensorflow.python.saved_model.load._WrapperFunction at 0x7f9c555c3f28>"
            ]
          },
          "metadata": {
            "tags": []
          },
          "execution_count": 32
        }
      ]
    },
    {
      "cell_type": "code",
      "metadata": {
        "id": "Y8eIdwVULlPs",
        "colab_type": "code",
        "outputId": "6b2e8578-7b94-4a7e-ca6e-e63f36ee80f1",
        "colab": {
          "base_uri": "https://localhost:8080/",
          "height": 34
        }
      },
      "source": [
        "tf.saved_model.save()"
      ],
      "execution_count": 0,
      "outputs": [
        {
          "output_type": "execute_result",
          "data": {
            "text/plain": [
              "False"
            ]
          },
          "metadata": {
            "tags": []
          },
          "execution_count": 33
        }
      ]
    },
    {
      "cell_type": "code",
      "metadata": {
        "id": "aXcZtFcpMg9t",
        "colab_type": "code",
        "colab": {}
      },
      "source": [
        ""
      ],
      "execution_count": 0,
      "outputs": []
    }
  ]
}